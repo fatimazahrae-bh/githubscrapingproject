{
 "cells": [
  {
   "cell_type": "code",
   "execution_count": 1,
   "id": "682a522a",
   "metadata": {},
   "outputs": [],
   "source": [
    "import pandas as pd\n",
    "import seaborn as sns"
   ]
  },
  {
   "cell_type": "code",
   "execution_count": 58,
   "id": "b14ae277",
   "metadata": {
    "scrolled": true
   },
   "outputs": [
    {
     "data": {
      "text/html": [
       "<div>\n",
       "<style scoped>\n",
       "    .dataframe tbody tr th:only-of-type {\n",
       "        vertical-align: middle;\n",
       "    }\n",
       "\n",
       "    .dataframe tbody tr th {\n",
       "        vertical-align: top;\n",
       "    }\n",
       "\n",
       "    .dataframe thead th {\n",
       "        text-align: right;\n",
       "    }\n",
       "</style>\n",
       "<table border=\"1\" class=\"dataframe\">\n",
       "  <thead>\n",
       "    <tr style=\"text-align: right;\">\n",
       "      <th></th>\n",
       "      <th>Unnamed: 0</th>\n",
       "      <th>index</th>\n",
       "      <th>name</th>\n",
       "      <th>full_name</th>\n",
       "      <th>html_url</th>\n",
       "      <th>owner</th>\n",
       "      <th>description</th>\n",
       "      <th>created_at</th>\n",
       "      <th>updated_at</th>\n",
       "      <th>pushed_at</th>\n",
       "      <th>stargazers_count</th>\n",
       "      <th>language</th>\n",
       "      <th>forks_count</th>\n",
       "      <th>topics</th>\n",
       "      <th>contributors_url</th>\n",
       "      <th>license</th>\n",
       "      <th>commits_url</th>\n",
       "    </tr>\n",
       "  </thead>\n",
       "  <tbody>\n",
       "    <tr>\n",
       "      <th>0</th>\n",
       "      <td>0</td>\n",
       "      <td>1</td>\n",
       "      <td>Deep-Learning-21-Examples</td>\n",
       "      <td>hzy46/Deep-Learning-21-Examples</td>\n",
       "      <td>https://github.com/hzy46/Deep-Learning-21-Exam...</td>\n",
       "      <td>{'login': 'hzy46', 'id': 7499023, 'node_id': '...</td>\n",
       "      <td>《21个项目玩转深度学习———基于TensorFlow的实践详解》配套代码</td>\n",
       "      <td>2018-01-01 11:07:50+00:00</td>\n",
       "      <td>2023-06-15 01:40:09+00:00</td>\n",
       "      <td>2019-03-18 12:27:24+00:00</td>\n",
       "      <td>4340</td>\n",
       "      <td>Python</td>\n",
       "      <td>1774</td>\n",
       "      <td>['Deep-Learning-21-Examples', 'Python']</td>\n",
       "      <td>https://api.github.com/repos/hzy46/Deep-Learni...</td>\n",
       "      <td>No license</td>\n",
       "      <td>https://api.github.com/repos/hzy46/Deep-Learni...</td>\n",
       "    </tr>\n",
       "    <tr>\n",
       "      <th>1</th>\n",
       "      <td>1</td>\n",
       "      <td>2</td>\n",
       "      <td>lit</td>\n",
       "      <td>ajusa/lit</td>\n",
       "      <td>https://github.com/ajusa/lit</td>\n",
       "      <td>{'login': 'ajusa', 'id': 7073362, 'node_id': '...</td>\n",
       "      <td>World's smallest responsive 🔥 css framework (3...</td>\n",
       "      <td>2018-01-01 17:00:44+00:00</td>\n",
       "      <td>2023-06-07 04:50:02+00:00</td>\n",
       "      <td>2022-12-11 14:16:51+00:00</td>\n",
       "      <td>1969</td>\n",
       "      <td>CSS</td>\n",
       "      <td>93</td>\n",
       "      <td>['css', 'css-framework', 'flat', 'lit', 'micro...</td>\n",
       "      <td>https://api.github.com/repos/ajusa/lit/contrib...</td>\n",
       "      <td>{'key': 'mit', 'name': 'MIT License', 'spdx_id...</td>\n",
       "      <td>https://api.github.com/repos/ajusa/lit/commits...</td>\n",
       "    </tr>\n",
       "    <tr>\n",
       "      <th>2</th>\n",
       "      <td>2</td>\n",
       "      <td>3</td>\n",
       "      <td>hdl_graph_slam</td>\n",
       "      <td>koide3/hdl_graph_slam</td>\n",
       "      <td>https://github.com/koide3/hdl_graph_slam</td>\n",
       "      <td>{'login': 'koide3', 'id': 31344317, 'node_id':...</td>\n",
       "      <td>3D LIDAR-based Graph SLAM</td>\n",
       "      <td>2018-01-01 07:35:43+00:00</td>\n",
       "      <td>2023-06-16 01:45:47+00:00</td>\n",
       "      <td>2023-02-28 09:14:43+00:00</td>\n",
       "      <td>1644</td>\n",
       "      <td>C++</td>\n",
       "      <td>693</td>\n",
       "      <td>['hdl-graph-slam', 'lidar', 'point-cloud', 'ro...</td>\n",
       "      <td>https://api.github.com/repos/koide3/hdl_graph_...</td>\n",
       "      <td>{'key': 'bsd-2-clause', 'name': 'BSD 2-Clause ...</td>\n",
       "      <td>https://api.github.com/repos/koide3/hdl_graph_...</td>\n",
       "    </tr>\n",
       "    <tr>\n",
       "      <th>3</th>\n",
       "      <td>3</td>\n",
       "      <td>4</td>\n",
       "      <td>react-projects</td>\n",
       "      <td>ajayns/react-projects</td>\n",
       "      <td>https://github.com/ajayns/react-projects</td>\n",
       "      <td>{'login': 'ajayns', 'id': 20743219, 'node_id':...</td>\n",
       "      <td>A collection of projects built on the React li...</td>\n",
       "      <td>2018-01-01 05:51:39+00:00</td>\n",
       "      <td>2023-06-16 07:18:32+00:00</td>\n",
       "      <td>2023-05-19 15:38:57+00:00</td>\n",
       "      <td>1362</td>\n",
       "      <td>JavaScript</td>\n",
       "      <td>607</td>\n",
       "      <td>['jsx', 'projects', 'react', 'react-router', '...</td>\n",
       "      <td>https://api.github.com/repos/ajayns/react-proj...</td>\n",
       "      <td>No license</td>\n",
       "      <td>https://api.github.com/repos/ajayns/react-proj...</td>\n",
       "    </tr>\n",
       "    <tr>\n",
       "      <th>4</th>\n",
       "      <td>4</td>\n",
       "      <td>5</td>\n",
       "      <td>weixin</td>\n",
       "      <td>game-helper/weixin</td>\n",
       "      <td>https://github.com/game-helper/weixin</td>\n",
       "      <td>{'login': 'game-helper', 'id': 36100803, 'node...</td>\n",
       "      <td>微信小游戏辅助合集（加减大师、包你懂我、大家来找茬腾讯版、头脑王者、好友画我、悦动音符、我最...</td>\n",
       "      <td>2018-01-01 05:16:44+00:00</td>\n",
       "      <td>2023-06-15 15:39:12+00:00</td>\n",
       "      <td>2018-07-24 03:35:03+00:00</td>\n",
       "      <td>1307</td>\n",
       "      <td>JavaScript</td>\n",
       "      <td>394</td>\n",
       "      <td>['anyproxy', 'charles', 'crawl', 'fiddler', 'g...</td>\n",
       "      <td>https://api.github.com/repos/game-helper/weixi...</td>\n",
       "      <td>{'key': 'gpl-3.0', 'name': 'GNU General Public...</td>\n",
       "      <td>https://api.github.com/repos/game-helper/weixi...</td>\n",
       "    </tr>\n",
       "    <tr>\n",
       "      <th>...</th>\n",
       "      <td>...</td>\n",
       "      <td>...</td>\n",
       "      <td>...</td>\n",
       "      <td>...</td>\n",
       "      <td>...</td>\n",
       "      <td>...</td>\n",
       "      <td>...</td>\n",
       "      <td>...</td>\n",
       "      <td>...</td>\n",
       "      <td>...</td>\n",
       "      <td>...</td>\n",
       "      <td>...</td>\n",
       "      <td>...</td>\n",
       "      <td>...</td>\n",
       "      <td>...</td>\n",
       "      <td>...</td>\n",
       "      <td>...</td>\n",
       "    </tr>\n",
       "    <tr>\n",
       "      <th>19995</th>\n",
       "      <td>19995</td>\n",
       "      <td>21668</td>\n",
       "      <td>aws-amplify-workshop-web</td>\n",
       "      <td>dabit3/aws-amplify-workshop-web</td>\n",
       "      <td>https://github.com/dabit3/aws-amplify-workshop...</td>\n",
       "      <td>{'login': 'dabit3', 'id': 1857282, 'node_id': ...</td>\n",
       "      <td>Building web applications with React &amp; AWS Amp...</td>\n",
       "      <td>2018-08-05 21:04:07+00:00</td>\n",
       "      <td>2023-04-20 22:26:31+00:00</td>\n",
       "      <td>2021-05-27 18:29:06+00:00</td>\n",
       "      <td>89</td>\n",
       "      <td>JavaScript</td>\n",
       "      <td>20</td>\n",
       "      <td>['aws-amplify-workshop-web', 'JavaScript']</td>\n",
       "      <td>https://api.github.com/repos/dabit3/aws-amplif...</td>\n",
       "      <td>No license</td>\n",
       "      <td>https://api.github.com/repos/dabit3/aws-amplif...</td>\n",
       "    </tr>\n",
       "    <tr>\n",
       "      <th>19996</th>\n",
       "      <td>19996</td>\n",
       "      <td>21669</td>\n",
       "      <td>rux</td>\n",
       "      <td>gookit/rux</td>\n",
       "      <td>https://github.com/gookit/rux</td>\n",
       "      <td>{'login': 'gookit', 'id': 40689636, 'node_id':...</td>\n",
       "      <td>⚡ Rux is an simple and fast web framework. sup...</td>\n",
       "      <td>2018-08-05 06:13:57+00:00</td>\n",
       "      <td>2023-03-04 12:52:47+00:00</td>\n",
       "      <td>2023-06-12 04:56:59+00:00</td>\n",
       "      <td>89</td>\n",
       "      <td>Go</td>\n",
       "      <td>14</td>\n",
       "      <td>['go', 'http-handler', 'http-middleware', 'htt...</td>\n",
       "      <td>https://api.github.com/repos/gookit/rux/contri...</td>\n",
       "      <td>{'key': 'mit', 'name': 'MIT License', 'spdx_id...</td>\n",
       "      <td>https://api.github.com/repos/gookit/rux/commit...</td>\n",
       "    </tr>\n",
       "    <tr>\n",
       "      <th>19997</th>\n",
       "      <td>19997</td>\n",
       "      <td>21670</td>\n",
       "      <td>brickcontroller2</td>\n",
       "      <td>imurvai/brickcontroller2</td>\n",
       "      <td>https://github.com/imurvai/brickcontroller2</td>\n",
       "      <td>{'login': 'imurvai', 'id': 16706969, 'node_id'...</td>\n",
       "      <td>Cross platform application for controlling Leg...</td>\n",
       "      <td>2018-08-05 12:21:36+00:00</td>\n",
       "      <td>2023-06-13 05:34:29+00:00</td>\n",
       "      <td>2022-12-31 10:12:24+00:00</td>\n",
       "      <td>87</td>\n",
       "      <td>C#</td>\n",
       "      <td>23</td>\n",
       "      <td>['brickcontroller2', 'C#']</td>\n",
       "      <td>https://api.github.com/repos/imurvai/brickcont...</td>\n",
       "      <td>No license</td>\n",
       "      <td>https://api.github.com/repos/imurvai/brickcont...</td>\n",
       "    </tr>\n",
       "    <tr>\n",
       "      <th>19998</th>\n",
       "      <td>19998</td>\n",
       "      <td>21671</td>\n",
       "      <td>awesome-python-cheatsheets</td>\n",
       "      <td>akashp1712/awesome-python-cheatsheets</td>\n",
       "      <td>https://github.com/akashp1712/awesome-python-c...</td>\n",
       "      <td>{'login': 'akashp1712', 'id': 11018283, 'node_...</td>\n",
       "      <td>A reference cheat sheet for Java developers wh...</td>\n",
       "      <td>2018-08-05 12:30:21+00:00</td>\n",
       "      <td>2023-06-04 01:10:03+00:00</td>\n",
       "      <td>2023-01-16 07:31:43+00:00</td>\n",
       "      <td>86</td>\n",
       "      <td>TeX</td>\n",
       "      <td>14</td>\n",
       "      <td>['cheatsheet', 'programming', 'python', 'pytho...</td>\n",
       "      <td>https://api.github.com/repos/akashp1712/awesom...</td>\n",
       "      <td>No license</td>\n",
       "      <td>https://api.github.com/repos/akashp1712/awesom...</td>\n",
       "    </tr>\n",
       "    <tr>\n",
       "      <th>19999</th>\n",
       "      <td>19999</td>\n",
       "      <td>21672</td>\n",
       "      <td>blockchain-kotlin</td>\n",
       "      <td>MaiJiantian/blockchain-kotlin</td>\n",
       "      <td>https://github.com/MaiJiantian/blockchain-kotlin</td>\n",
       "      <td>{'login': 'MaiJiantian', 'id': 35630335, 'node...</td>\n",
       "      <td>这是kotlin版的简化示例区块链demo；另外还有java版的；这个小demo能让你了解区...</td>\n",
       "      <td>2018-08-05 08:09:10+00:00</td>\n",
       "      <td>2020-10-09 06:57:46+00:00</td>\n",
       "      <td>2018-08-05 08:09:48+00:00</td>\n",
       "      <td>85</td>\n",
       "      <td>Kotlin</td>\n",
       "      <td>11</td>\n",
       "      <td>['blockchain', 'kotlin', 'websocket']</td>\n",
       "      <td>https://api.github.com/repos/MaiJiantian/block...</td>\n",
       "      <td>No license</td>\n",
       "      <td>https://api.github.com/repos/MaiJiantian/block...</td>\n",
       "    </tr>\n",
       "  </tbody>\n",
       "</table>\n",
       "<p>20000 rows × 17 columns</p>\n",
       "</div>"
      ],
      "text/plain": [
       "       Unnamed: 0  index                        name  \\\n",
       "0               0      1   Deep-Learning-21-Examples   \n",
       "1               1      2                         lit   \n",
       "2               2      3              hdl_graph_slam   \n",
       "3               3      4              react-projects   \n",
       "4               4      5                      weixin   \n",
       "...           ...    ...                         ...   \n",
       "19995       19995  21668    aws-amplify-workshop-web   \n",
       "19996       19996  21669                         rux   \n",
       "19997       19997  21670            brickcontroller2   \n",
       "19998       19998  21671  awesome-python-cheatsheets   \n",
       "19999       19999  21672           blockchain-kotlin   \n",
       "\n",
       "                                   full_name  \\\n",
       "0            hzy46/Deep-Learning-21-Examples   \n",
       "1                                  ajusa/lit   \n",
       "2                      koide3/hdl_graph_slam   \n",
       "3                      ajayns/react-projects   \n",
       "4                         game-helper/weixin   \n",
       "...                                      ...   \n",
       "19995        dabit3/aws-amplify-workshop-web   \n",
       "19996                             gookit/rux   \n",
       "19997               imurvai/brickcontroller2   \n",
       "19998  akashp1712/awesome-python-cheatsheets   \n",
       "19999          MaiJiantian/blockchain-kotlin   \n",
       "\n",
       "                                                html_url  \\\n",
       "0      https://github.com/hzy46/Deep-Learning-21-Exam...   \n",
       "1                           https://github.com/ajusa/lit   \n",
       "2               https://github.com/koide3/hdl_graph_slam   \n",
       "3               https://github.com/ajayns/react-projects   \n",
       "4                  https://github.com/game-helper/weixin   \n",
       "...                                                  ...   \n",
       "19995  https://github.com/dabit3/aws-amplify-workshop...   \n",
       "19996                      https://github.com/gookit/rux   \n",
       "19997        https://github.com/imurvai/brickcontroller2   \n",
       "19998  https://github.com/akashp1712/awesome-python-c...   \n",
       "19999   https://github.com/MaiJiantian/blockchain-kotlin   \n",
       "\n",
       "                                                   owner  \\\n",
       "0      {'login': 'hzy46', 'id': 7499023, 'node_id': '...   \n",
       "1      {'login': 'ajusa', 'id': 7073362, 'node_id': '...   \n",
       "2      {'login': 'koide3', 'id': 31344317, 'node_id':...   \n",
       "3      {'login': 'ajayns', 'id': 20743219, 'node_id':...   \n",
       "4      {'login': 'game-helper', 'id': 36100803, 'node...   \n",
       "...                                                  ...   \n",
       "19995  {'login': 'dabit3', 'id': 1857282, 'node_id': ...   \n",
       "19996  {'login': 'gookit', 'id': 40689636, 'node_id':...   \n",
       "19997  {'login': 'imurvai', 'id': 16706969, 'node_id'...   \n",
       "19998  {'login': 'akashp1712', 'id': 11018283, 'node_...   \n",
       "19999  {'login': 'MaiJiantian', 'id': 35630335, 'node...   \n",
       "\n",
       "                                             description  \\\n",
       "0                  《21个项目玩转深度学习———基于TensorFlow的实践详解》配套代码   \n",
       "1      World's smallest responsive 🔥 css framework (3...   \n",
       "2                              3D LIDAR-based Graph SLAM   \n",
       "3      A collection of projects built on the React li...   \n",
       "4      微信小游戏辅助合集（加减大师、包你懂我、大家来找茬腾讯版、头脑王者、好友画我、悦动音符、我最...   \n",
       "...                                                  ...   \n",
       "19995  Building web applications with React & AWS Amp...   \n",
       "19996  ⚡ Rux is an simple and fast web framework. sup...   \n",
       "19997  Cross platform application for controlling Leg...   \n",
       "19998  A reference cheat sheet for Java developers wh...   \n",
       "19999  这是kotlin版的简化示例区块链demo；另外还有java版的；这个小demo能让你了解区...   \n",
       "\n",
       "                      created_at                 updated_at  \\\n",
       "0      2018-01-01 11:07:50+00:00  2023-06-15 01:40:09+00:00   \n",
       "1      2018-01-01 17:00:44+00:00  2023-06-07 04:50:02+00:00   \n",
       "2      2018-01-01 07:35:43+00:00  2023-06-16 01:45:47+00:00   \n",
       "3      2018-01-01 05:51:39+00:00  2023-06-16 07:18:32+00:00   \n",
       "4      2018-01-01 05:16:44+00:00  2023-06-15 15:39:12+00:00   \n",
       "...                          ...                        ...   \n",
       "19995  2018-08-05 21:04:07+00:00  2023-04-20 22:26:31+00:00   \n",
       "19996  2018-08-05 06:13:57+00:00  2023-03-04 12:52:47+00:00   \n",
       "19997  2018-08-05 12:21:36+00:00  2023-06-13 05:34:29+00:00   \n",
       "19998  2018-08-05 12:30:21+00:00  2023-06-04 01:10:03+00:00   \n",
       "19999  2018-08-05 08:09:10+00:00  2020-10-09 06:57:46+00:00   \n",
       "\n",
       "                       pushed_at  stargazers_count    language  forks_count  \\\n",
       "0      2019-03-18 12:27:24+00:00              4340      Python         1774   \n",
       "1      2022-12-11 14:16:51+00:00              1969         CSS           93   \n",
       "2      2023-02-28 09:14:43+00:00              1644         C++          693   \n",
       "3      2023-05-19 15:38:57+00:00              1362  JavaScript          607   \n",
       "4      2018-07-24 03:35:03+00:00              1307  JavaScript          394   \n",
       "...                          ...               ...         ...          ...   \n",
       "19995  2021-05-27 18:29:06+00:00                89  JavaScript           20   \n",
       "19996  2023-06-12 04:56:59+00:00                89          Go           14   \n",
       "19997  2022-12-31 10:12:24+00:00                87          C#           23   \n",
       "19998  2023-01-16 07:31:43+00:00                86         TeX           14   \n",
       "19999  2018-08-05 08:09:48+00:00                85      Kotlin           11   \n",
       "\n",
       "                                                  topics  \\\n",
       "0                ['Deep-Learning-21-Examples', 'Python']   \n",
       "1      ['css', 'css-framework', 'flat', 'lit', 'micro...   \n",
       "2      ['hdl-graph-slam', 'lidar', 'point-cloud', 'ro...   \n",
       "3      ['jsx', 'projects', 'react', 'react-router', '...   \n",
       "4      ['anyproxy', 'charles', 'crawl', 'fiddler', 'g...   \n",
       "...                                                  ...   \n",
       "19995         ['aws-amplify-workshop-web', 'JavaScript']   \n",
       "19996  ['go', 'http-handler', 'http-middleware', 'htt...   \n",
       "19997                         ['brickcontroller2', 'C#']   \n",
       "19998  ['cheatsheet', 'programming', 'python', 'pytho...   \n",
       "19999              ['blockchain', 'kotlin', 'websocket']   \n",
       "\n",
       "                                        contributors_url  \\\n",
       "0      https://api.github.com/repos/hzy46/Deep-Learni...   \n",
       "1      https://api.github.com/repos/ajusa/lit/contrib...   \n",
       "2      https://api.github.com/repos/koide3/hdl_graph_...   \n",
       "3      https://api.github.com/repos/ajayns/react-proj...   \n",
       "4      https://api.github.com/repos/game-helper/weixi...   \n",
       "...                                                  ...   \n",
       "19995  https://api.github.com/repos/dabit3/aws-amplif...   \n",
       "19996  https://api.github.com/repos/gookit/rux/contri...   \n",
       "19997  https://api.github.com/repos/imurvai/brickcont...   \n",
       "19998  https://api.github.com/repos/akashp1712/awesom...   \n",
       "19999  https://api.github.com/repos/MaiJiantian/block...   \n",
       "\n",
       "                                                 license  \\\n",
       "0                                             No license   \n",
       "1      {'key': 'mit', 'name': 'MIT License', 'spdx_id...   \n",
       "2      {'key': 'bsd-2-clause', 'name': 'BSD 2-Clause ...   \n",
       "3                                             No license   \n",
       "4      {'key': 'gpl-3.0', 'name': 'GNU General Public...   \n",
       "...                                                  ...   \n",
       "19995                                         No license   \n",
       "19996  {'key': 'mit', 'name': 'MIT License', 'spdx_id...   \n",
       "19997                                         No license   \n",
       "19998                                         No license   \n",
       "19999                                         No license   \n",
       "\n",
       "                                             commits_url  \n",
       "0      https://api.github.com/repos/hzy46/Deep-Learni...  \n",
       "1      https://api.github.com/repos/ajusa/lit/commits...  \n",
       "2      https://api.github.com/repos/koide3/hdl_graph_...  \n",
       "3      https://api.github.com/repos/ajayns/react-proj...  \n",
       "4      https://api.github.com/repos/game-helper/weixi...  \n",
       "...                                                  ...  \n",
       "19995  https://api.github.com/repos/dabit3/aws-amplif...  \n",
       "19996  https://api.github.com/repos/gookit/rux/commit...  \n",
       "19997  https://api.github.com/repos/imurvai/brickcont...  \n",
       "19998  https://api.github.com/repos/akashp1712/awesom...  \n",
       "19999  https://api.github.com/repos/MaiJiantian/block...  \n",
       "\n",
       "[20000 rows x 17 columns]"
      ]
     },
     "execution_count": 58,
     "metadata": {},
     "output_type": "execute_result"
    }
   ],
   "source": [
    "df = pd.read_csv(\"data_top.csv\")\n",
    "df"
   ]
  },
  {
   "cell_type": "code",
   "execution_count": 48,
   "id": "4128f09c",
   "metadata": {},
   "outputs": [
    {
     "data": {
      "text/html": [
       "<style>\n",
       "        .bk-notebook-logo {\n",
       "            display: block;\n",
       "            width: 20px;\n",
       "            height: 20px;\n",
       "            background-image: url(data:image/png;base64,iVBORw0KGgoAAAANSUhEUgAAABQAAAAUCAYAAACNiR0NAAAABHNCSVQICAgIfAhkiAAAAAlwSFlzAAALEgAACxIB0t1+/AAAABx0RVh0U29mdHdhcmUAQWRvYmUgRmlyZXdvcmtzIENTNui8sowAAAOkSURBVDiNjZRtaJVlGMd/1/08zzln5zjP1LWcU9N0NkN8m2CYjpgQYQXqSs0I84OLIC0hkEKoPtiH3gmKoiJDU7QpLgoLjLIQCpEsNJ1vqUOdO7ppbuec5+V+rj4ctwzd8IIbbi6u+8f1539dt3A78eXC7QizUF7gyV1fD1Yqg4JWz84yffhm0qkFqBogB9rM8tZdtwVsPUhWhGcFJngGeWrPzHm5oaMmkfEg1usvLFyc8jLRqDOMru7AyC8saQr7GG7f5fvDeH7Ej8CM66nIF+8yngt6HWaKh7k49Soy9nXurCi1o3qUbS3zWfrYeQDTB/Qj6kX6Ybhw4B+bOYoLKCC9H3Nu/leUTZ1JdRWkkn2ldcCamzrcf47KKXdAJllSlxAOkRgyHsGC/zRday5Qld9DyoM4/q/rUoy/CXh3jzOu3bHUVZeU+DEn8FInkPBFlu3+nW3Nw0mk6vCDiWg8CeJaxEwuHS3+z5RgY+YBR6V1Z1nxSOfoaPa4LASWxxdNp+VWTk7+4vzaou8v8PN+xo+KY2xsw6une2frhw05CTYOmQvsEhjhWjn0bmXPjpE1+kplmmkP3suftwTubK9Vq22qKmrBhpY4jvd5afdRA3wGjFAgcnTK2s4hY0/GPNIb0nErGMCRxWOOX64Z8RAC4oCXdklmEvcL8o0BfkNK4lUg9HTl+oPlQxdNo3Mg4Nv175e/1LDGzZen30MEjRUtmXSfiTVu1kK8W4txyV6BMKlbgk3lMwYCiusNy9fVfvvwMxv8Ynl6vxoByANLTWplvuj/nF9m2+PDtt1eiHPBr1oIfhCChQMBw6Aw0UulqTKZdfVvfG7VcfIqLG9bcldL/+pdWTLxLUy8Qq38heUIjh4XlzZxzQm19lLFlr8vdQ97rjZVOLf8nclzckbcD4wxXMidpX30sFd37Fv/GtwwhzhxGVAprjbg0gCAEeIgwCZyTV2Z1REEW8O4py0wsjeloKoMr6iCY6dP92H6Vw/oTyICIthibxjm/DfN9lVz8IqtqKYLUXfoKVMVQVVJOElGjrnnUt9T9wbgp8AyYKaGlqingHZU/uG2NTZSVqwHQTWkx9hxjkpWDaCg6Ckj5qebgBVbT3V3NNXMSiWSDdGV3hrtzla7J+duwPOToIg42ChPQOQjspnSlp1V+Gjdged7+8UN5CRAV7a5EdFNwCjEaBR27b3W890TE7g24NAP/mMDXRWrGoFPQI9ls/MWO2dWFAar/xcOIImbbpA3zgAAAABJRU5ErkJggg==);\n",
       "        }\n",
       "    </style>\n",
       "    <div>\n",
       "        <a href=\"https://bokeh.org\" target=\"_blank\" class=\"bk-notebook-logo\"></a>\n",
       "        <span id=\"f548a71f-b867-4010-ac8f-473d102a80ad\">Loading BokehJS ...</span>\n",
       "    </div>\n"
      ]
     },
     "metadata": {},
     "output_type": "display_data"
    },
    {
     "data": {
      "application/javascript": [
       "(function(root) {\n",
       "  function now() {\n",
       "    return new Date();\n",
       "  }\n",
       "\n",
       "  const force = true;\n",
       "\n",
       "  if (typeof root._bokeh_onload_callbacks === \"undefined\" || force === true) {\n",
       "    root._bokeh_onload_callbacks = [];\n",
       "    root._bokeh_is_loading = undefined;\n",
       "  }\n",
       "\n",
       "const JS_MIME_TYPE = 'application/javascript';\n",
       "  const HTML_MIME_TYPE = 'text/html';\n",
       "  const EXEC_MIME_TYPE = 'application/vnd.bokehjs_exec.v0+json';\n",
       "  const CLASS_NAME = 'output_bokeh rendered_html';\n",
       "\n",
       "  /**\n",
       "   * Render data to the DOM node\n",
       "   */\n",
       "  function render(props, node) {\n",
       "    const script = document.createElement(\"script\");\n",
       "    node.appendChild(script);\n",
       "  }\n",
       "\n",
       "  /**\n",
       "   * Handle when an output is cleared or removed\n",
       "   */\n",
       "  function handleClearOutput(event, handle) {\n",
       "    const cell = handle.cell;\n",
       "\n",
       "    const id = cell.output_area._bokeh_element_id;\n",
       "    const server_id = cell.output_area._bokeh_server_id;\n",
       "    // Clean up Bokeh references\n",
       "    if (id != null && id in Bokeh.index) {\n",
       "      Bokeh.index[id].model.document.clear();\n",
       "      delete Bokeh.index[id];\n",
       "    }\n",
       "\n",
       "    if (server_id !== undefined) {\n",
       "      // Clean up Bokeh references\n",
       "      const cmd_clean = \"from bokeh.io.state import curstate; print(curstate().uuid_to_server['\" + server_id + \"'].get_sessions()[0].document.roots[0]._id)\";\n",
       "      cell.notebook.kernel.execute(cmd_clean, {\n",
       "        iopub: {\n",
       "          output: function(msg) {\n",
       "            const id = msg.content.text.trim();\n",
       "            if (id in Bokeh.index) {\n",
       "              Bokeh.index[id].model.document.clear();\n",
       "              delete Bokeh.index[id];\n",
       "            }\n",
       "          }\n",
       "        }\n",
       "      });\n",
       "      // Destroy server and session\n",
       "      const cmd_destroy = \"import bokeh.io.notebook as ion; ion.destroy_server('\" + server_id + \"')\";\n",
       "      cell.notebook.kernel.execute(cmd_destroy);\n",
       "    }\n",
       "  }\n",
       "\n",
       "  /**\n",
       "   * Handle when a new output is added\n",
       "   */\n",
       "  function handleAddOutput(event, handle) {\n",
       "    const output_area = handle.output_area;\n",
       "    const output = handle.output;\n",
       "\n",
       "    // limit handleAddOutput to display_data with EXEC_MIME_TYPE content only\n",
       "    if ((output.output_type != \"display_data\") || (!Object.prototype.hasOwnProperty.call(output.data, EXEC_MIME_TYPE))) {\n",
       "      return\n",
       "    }\n",
       "\n",
       "    const toinsert = output_area.element.find(\".\" + CLASS_NAME.split(' ')[0]);\n",
       "\n",
       "    if (output.metadata[EXEC_MIME_TYPE][\"id\"] !== undefined) {\n",
       "      toinsert[toinsert.length - 1].firstChild.textContent = output.data[JS_MIME_TYPE];\n",
       "      // store reference to embed id on output_area\n",
       "      output_area._bokeh_element_id = output.metadata[EXEC_MIME_TYPE][\"id\"];\n",
       "    }\n",
       "    if (output.metadata[EXEC_MIME_TYPE][\"server_id\"] !== undefined) {\n",
       "      const bk_div = document.createElement(\"div\");\n",
       "      bk_div.innerHTML = output.data[HTML_MIME_TYPE];\n",
       "      const script_attrs = bk_div.children[0].attributes;\n",
       "      for (let i = 0; i < script_attrs.length; i++) {\n",
       "        toinsert[toinsert.length - 1].firstChild.setAttribute(script_attrs[i].name, script_attrs[i].value);\n",
       "        toinsert[toinsert.length - 1].firstChild.textContent = bk_div.children[0].textContent\n",
       "      }\n",
       "      // store reference to server id on output_area\n",
       "      output_area._bokeh_server_id = output.metadata[EXEC_MIME_TYPE][\"server_id\"];\n",
       "    }\n",
       "  }\n",
       "\n",
       "  function register_renderer(events, OutputArea) {\n",
       "\n",
       "    function append_mime(data, metadata, element) {\n",
       "      // create a DOM node to render to\n",
       "      const toinsert = this.create_output_subarea(\n",
       "        metadata,\n",
       "        CLASS_NAME,\n",
       "        EXEC_MIME_TYPE\n",
       "      );\n",
       "      this.keyboard_manager.register_events(toinsert);\n",
       "      // Render to node\n",
       "      const props = {data: data, metadata: metadata[EXEC_MIME_TYPE]};\n",
       "      render(props, toinsert[toinsert.length - 1]);\n",
       "      element.append(toinsert);\n",
       "      return toinsert\n",
       "    }\n",
       "\n",
       "    /* Handle when an output is cleared or removed */\n",
       "    events.on('clear_output.CodeCell', handleClearOutput);\n",
       "    events.on('delete.Cell', handleClearOutput);\n",
       "\n",
       "    /* Handle when a new output is added */\n",
       "    events.on('output_added.OutputArea', handleAddOutput);\n",
       "\n",
       "    /**\n",
       "     * Register the mime type and append_mime function with output_area\n",
       "     */\n",
       "    OutputArea.prototype.register_mime_type(EXEC_MIME_TYPE, append_mime, {\n",
       "      /* Is output safe? */\n",
       "      safe: true,\n",
       "      /* Index of renderer in `output_area.display_order` */\n",
       "      index: 0\n",
       "    });\n",
       "  }\n",
       "\n",
       "  // register the mime type if in Jupyter Notebook environment and previously unregistered\n",
       "  if (root.Jupyter !== undefined) {\n",
       "    const events = require('base/js/events');\n",
       "    const OutputArea = require('notebook/js/outputarea').OutputArea;\n",
       "\n",
       "    if (OutputArea.prototype.mime_types().indexOf(EXEC_MIME_TYPE) == -1) {\n",
       "      register_renderer(events, OutputArea);\n",
       "    }\n",
       "  }\n",
       "  if (typeof (root._bokeh_timeout) === \"undefined\" || force === true) {\n",
       "    root._bokeh_timeout = Date.now() + 5000;\n",
       "    root._bokeh_failed_load = false;\n",
       "  }\n",
       "\n",
       "  const NB_LOAD_WARNING = {'data': {'text/html':\n",
       "     \"<div style='background-color: #fdd'>\\n\"+\n",
       "     \"<p>\\n\"+\n",
       "     \"BokehJS does not appear to have successfully loaded. If loading BokehJS from CDN, this \\n\"+\n",
       "     \"may be due to a slow or bad network connection. Possible fixes:\\n\"+\n",
       "     \"</p>\\n\"+\n",
       "     \"<ul>\\n\"+\n",
       "     \"<li>re-rerun `output_notebook()` to attempt to load from CDN again, or</li>\\n\"+\n",
       "     \"<li>use INLINE resources instead, as so:</li>\\n\"+\n",
       "     \"</ul>\\n\"+\n",
       "     \"<code>\\n\"+\n",
       "     \"from bokeh.resources import INLINE\\n\"+\n",
       "     \"output_notebook(resources=INLINE)\\n\"+\n",
       "     \"</code>\\n\"+\n",
       "     \"</div>\"}};\n",
       "\n",
       "  function display_loaded() {\n",
       "    const el = document.getElementById(\"f548a71f-b867-4010-ac8f-473d102a80ad\");\n",
       "    if (el != null) {\n",
       "      el.textContent = \"BokehJS is loading...\";\n",
       "    }\n",
       "    if (root.Bokeh !== undefined) {\n",
       "      if (el != null) {\n",
       "        el.textContent = \"BokehJS \" + root.Bokeh.version + \" successfully loaded.\";\n",
       "      }\n",
       "    } else if (Date.now() < root._bokeh_timeout) {\n",
       "      setTimeout(display_loaded, 100)\n",
       "    }\n",
       "  }\n",
       "\n",
       "  function run_callbacks() {\n",
       "    try {\n",
       "      root._bokeh_onload_callbacks.forEach(function(callback) {\n",
       "        if (callback != null)\n",
       "          callback();\n",
       "      });\n",
       "    } finally {\n",
       "      delete root._bokeh_onload_callbacks\n",
       "    }\n",
       "    console.debug(\"Bokeh: all callbacks have finished\");\n",
       "  }\n",
       "\n",
       "  function load_libs(css_urls, js_urls, callback) {\n",
       "    if (css_urls == null) css_urls = [];\n",
       "    if (js_urls == null) js_urls = [];\n",
       "\n",
       "    root._bokeh_onload_callbacks.push(callback);\n",
       "    if (root._bokeh_is_loading > 0) {\n",
       "      console.debug(\"Bokeh: BokehJS is being loaded, scheduling callback at\", now());\n",
       "      return null;\n",
       "    }\n",
       "    if (js_urls == null || js_urls.length === 0) {\n",
       "      run_callbacks();\n",
       "      return null;\n",
       "    }\n",
       "    console.debug(\"Bokeh: BokehJS not loaded, scheduling load and callback at\", now());\n",
       "    root._bokeh_is_loading = css_urls.length + js_urls.length;\n",
       "\n",
       "    function on_load() {\n",
       "      root._bokeh_is_loading--;\n",
       "      if (root._bokeh_is_loading === 0) {\n",
       "        console.debug(\"Bokeh: all BokehJS libraries/stylesheets loaded\");\n",
       "        run_callbacks()\n",
       "      }\n",
       "    }\n",
       "\n",
       "    function on_error(url) {\n",
       "      console.error(\"failed to load \" + url);\n",
       "    }\n",
       "\n",
       "    for (let i = 0; i < css_urls.length; i++) {\n",
       "      const url = css_urls[i];\n",
       "      const element = document.createElement(\"link\");\n",
       "      element.onload = on_load;\n",
       "      element.onerror = on_error.bind(null, url);\n",
       "      element.rel = \"stylesheet\";\n",
       "      element.type = \"text/css\";\n",
       "      element.href = url;\n",
       "      console.debug(\"Bokeh: injecting link tag for BokehJS stylesheet: \", url);\n",
       "      document.body.appendChild(element);\n",
       "    }\n",
       "\n",
       "    for (let i = 0; i < js_urls.length; i++) {\n",
       "      const url = js_urls[i];\n",
       "      const element = document.createElement('script');\n",
       "      element.onload = on_load;\n",
       "      element.onerror = on_error.bind(null, url);\n",
       "      element.async = false;\n",
       "      element.src = url;\n",
       "      console.debug(\"Bokeh: injecting script tag for BokehJS library: \", url);\n",
       "      document.head.appendChild(element);\n",
       "    }\n",
       "  };\n",
       "\n",
       "  function inject_raw_css(css) {\n",
       "    const element = document.createElement(\"style\");\n",
       "    element.appendChild(document.createTextNode(css));\n",
       "    document.body.appendChild(element);\n",
       "  }\n",
       "\n",
       "  const js_urls = [\"https://cdn.bokeh.org/bokeh/release/bokeh-3.2.0.min.js\", \"https://cdn.bokeh.org/bokeh/release/bokeh-gl-3.2.0.min.js\", \"https://cdn.bokeh.org/bokeh/release/bokeh-widgets-3.2.0.min.js\", \"https://cdn.bokeh.org/bokeh/release/bokeh-tables-3.2.0.min.js\", \"https://cdn.bokeh.org/bokeh/release/bokeh-mathjax-3.2.0.min.js\"];\n",
       "  const css_urls = [];\n",
       "\n",
       "  const inline_js = [    function(Bokeh) {\n",
       "      Bokeh.set_log_level(\"info\");\n",
       "    },\n",
       "function(Bokeh) {\n",
       "    }\n",
       "  ];\n",
       "\n",
       "  function run_inline_js() {\n",
       "    if (root.Bokeh !== undefined || force === true) {\n",
       "          for (let i = 0; i < inline_js.length; i++) {\n",
       "      inline_js[i].call(root, root.Bokeh);\n",
       "    }\n",
       "if (force === true) {\n",
       "        display_loaded();\n",
       "      }} else if (Date.now() < root._bokeh_timeout) {\n",
       "      setTimeout(run_inline_js, 100);\n",
       "    } else if (!root._bokeh_failed_load) {\n",
       "      console.log(\"Bokeh: BokehJS failed to load within specified timeout.\");\n",
       "      root._bokeh_failed_load = true;\n",
       "    } else if (force !== true) {\n",
       "      const cell = $(document.getElementById(\"f548a71f-b867-4010-ac8f-473d102a80ad\")).parents('.cell').data().cell;\n",
       "      cell.output_area.append_execute_result(NB_LOAD_WARNING)\n",
       "    }\n",
       "  }\n",
       "\n",
       "  if (root._bokeh_is_loading === 0) {\n",
       "    console.debug(\"Bokeh: BokehJS loaded, going straight to plotting\");\n",
       "    run_inline_js();\n",
       "  } else {\n",
       "    load_libs(css_urls, js_urls, function() {\n",
       "      console.debug(\"Bokeh: BokehJS plotting callback run at\", now());\n",
       "      run_inline_js();\n",
       "    });\n",
       "  }\n",
       "}(window));"
      ],
      "application/vnd.bokehjs_load.v0+json": "(function(root) {\n  function now() {\n    return new Date();\n  }\n\n  const force = true;\n\n  if (typeof root._bokeh_onload_callbacks === \"undefined\" || force === true) {\n    root._bokeh_onload_callbacks = [];\n    root._bokeh_is_loading = undefined;\n  }\n\n\n  if (typeof (root._bokeh_timeout) === \"undefined\" || force === true) {\n    root._bokeh_timeout = Date.now() + 5000;\n    root._bokeh_failed_load = false;\n  }\n\n  const NB_LOAD_WARNING = {'data': {'text/html':\n     \"<div style='background-color: #fdd'>\\n\"+\n     \"<p>\\n\"+\n     \"BokehJS does not appear to have successfully loaded. If loading BokehJS from CDN, this \\n\"+\n     \"may be due to a slow or bad network connection. Possible fixes:\\n\"+\n     \"</p>\\n\"+\n     \"<ul>\\n\"+\n     \"<li>re-rerun `output_notebook()` to attempt to load from CDN again, or</li>\\n\"+\n     \"<li>use INLINE resources instead, as so:</li>\\n\"+\n     \"</ul>\\n\"+\n     \"<code>\\n\"+\n     \"from bokeh.resources import INLINE\\n\"+\n     \"output_notebook(resources=INLINE)\\n\"+\n     \"</code>\\n\"+\n     \"</div>\"}};\n\n  function display_loaded() {\n    const el = document.getElementById(\"f548a71f-b867-4010-ac8f-473d102a80ad\");\n    if (el != null) {\n      el.textContent = \"BokehJS is loading...\";\n    }\n    if (root.Bokeh !== undefined) {\n      if (el != null) {\n        el.textContent = \"BokehJS \" + root.Bokeh.version + \" successfully loaded.\";\n      }\n    } else if (Date.now() < root._bokeh_timeout) {\n      setTimeout(display_loaded, 100)\n    }\n  }\n\n  function run_callbacks() {\n    try {\n      root._bokeh_onload_callbacks.forEach(function(callback) {\n        if (callback != null)\n          callback();\n      });\n    } finally {\n      delete root._bokeh_onload_callbacks\n    }\n    console.debug(\"Bokeh: all callbacks have finished\");\n  }\n\n  function load_libs(css_urls, js_urls, callback) {\n    if (css_urls == null) css_urls = [];\n    if (js_urls == null) js_urls = [];\n\n    root._bokeh_onload_callbacks.push(callback);\n    if (root._bokeh_is_loading > 0) {\n      console.debug(\"Bokeh: BokehJS is being loaded, scheduling callback at\", now());\n      return null;\n    }\n    if (js_urls == null || js_urls.length === 0) {\n      run_callbacks();\n      return null;\n    }\n    console.debug(\"Bokeh: BokehJS not loaded, scheduling load and callback at\", now());\n    root._bokeh_is_loading = css_urls.length + js_urls.length;\n\n    function on_load() {\n      root._bokeh_is_loading--;\n      if (root._bokeh_is_loading === 0) {\n        console.debug(\"Bokeh: all BokehJS libraries/stylesheets loaded\");\n        run_callbacks()\n      }\n    }\n\n    function on_error(url) {\n      console.error(\"failed to load \" + url);\n    }\n\n    for (let i = 0; i < css_urls.length; i++) {\n      const url = css_urls[i];\n      const element = document.createElement(\"link\");\n      element.onload = on_load;\n      element.onerror = on_error.bind(null, url);\n      element.rel = \"stylesheet\";\n      element.type = \"text/css\";\n      element.href = url;\n      console.debug(\"Bokeh: injecting link tag for BokehJS stylesheet: \", url);\n      document.body.appendChild(element);\n    }\n\n    for (let i = 0; i < js_urls.length; i++) {\n      const url = js_urls[i];\n      const element = document.createElement('script');\n      element.onload = on_load;\n      element.onerror = on_error.bind(null, url);\n      element.async = false;\n      element.src = url;\n      console.debug(\"Bokeh: injecting script tag for BokehJS library: \", url);\n      document.head.appendChild(element);\n    }\n  };\n\n  function inject_raw_css(css) {\n    const element = document.createElement(\"style\");\n    element.appendChild(document.createTextNode(css));\n    document.body.appendChild(element);\n  }\n\n  const js_urls = [\"https://cdn.bokeh.org/bokeh/release/bokeh-3.2.0.min.js\", \"https://cdn.bokeh.org/bokeh/release/bokeh-gl-3.2.0.min.js\", \"https://cdn.bokeh.org/bokeh/release/bokeh-widgets-3.2.0.min.js\", \"https://cdn.bokeh.org/bokeh/release/bokeh-tables-3.2.0.min.js\", \"https://cdn.bokeh.org/bokeh/release/bokeh-mathjax-3.2.0.min.js\"];\n  const css_urls = [];\n\n  const inline_js = [    function(Bokeh) {\n      Bokeh.set_log_level(\"info\");\n    },\nfunction(Bokeh) {\n    }\n  ];\n\n  function run_inline_js() {\n    if (root.Bokeh !== undefined || force === true) {\n          for (let i = 0; i < inline_js.length; i++) {\n      inline_js[i].call(root, root.Bokeh);\n    }\nif (force === true) {\n        display_loaded();\n      }} else if (Date.now() < root._bokeh_timeout) {\n      setTimeout(run_inline_js, 100);\n    } else if (!root._bokeh_failed_load) {\n      console.log(\"Bokeh: BokehJS failed to load within specified timeout.\");\n      root._bokeh_failed_load = true;\n    } else if (force !== true) {\n      const cell = $(document.getElementById(\"f548a71f-b867-4010-ac8f-473d102a80ad\")).parents('.cell').data().cell;\n      cell.output_area.append_execute_result(NB_LOAD_WARNING)\n    }\n  }\n\n  if (root._bokeh_is_loading === 0) {\n    console.debug(\"Bokeh: BokehJS loaded, going straight to plotting\");\n    run_inline_js();\n  } else {\n    load_libs(css_urls, js_urls, function() {\n      console.debug(\"Bokeh: BokehJS plotting callback run at\", now());\n      run_inline_js();\n    });\n  }\n}(window));"
     },
     "metadata": {},
     "output_type": "display_data"
    },
    {
     "data": {
      "text/html": [
       "\n",
       "  <div id=\"c1521aa8-6be9-438e-8709-130420ec8f65\" data-root-id=\"p1124\" style=\"display: contents;\"></div>\n"
      ]
     },
     "metadata": {},
     "output_type": "display_data"
    },
    {
     "data": {
      "application/javascript": [
       "(function(root) {\n",
       "  function embed_document(root) {\n",
       "  const docs_json = {\"509a3ba9-1a49-48d4-85da-06587e4d6c95\":{\"version\":\"3.2.0\",\"title\":\"Bokeh Application\",\"roots\":[{\"type\":\"object\",\"name\":\"Figure\",\"id\":\"p1124\",\"attributes\":{\"width\":800,\"height\":400,\"x_range\":{\"type\":\"object\",\"name\":\"FactorRange\",\"id\":\"p1134\",\"attributes\":{\"factors\":[\"Python\",\"JavaScript\",\"Java\",\"TypeScript\",\"Go\",\"C++\",\"C#\",\"C\",\"Jupyter Notebook\",\"HTML\"]}},\"y_range\":{\"type\":\"object\",\"name\":\"Range1d\",\"id\":\"p1135\",\"attributes\":{\"end\":4072}},\"x_scale\":{\"type\":\"object\",\"name\":\"CategoricalScale\",\"id\":\"p1136\"},\"y_scale\":{\"type\":\"object\",\"name\":\"LinearScale\",\"id\":\"p1137\"},\"title\":{\"type\":\"object\",\"name\":\"Title\",\"id\":\"p1127\",\"attributes\":{\"text\":\"les language de programation tandance\"}},\"renderers\":[{\"type\":\"object\",\"name\":\"GlyphRenderer\",\"id\":\"p1161\",\"attributes\":{\"data_source\":{\"type\":\"object\",\"name\":\"ColumnDataSource\",\"id\":\"p1155\",\"attributes\":{\"selected\":{\"type\":\"object\",\"name\":\"Selection\",\"id\":\"p1156\",\"attributes\":{\"indices\":[],\"line_indices\":[]}},\"selection_policy\":{\"type\":\"object\",\"name\":\"UnionRenderers\",\"id\":\"p1157\"},\"data\":{\"type\":\"map\",\"entries\":[[\"x\",[\"Python\",\"JavaScript\",\"Java\",\"TypeScript\",\"Go\",\"C++\",\"C#\",\"C\",\"Jupyter Notebook\",\"HTML\"]],[\"y\",[4062,3089,1418,1207,1152,1126,799,732,728,546]]]}}},\"view\":{\"type\":\"object\",\"name\":\"CDSView\",\"id\":\"p1162\",\"attributes\":{\"filter\":{\"type\":\"object\",\"name\":\"AllIndices\",\"id\":\"p1163\"}}},\"glyph\":{\"type\":\"object\",\"name\":\"Scatter\",\"id\":\"p1158\",\"attributes\":{\"x\":{\"type\":\"field\",\"field\":\"x\"},\"y\":{\"type\":\"field\",\"field\":\"y\"},\"size\":{\"type\":\"value\",\"value\":10},\"line_color\":{\"type\":\"value\",\"value\":\"#1f77b4\"},\"fill_color\":{\"type\":\"value\",\"value\":\"#1f77b4\"},\"hatch_color\":{\"type\":\"value\",\"value\":\"#1f77b4\"}}},\"nonselection_glyph\":{\"type\":\"object\",\"name\":\"Scatter\",\"id\":\"p1159\",\"attributes\":{\"x\":{\"type\":\"field\",\"field\":\"x\"},\"y\":{\"type\":\"field\",\"field\":\"y\"},\"size\":{\"type\":\"value\",\"value\":10},\"line_color\":{\"type\":\"value\",\"value\":\"#1f77b4\"},\"line_alpha\":{\"type\":\"value\",\"value\":0.1},\"fill_color\":{\"type\":\"value\",\"value\":\"#1f77b4\"},\"fill_alpha\":{\"type\":\"value\",\"value\":0.1},\"hatch_color\":{\"type\":\"value\",\"value\":\"#1f77b4\"},\"hatch_alpha\":{\"type\":\"value\",\"value\":0.1}}},\"muted_glyph\":{\"type\":\"object\",\"name\":\"Scatter\",\"id\":\"p1160\",\"attributes\":{\"x\":{\"type\":\"field\",\"field\":\"x\"},\"y\":{\"type\":\"field\",\"field\":\"y\"},\"size\":{\"type\":\"value\",\"value\":10},\"line_color\":{\"type\":\"value\",\"value\":\"#1f77b4\"},\"line_alpha\":{\"type\":\"value\",\"value\":0.2},\"fill_color\":{\"type\":\"value\",\"value\":\"#1f77b4\"},\"fill_alpha\":{\"type\":\"value\",\"value\":0.2},\"hatch_color\":{\"type\":\"value\",\"value\":\"#1f77b4\"},\"hatch_alpha\":{\"type\":\"value\",\"value\":0.2}}}}}],\"toolbar\":{\"type\":\"object\",\"name\":\"Toolbar\",\"id\":\"p1133\",\"attributes\":{\"tools\":[{\"type\":\"object\",\"name\":\"PanTool\",\"id\":\"p1148\"},{\"type\":\"object\",\"name\":\"WheelZoomTool\",\"id\":\"p1149\"},{\"type\":\"object\",\"name\":\"BoxZoomTool\",\"id\":\"p1150\",\"attributes\":{\"overlay\":{\"type\":\"object\",\"name\":\"BoxAnnotation\",\"id\":\"p1151\",\"attributes\":{\"syncable\":false,\"level\":\"overlay\",\"visible\":false,\"left_units\":\"canvas\",\"right_units\":\"canvas\",\"bottom_units\":\"canvas\",\"top_units\":\"canvas\",\"line_color\":\"black\",\"line_alpha\":1.0,\"line_width\":2,\"line_dash\":[4,4],\"fill_color\":\"lightgrey\",\"fill_alpha\":0.5}}}},{\"type\":\"object\",\"name\":\"SaveTool\",\"id\":\"p1152\"},{\"type\":\"object\",\"name\":\"ResetTool\",\"id\":\"p1153\"},{\"type\":\"object\",\"name\":\"HelpTool\",\"id\":\"p1154\"},{\"type\":\"object\",\"name\":\"HoverTool\",\"id\":\"p1164\",\"attributes\":{\"renderers\":\"auto\",\"tooltips\":[[\"Language\",\"@x\"],[\"Count\",\"@y\"]]}}]}},\"left\":[{\"type\":\"object\",\"name\":\"LinearAxis\",\"id\":\"p1143\",\"attributes\":{\"ticker\":{\"type\":\"object\",\"name\":\"BasicTicker\",\"id\":\"p1144\",\"attributes\":{\"mantissas\":[1,2,5]}},\"formatter\":{\"type\":\"object\",\"name\":\"BasicTickFormatter\",\"id\":\"p1145\"},\"axis_label\":\"Count\",\"major_label_policy\":{\"type\":\"object\",\"name\":\"AllLabels\",\"id\":\"p1146\"}}}],\"below\":[{\"type\":\"object\",\"name\":\"CategoricalAxis\",\"id\":\"p1138\",\"attributes\":{\"ticker\":{\"type\":\"object\",\"name\":\"CategoricalTicker\",\"id\":\"p1139\"},\"formatter\":{\"type\":\"object\",\"name\":\"CategoricalTickFormatter\",\"id\":\"p1140\"},\"axis_label\":\"Programming Languages\",\"major_label_orientation\":1.2,\"major_label_policy\":{\"type\":\"object\",\"name\":\"AllLabels\",\"id\":\"p1141\"}}}],\"center\":[{\"type\":\"object\",\"name\":\"Grid\",\"id\":\"p1142\",\"attributes\":{\"axis\":{\"id\":\"p1138\"}}},{\"type\":\"object\",\"name\":\"Grid\",\"id\":\"p1147\",\"attributes\":{\"dimension\":1,\"axis\":{\"id\":\"p1143\"}}}]}}]}};\n",
       "  const render_items = [{\"docid\":\"509a3ba9-1a49-48d4-85da-06587e4d6c95\",\"roots\":{\"p1124\":\"c1521aa8-6be9-438e-8709-130420ec8f65\"},\"root_ids\":[\"p1124\"]}];\n",
       "  root.Bokeh.embed.embed_items_notebook(docs_json, render_items);\n",
       "  }\n",
       "  if (root.Bokeh !== undefined) {\n",
       "    embed_document(root);\n",
       "  } else {\n",
       "    let attempts = 0;\n",
       "    const timer = setInterval(function(root) {\n",
       "      if (root.Bokeh !== undefined) {\n",
       "        clearInterval(timer);\n",
       "        embed_document(root);\n",
       "      } else {\n",
       "        attempts++;\n",
       "        if (attempts > 100) {\n",
       "          clearInterval(timer);\n",
       "          console.log(\"Bokeh: ERROR: Unable to run BokehJS code because BokehJS library is missing\");\n",
       "        }\n",
       "      }\n",
       "    }, 10, root)\n",
       "  }\n",
       "})(window);"
      ],
      "application/vnd.bokehjs_exec.v0+json": ""
     },
     "metadata": {
      "application/vnd.bokehjs_exec.v0+json": {
       "id": "p1124"
      }
     },
     "output_type": "display_data"
    }
   ],
   "source": [
    "from bokeh.plotting import figure, show\n",
    "from bokeh.io import output_notebook\n",
    "from bokeh.models import HoverTool\n",
    "from bokeh.palettes import Category20\n",
    "from collections import Counter\n",
    "\n",
    "# Assuming you have a DataFrame named df with a column named 'language' containing the programming languages\n",
    "\n",
    "# Extracting the language counts\n",
    "languages = df['language'].dropna().tolist()\n",
    "language_counts = Counter(languages)\n",
    "top_languages = dict(language_counts.most_common(10))\n",
    "languages, counts = zip(*top_languages.items())\n",
    "\n",
    "# Creating the plot\n",
    "output_notebook()  # If you're working in a Jupyter Notebook, otherwise omit this line\n",
    "\n",
    "p = figure(width=800, height=400, title=\"les language de programation tandance\",\n",
    "           x_range=languages, y_range=(0, max(counts) + 10))\n",
    "\n",
    "p.scatter(languages, counts, size=10, color=Category20[20][0])\n",
    "\n",
    "p.xaxis.axis_label = \"Programming Languages\"\n",
    "p.yaxis.axis_label = \"Count\"\n",
    "p.xaxis.major_label_orientation = 1.2\n",
    "\n",
    "# Adding hover tooltip\n",
    "hover = HoverTool(tooltips=[(\"Language\", \"@x\"), (\"Count\", \"@y\")])\n",
    "p.add_tools(hover)\n",
    "\n",
    "show(p)\n",
    "\n"
   ]
  },
  {
   "cell_type": "code",
   "execution_count": 4,
   "id": "d194cf0c",
   "metadata": {},
   "outputs": [
    {
     "data": {
      "text/html": [
       "<style>\n",
       "        .bk-notebook-logo {\n",
       "            display: block;\n",
       "            width: 20px;\n",
       "            height: 20px;\n",
       "            background-image: url(data:image/png;base64,iVBORw0KGgoAAAANSUhEUgAAABQAAAAUCAYAAACNiR0NAAAABHNCSVQICAgIfAhkiAAAAAlwSFlzAAALEgAACxIB0t1+/AAAABx0RVh0U29mdHdhcmUAQWRvYmUgRmlyZXdvcmtzIENTNui8sowAAAOkSURBVDiNjZRtaJVlGMd/1/08zzln5zjP1LWcU9N0NkN8m2CYjpgQYQXqSs0I84OLIC0hkEKoPtiH3gmKoiJDU7QpLgoLjLIQCpEsNJ1vqUOdO7ppbuec5+V+rj4ctwzd8IIbbi6u+8f1539dt3A78eXC7QizUF7gyV1fD1Yqg4JWz84yffhm0qkFqBogB9rM8tZdtwVsPUhWhGcFJngGeWrPzHm5oaMmkfEg1usvLFyc8jLRqDOMru7AyC8saQr7GG7f5fvDeH7Ej8CM66nIF+8yngt6HWaKh7k49Soy9nXurCi1o3qUbS3zWfrYeQDTB/Qj6kX6Ybhw4B+bOYoLKCC9H3Nu/leUTZ1JdRWkkn2ldcCamzrcf47KKXdAJllSlxAOkRgyHsGC/zRday5Qld9DyoM4/q/rUoy/CXh3jzOu3bHUVZeU+DEn8FInkPBFlu3+nW3Nw0mk6vCDiWg8CeJaxEwuHS3+z5RgY+YBR6V1Z1nxSOfoaPa4LASWxxdNp+VWTk7+4vzaou8v8PN+xo+KY2xsw6une2frhw05CTYOmQvsEhjhWjn0bmXPjpE1+kplmmkP3suftwTubK9Vq22qKmrBhpY4jvd5afdRA3wGjFAgcnTK2s4hY0/GPNIb0nErGMCRxWOOX64Z8RAC4oCXdklmEvcL8o0BfkNK4lUg9HTl+oPlQxdNo3Mg4Nv175e/1LDGzZen30MEjRUtmXSfiTVu1kK8W4txyV6BMKlbgk3lMwYCiusNy9fVfvvwMxv8Ynl6vxoByANLTWplvuj/nF9m2+PDtt1eiHPBr1oIfhCChQMBw6Aw0UulqTKZdfVvfG7VcfIqLG9bcldL/+pdWTLxLUy8Qq38heUIjh4XlzZxzQm19lLFlr8vdQ97rjZVOLf8nclzckbcD4wxXMidpX30sFd37Fv/GtwwhzhxGVAprjbg0gCAEeIgwCZyTV2Z1REEW8O4py0wsjeloKoMr6iCY6dP92H6Vw/oTyICIthibxjm/DfN9lVz8IqtqKYLUXfoKVMVQVVJOElGjrnnUt9T9wbgp8AyYKaGlqingHZU/uG2NTZSVqwHQTWkx9hxjkpWDaCg6Ckj5qebgBVbT3V3NNXMSiWSDdGV3hrtzla7J+duwPOToIg42ChPQOQjspnSlp1V+Gjdged7+8UN5CRAV7a5EdFNwCjEaBR27b3W890TE7g24NAP/mMDXRWrGoFPQI9ls/MWO2dWFAar/xcOIImbbpA3zgAAAABJRU5ErkJggg==);\n",
       "        }\n",
       "    </style>\n",
       "    <div>\n",
       "        <a href=\"https://bokeh.org\" target=\"_blank\" class=\"bk-notebook-logo\"></a>\n",
       "        <span id=\"f81b186e-9434-4a12-81fe-152a754ecd35\">Loading BokehJS ...</span>\n",
       "    </div>\n"
      ]
     },
     "metadata": {},
     "output_type": "display_data"
    },
    {
     "data": {
      "application/javascript": [
       "(function(root) {\n",
       "  function now() {\n",
       "    return new Date();\n",
       "  }\n",
       "\n",
       "  const force = true;\n",
       "\n",
       "  if (typeof root._bokeh_onload_callbacks === \"undefined\" || force === true) {\n",
       "    root._bokeh_onload_callbacks = [];\n",
       "    root._bokeh_is_loading = undefined;\n",
       "  }\n",
       "\n",
       "const JS_MIME_TYPE = 'application/javascript';\n",
       "  const HTML_MIME_TYPE = 'text/html';\n",
       "  const EXEC_MIME_TYPE = 'application/vnd.bokehjs_exec.v0+json';\n",
       "  const CLASS_NAME = 'output_bokeh rendered_html';\n",
       "\n",
       "  /**\n",
       "   * Render data to the DOM node\n",
       "   */\n",
       "  function render(props, node) {\n",
       "    const script = document.createElement(\"script\");\n",
       "    node.appendChild(script);\n",
       "  }\n",
       "\n",
       "  /**\n",
       "   * Handle when an output is cleared or removed\n",
       "   */\n",
       "  function handleClearOutput(event, handle) {\n",
       "    const cell = handle.cell;\n",
       "\n",
       "    const id = cell.output_area._bokeh_element_id;\n",
       "    const server_id = cell.output_area._bokeh_server_id;\n",
       "    // Clean up Bokeh references\n",
       "    if (id != null && id in Bokeh.index) {\n",
       "      Bokeh.index[id].model.document.clear();\n",
       "      delete Bokeh.index[id];\n",
       "    }\n",
       "\n",
       "    if (server_id !== undefined) {\n",
       "      // Clean up Bokeh references\n",
       "      const cmd_clean = \"from bokeh.io.state import curstate; print(curstate().uuid_to_server['\" + server_id + \"'].get_sessions()[0].document.roots[0]._id)\";\n",
       "      cell.notebook.kernel.execute(cmd_clean, {\n",
       "        iopub: {\n",
       "          output: function(msg) {\n",
       "            const id = msg.content.text.trim();\n",
       "            if (id in Bokeh.index) {\n",
       "              Bokeh.index[id].model.document.clear();\n",
       "              delete Bokeh.index[id];\n",
       "            }\n",
       "          }\n",
       "        }\n",
       "      });\n",
       "      // Destroy server and session\n",
       "      const cmd_destroy = \"import bokeh.io.notebook as ion; ion.destroy_server('\" + server_id + \"')\";\n",
       "      cell.notebook.kernel.execute(cmd_destroy);\n",
       "    }\n",
       "  }\n",
       "\n",
       "  /**\n",
       "   * Handle when a new output is added\n",
       "   */\n",
       "  function handleAddOutput(event, handle) {\n",
       "    const output_area = handle.output_area;\n",
       "    const output = handle.output;\n",
       "\n",
       "    // limit handleAddOutput to display_data with EXEC_MIME_TYPE content only\n",
       "    if ((output.output_type != \"display_data\") || (!Object.prototype.hasOwnProperty.call(output.data, EXEC_MIME_TYPE))) {\n",
       "      return\n",
       "    }\n",
       "\n",
       "    const toinsert = output_area.element.find(\".\" + CLASS_NAME.split(' ')[0]);\n",
       "\n",
       "    if (output.metadata[EXEC_MIME_TYPE][\"id\"] !== undefined) {\n",
       "      toinsert[toinsert.length - 1].firstChild.textContent = output.data[JS_MIME_TYPE];\n",
       "      // store reference to embed id on output_area\n",
       "      output_area._bokeh_element_id = output.metadata[EXEC_MIME_TYPE][\"id\"];\n",
       "    }\n",
       "    if (output.metadata[EXEC_MIME_TYPE][\"server_id\"] !== undefined) {\n",
       "      const bk_div = document.createElement(\"div\");\n",
       "      bk_div.innerHTML = output.data[HTML_MIME_TYPE];\n",
       "      const script_attrs = bk_div.children[0].attributes;\n",
       "      for (let i = 0; i < script_attrs.length; i++) {\n",
       "        toinsert[toinsert.length - 1].firstChild.setAttribute(script_attrs[i].name, script_attrs[i].value);\n",
       "        toinsert[toinsert.length - 1].firstChild.textContent = bk_div.children[0].textContent\n",
       "      }\n",
       "      // store reference to server id on output_area\n",
       "      output_area._bokeh_server_id = output.metadata[EXEC_MIME_TYPE][\"server_id\"];\n",
       "    }\n",
       "  }\n",
       "\n",
       "  function register_renderer(events, OutputArea) {\n",
       "\n",
       "    function append_mime(data, metadata, element) {\n",
       "      // create a DOM node to render to\n",
       "      const toinsert = this.create_output_subarea(\n",
       "        metadata,\n",
       "        CLASS_NAME,\n",
       "        EXEC_MIME_TYPE\n",
       "      );\n",
       "      this.keyboard_manager.register_events(toinsert);\n",
       "      // Render to node\n",
       "      const props = {data: data, metadata: metadata[EXEC_MIME_TYPE]};\n",
       "      render(props, toinsert[toinsert.length - 1]);\n",
       "      element.append(toinsert);\n",
       "      return toinsert\n",
       "    }\n",
       "\n",
       "    /* Handle when an output is cleared or removed */\n",
       "    events.on('clear_output.CodeCell', handleClearOutput);\n",
       "    events.on('delete.Cell', handleClearOutput);\n",
       "\n",
       "    /* Handle when a new output is added */\n",
       "    events.on('output_added.OutputArea', handleAddOutput);\n",
       "\n",
       "    /**\n",
       "     * Register the mime type and append_mime function with output_area\n",
       "     */\n",
       "    OutputArea.prototype.register_mime_type(EXEC_MIME_TYPE, append_mime, {\n",
       "      /* Is output safe? */\n",
       "      safe: true,\n",
       "      /* Index of renderer in `output_area.display_order` */\n",
       "      index: 0\n",
       "    });\n",
       "  }\n",
       "\n",
       "  // register the mime type if in Jupyter Notebook environment and previously unregistered\n",
       "  if (root.Jupyter !== undefined) {\n",
       "    const events = require('base/js/events');\n",
       "    const OutputArea = require('notebook/js/outputarea').OutputArea;\n",
       "\n",
       "    if (OutputArea.prototype.mime_types().indexOf(EXEC_MIME_TYPE) == -1) {\n",
       "      register_renderer(events, OutputArea);\n",
       "    }\n",
       "  }\n",
       "  if (typeof (root._bokeh_timeout) === \"undefined\" || force === true) {\n",
       "    root._bokeh_timeout = Date.now() + 5000;\n",
       "    root._bokeh_failed_load = false;\n",
       "  }\n",
       "\n",
       "  const NB_LOAD_WARNING = {'data': {'text/html':\n",
       "     \"<div style='background-color: #fdd'>\\n\"+\n",
       "     \"<p>\\n\"+\n",
       "     \"BokehJS does not appear to have successfully loaded. If loading BokehJS from CDN, this \\n\"+\n",
       "     \"may be due to a slow or bad network connection. Possible fixes:\\n\"+\n",
       "     \"</p>\\n\"+\n",
       "     \"<ul>\\n\"+\n",
       "     \"<li>re-rerun `output_notebook()` to attempt to load from CDN again, or</li>\\n\"+\n",
       "     \"<li>use INLINE resources instead, as so:</li>\\n\"+\n",
       "     \"</ul>\\n\"+\n",
       "     \"<code>\\n\"+\n",
       "     \"from bokeh.resources import INLINE\\n\"+\n",
       "     \"output_notebook(resources=INLINE)\\n\"+\n",
       "     \"</code>\\n\"+\n",
       "     \"</div>\"}};\n",
       "\n",
       "  function display_loaded() {\n",
       "    const el = document.getElementById(\"f81b186e-9434-4a12-81fe-152a754ecd35\");\n",
       "    if (el != null) {\n",
       "      el.textContent = \"BokehJS is loading...\";\n",
       "    }\n",
       "    if (root.Bokeh !== undefined) {\n",
       "      if (el != null) {\n",
       "        el.textContent = \"BokehJS \" + root.Bokeh.version + \" successfully loaded.\";\n",
       "      }\n",
       "    } else if (Date.now() < root._bokeh_timeout) {\n",
       "      setTimeout(display_loaded, 100)\n",
       "    }\n",
       "  }\n",
       "\n",
       "  function run_callbacks() {\n",
       "    try {\n",
       "      root._bokeh_onload_callbacks.forEach(function(callback) {\n",
       "        if (callback != null)\n",
       "          callback();\n",
       "      });\n",
       "    } finally {\n",
       "      delete root._bokeh_onload_callbacks\n",
       "    }\n",
       "    console.debug(\"Bokeh: all callbacks have finished\");\n",
       "  }\n",
       "\n",
       "  function load_libs(css_urls, js_urls, callback) {\n",
       "    if (css_urls == null) css_urls = [];\n",
       "    if (js_urls == null) js_urls = [];\n",
       "\n",
       "    root._bokeh_onload_callbacks.push(callback);\n",
       "    if (root._bokeh_is_loading > 0) {\n",
       "      console.debug(\"Bokeh: BokehJS is being loaded, scheduling callback at\", now());\n",
       "      return null;\n",
       "    }\n",
       "    if (js_urls == null || js_urls.length === 0) {\n",
       "      run_callbacks();\n",
       "      return null;\n",
       "    }\n",
       "    console.debug(\"Bokeh: BokehJS not loaded, scheduling load and callback at\", now());\n",
       "    root._bokeh_is_loading = css_urls.length + js_urls.length;\n",
       "\n",
       "    function on_load() {\n",
       "      root._bokeh_is_loading--;\n",
       "      if (root._bokeh_is_loading === 0) {\n",
       "        console.debug(\"Bokeh: all BokehJS libraries/stylesheets loaded\");\n",
       "        run_callbacks()\n",
       "      }\n",
       "    }\n",
       "\n",
       "    function on_error(url) {\n",
       "      console.error(\"failed to load \" + url);\n",
       "    }\n",
       "\n",
       "    for (let i = 0; i < css_urls.length; i++) {\n",
       "      const url = css_urls[i];\n",
       "      const element = document.createElement(\"link\");\n",
       "      element.onload = on_load;\n",
       "      element.onerror = on_error.bind(null, url);\n",
       "      element.rel = \"stylesheet\";\n",
       "      element.type = \"text/css\";\n",
       "      element.href = url;\n",
       "      console.debug(\"Bokeh: injecting link tag for BokehJS stylesheet: \", url);\n",
       "      document.body.appendChild(element);\n",
       "    }\n",
       "\n",
       "    for (let i = 0; i < js_urls.length; i++) {\n",
       "      const url = js_urls[i];\n",
       "      const element = document.createElement('script');\n",
       "      element.onload = on_load;\n",
       "      element.onerror = on_error.bind(null, url);\n",
       "      element.async = false;\n",
       "      element.src = url;\n",
       "      console.debug(\"Bokeh: injecting script tag for BokehJS library: \", url);\n",
       "      document.head.appendChild(element);\n",
       "    }\n",
       "  };\n",
       "\n",
       "  function inject_raw_css(css) {\n",
       "    const element = document.createElement(\"style\");\n",
       "    element.appendChild(document.createTextNode(css));\n",
       "    document.body.appendChild(element);\n",
       "  }\n",
       "\n",
       "  const js_urls = [\"https://cdn.bokeh.org/bokeh/release/bokeh-3.2.0.min.js\", \"https://cdn.bokeh.org/bokeh/release/bokeh-gl-3.2.0.min.js\", \"https://cdn.bokeh.org/bokeh/release/bokeh-widgets-3.2.0.min.js\", \"https://cdn.bokeh.org/bokeh/release/bokeh-tables-3.2.0.min.js\", \"https://cdn.bokeh.org/bokeh/release/bokeh-mathjax-3.2.0.min.js\"];\n",
       "  const css_urls = [];\n",
       "\n",
       "  const inline_js = [    function(Bokeh) {\n",
       "      Bokeh.set_log_level(\"info\");\n",
       "    },\n",
       "function(Bokeh) {\n",
       "    }\n",
       "  ];\n",
       "\n",
       "  function run_inline_js() {\n",
       "    if (root.Bokeh !== undefined || force === true) {\n",
       "          for (let i = 0; i < inline_js.length; i++) {\n",
       "      inline_js[i].call(root, root.Bokeh);\n",
       "    }\n",
       "if (force === true) {\n",
       "        display_loaded();\n",
       "      }} else if (Date.now() < root._bokeh_timeout) {\n",
       "      setTimeout(run_inline_js, 100);\n",
       "    } else if (!root._bokeh_failed_load) {\n",
       "      console.log(\"Bokeh: BokehJS failed to load within specified timeout.\");\n",
       "      root._bokeh_failed_load = true;\n",
       "    } else if (force !== true) {\n",
       "      const cell = $(document.getElementById(\"f81b186e-9434-4a12-81fe-152a754ecd35\")).parents('.cell').data().cell;\n",
       "      cell.output_area.append_execute_result(NB_LOAD_WARNING)\n",
       "    }\n",
       "  }\n",
       "\n",
       "  if (root._bokeh_is_loading === 0) {\n",
       "    console.debug(\"Bokeh: BokehJS loaded, going straight to plotting\");\n",
       "    run_inline_js();\n",
       "  } else {\n",
       "    load_libs(css_urls, js_urls, function() {\n",
       "      console.debug(\"Bokeh: BokehJS plotting callback run at\", now());\n",
       "      run_inline_js();\n",
       "    });\n",
       "  }\n",
       "}(window));"
      ],
      "application/vnd.bokehjs_load.v0+json": "(function(root) {\n  function now() {\n    return new Date();\n  }\n\n  const force = true;\n\n  if (typeof root._bokeh_onload_callbacks === \"undefined\" || force === true) {\n    root._bokeh_onload_callbacks = [];\n    root._bokeh_is_loading = undefined;\n  }\n\n\n  if (typeof (root._bokeh_timeout) === \"undefined\" || force === true) {\n    root._bokeh_timeout = Date.now() + 5000;\n    root._bokeh_failed_load = false;\n  }\n\n  const NB_LOAD_WARNING = {'data': {'text/html':\n     \"<div style='background-color: #fdd'>\\n\"+\n     \"<p>\\n\"+\n     \"BokehJS does not appear to have successfully loaded. If loading BokehJS from CDN, this \\n\"+\n     \"may be due to a slow or bad network connection. Possible fixes:\\n\"+\n     \"</p>\\n\"+\n     \"<ul>\\n\"+\n     \"<li>re-rerun `output_notebook()` to attempt to load from CDN again, or</li>\\n\"+\n     \"<li>use INLINE resources instead, as so:</li>\\n\"+\n     \"</ul>\\n\"+\n     \"<code>\\n\"+\n     \"from bokeh.resources import INLINE\\n\"+\n     \"output_notebook(resources=INLINE)\\n\"+\n     \"</code>\\n\"+\n     \"</div>\"}};\n\n  function display_loaded() {\n    const el = document.getElementById(\"f81b186e-9434-4a12-81fe-152a754ecd35\");\n    if (el != null) {\n      el.textContent = \"BokehJS is loading...\";\n    }\n    if (root.Bokeh !== undefined) {\n      if (el != null) {\n        el.textContent = \"BokehJS \" + root.Bokeh.version + \" successfully loaded.\";\n      }\n    } else if (Date.now() < root._bokeh_timeout) {\n      setTimeout(display_loaded, 100)\n    }\n  }\n\n  function run_callbacks() {\n    try {\n      root._bokeh_onload_callbacks.forEach(function(callback) {\n        if (callback != null)\n          callback();\n      });\n    } finally {\n      delete root._bokeh_onload_callbacks\n    }\n    console.debug(\"Bokeh: all callbacks have finished\");\n  }\n\n  function load_libs(css_urls, js_urls, callback) {\n    if (css_urls == null) css_urls = [];\n    if (js_urls == null) js_urls = [];\n\n    root._bokeh_onload_callbacks.push(callback);\n    if (root._bokeh_is_loading > 0) {\n      console.debug(\"Bokeh: BokehJS is being loaded, scheduling callback at\", now());\n      return null;\n    }\n    if (js_urls == null || js_urls.length === 0) {\n      run_callbacks();\n      return null;\n    }\n    console.debug(\"Bokeh: BokehJS not loaded, scheduling load and callback at\", now());\n    root._bokeh_is_loading = css_urls.length + js_urls.length;\n\n    function on_load() {\n      root._bokeh_is_loading--;\n      if (root._bokeh_is_loading === 0) {\n        console.debug(\"Bokeh: all BokehJS libraries/stylesheets loaded\");\n        run_callbacks()\n      }\n    }\n\n    function on_error(url) {\n      console.error(\"failed to load \" + url);\n    }\n\n    for (let i = 0; i < css_urls.length; i++) {\n      const url = css_urls[i];\n      const element = document.createElement(\"link\");\n      element.onload = on_load;\n      element.onerror = on_error.bind(null, url);\n      element.rel = \"stylesheet\";\n      element.type = \"text/css\";\n      element.href = url;\n      console.debug(\"Bokeh: injecting link tag for BokehJS stylesheet: \", url);\n      document.body.appendChild(element);\n    }\n\n    for (let i = 0; i < js_urls.length; i++) {\n      const url = js_urls[i];\n      const element = document.createElement('script');\n      element.onload = on_load;\n      element.onerror = on_error.bind(null, url);\n      element.async = false;\n      element.src = url;\n      console.debug(\"Bokeh: injecting script tag for BokehJS library: \", url);\n      document.head.appendChild(element);\n    }\n  };\n\n  function inject_raw_css(css) {\n    const element = document.createElement(\"style\");\n    element.appendChild(document.createTextNode(css));\n    document.body.appendChild(element);\n  }\n\n  const js_urls = [\"https://cdn.bokeh.org/bokeh/release/bokeh-3.2.0.min.js\", \"https://cdn.bokeh.org/bokeh/release/bokeh-gl-3.2.0.min.js\", \"https://cdn.bokeh.org/bokeh/release/bokeh-widgets-3.2.0.min.js\", \"https://cdn.bokeh.org/bokeh/release/bokeh-tables-3.2.0.min.js\", \"https://cdn.bokeh.org/bokeh/release/bokeh-mathjax-3.2.0.min.js\"];\n  const css_urls = [];\n\n  const inline_js = [    function(Bokeh) {\n      Bokeh.set_log_level(\"info\");\n    },\nfunction(Bokeh) {\n    }\n  ];\n\n  function run_inline_js() {\n    if (root.Bokeh !== undefined || force === true) {\n          for (let i = 0; i < inline_js.length; i++) {\n      inline_js[i].call(root, root.Bokeh);\n    }\nif (force === true) {\n        display_loaded();\n      }} else if (Date.now() < root._bokeh_timeout) {\n      setTimeout(run_inline_js, 100);\n    } else if (!root._bokeh_failed_load) {\n      console.log(\"Bokeh: BokehJS failed to load within specified timeout.\");\n      root._bokeh_failed_load = true;\n    } else if (force !== true) {\n      const cell = $(document.getElementById(\"f81b186e-9434-4a12-81fe-152a754ecd35\")).parents('.cell').data().cell;\n      cell.output_area.append_execute_result(NB_LOAD_WARNING)\n    }\n  }\n\n  if (root._bokeh_is_loading === 0) {\n    console.debug(\"Bokeh: BokehJS loaded, going straight to plotting\");\n    run_inline_js();\n  } else {\n    load_libs(css_urls, js_urls, function() {\n      console.debug(\"Bokeh: BokehJS plotting callback run at\", now());\n      run_inline_js();\n    });\n  }\n}(window));"
     },
     "metadata": {},
     "output_type": "display_data"
    },
    {
     "data": {
      "text/html": [
       "\n",
       "  <div id=\"a9e0a70a-e549-4a27-9e16-4acf56a9380f\" data-root-id=\"p1042\" style=\"display: contents;\"></div>\n"
      ]
     },
     "metadata": {},
     "output_type": "display_data"
    },
    {
     "data": {
      "application/javascript": [
       "(function(root) {\n",
       "  function embed_document(root) {\n",
       "  const docs_json = {\"a7971482-9d08-4c41-8490-103358856580\":{\"version\":\"3.2.0\",\"title\":\"Bokeh Application\",\"roots\":[{\"type\":\"object\",\"name\":\"Figure\",\"id\":\"p1042\",\"attributes\":{\"width\":800,\"height\":400,\"x_range\":{\"type\":\"object\",\"name\":\"FactorRange\",\"id\":\"p1052\",\"attributes\":{\"factors\":[\"Python\",\"JavaScript\",\"TypeScript\",\"Go\",\"C++\",\"Java\",\"C#\",\"Jupyter Notebook\",\"C\",\"Rust\"]}},\"y_range\":{\"type\":\"object\",\"name\":\"Range1d\",\"id\":\"p1053\",\"attributes\":{\"end\":23946}},\"x_scale\":{\"type\":\"object\",\"name\":\"CategoricalScale\",\"id\":\"p1054\"},\"y_scale\":{\"type\":\"object\",\"name\":\"LinearScale\",\"id\":\"p1055\"},\"title\":{\"type\":\"object\",\"name\":\"Title\",\"id\":\"p1045\",\"attributes\":{\"text\":\"Les langages de programmation tendance\"}},\"renderers\":[{\"type\":\"object\",\"name\":\"GlyphRenderer\",\"id\":\"p1079\",\"attributes\":{\"data_source\":{\"type\":\"object\",\"name\":\"ColumnDataSource\",\"id\":\"p1073\",\"attributes\":{\"selected\":{\"type\":\"object\",\"name\":\"Selection\",\"id\":\"p1074\",\"attributes\":{\"indices\":[],\"line_indices\":[]}},\"selection_policy\":{\"type\":\"object\",\"name\":\"UnionRenderers\",\"id\":\"p1075\"},\"data\":{\"type\":\"map\",\"entries\":[[\"x\",[\"Python\",\"JavaScript\",\"TypeScript\",\"Go\",\"C++\",\"Java\",\"C#\",\"Jupyter Notebook\",\"C\",\"Rust\"]],[\"top\",[23936,13783,8716,6396,6337,5961,4593,4176,3928,3376]]]}}},\"view\":{\"type\":\"object\",\"name\":\"CDSView\",\"id\":\"p1080\",\"attributes\":{\"filter\":{\"type\":\"object\",\"name\":\"AllIndices\",\"id\":\"p1081\"}}},\"glyph\":{\"type\":\"object\",\"name\":\"VBar\",\"id\":\"p1076\",\"attributes\":{\"x\":{\"type\":\"field\",\"field\":\"x\"},\"width\":{\"type\":\"value\",\"value\":0.9},\"top\":{\"type\":\"field\",\"field\":\"top\"},\"line_color\":{\"type\":\"value\",\"value\":\"#1f77b4\"},\"fill_color\":{\"type\":\"value\",\"value\":\"#1f77b4\"},\"hatch_color\":{\"type\":\"value\",\"value\":\"#1f77b4\"}}},\"nonselection_glyph\":{\"type\":\"object\",\"name\":\"VBar\",\"id\":\"p1077\",\"attributes\":{\"x\":{\"type\":\"field\",\"field\":\"x\"},\"width\":{\"type\":\"value\",\"value\":0.9},\"top\":{\"type\":\"field\",\"field\":\"top\"},\"line_color\":{\"type\":\"value\",\"value\":\"#1f77b4\"},\"line_alpha\":{\"type\":\"value\",\"value\":0.1},\"fill_color\":{\"type\":\"value\",\"value\":\"#1f77b4\"},\"fill_alpha\":{\"type\":\"value\",\"value\":0.1},\"hatch_color\":{\"type\":\"value\",\"value\":\"#1f77b4\"},\"hatch_alpha\":{\"type\":\"value\",\"value\":0.1}}},\"muted_glyph\":{\"type\":\"object\",\"name\":\"VBar\",\"id\":\"p1078\",\"attributes\":{\"x\":{\"type\":\"field\",\"field\":\"x\"},\"width\":{\"type\":\"value\",\"value\":0.9},\"top\":{\"type\":\"field\",\"field\":\"top\"},\"line_color\":{\"type\":\"value\",\"value\":\"#1f77b4\"},\"line_alpha\":{\"type\":\"value\",\"value\":0.2},\"fill_color\":{\"type\":\"value\",\"value\":\"#1f77b4\"},\"fill_alpha\":{\"type\":\"value\",\"value\":0.2},\"hatch_color\":{\"type\":\"value\",\"value\":\"#1f77b4\"},\"hatch_alpha\":{\"type\":\"value\",\"value\":0.2}}}}}],\"toolbar\":{\"type\":\"object\",\"name\":\"Toolbar\",\"id\":\"p1051\",\"attributes\":{\"tools\":[{\"type\":\"object\",\"name\":\"PanTool\",\"id\":\"p1066\"},{\"type\":\"object\",\"name\":\"WheelZoomTool\",\"id\":\"p1067\"},{\"type\":\"object\",\"name\":\"BoxZoomTool\",\"id\":\"p1068\",\"attributes\":{\"overlay\":{\"type\":\"object\",\"name\":\"BoxAnnotation\",\"id\":\"p1069\",\"attributes\":{\"syncable\":false,\"level\":\"overlay\",\"visible\":false,\"left_units\":\"canvas\",\"right_units\":\"canvas\",\"bottom_units\":\"canvas\",\"top_units\":\"canvas\",\"line_color\":\"black\",\"line_alpha\":1.0,\"line_width\":2,\"line_dash\":[4,4],\"fill_color\":\"lightgrey\",\"fill_alpha\":0.5}}}},{\"type\":\"object\",\"name\":\"SaveTool\",\"id\":\"p1070\"},{\"type\":\"object\",\"name\":\"ResetTool\",\"id\":\"p1071\"},{\"type\":\"object\",\"name\":\"HelpTool\",\"id\":\"p1072\"},{\"type\":\"object\",\"name\":\"HoverTool\",\"id\":\"p1082\",\"attributes\":{\"renderers\":\"auto\",\"tooltips\":[[\"Langage\",\"@x\"],[\"Comptage\",\"@y\"]]}}]}},\"left\":[{\"type\":\"object\",\"name\":\"LinearAxis\",\"id\":\"p1061\",\"attributes\":{\"ticker\":{\"type\":\"object\",\"name\":\"BasicTicker\",\"id\":\"p1062\",\"attributes\":{\"mantissas\":[1,2,5]}},\"formatter\":{\"type\":\"object\",\"name\":\"BasicTickFormatter\",\"id\":\"p1063\"},\"axis_label\":\"Nomber du projet\",\"major_label_policy\":{\"type\":\"object\",\"name\":\"AllLabels\",\"id\":\"p1064\"}}}],\"below\":[{\"type\":\"object\",\"name\":\"CategoricalAxis\",\"id\":\"p1056\",\"attributes\":{\"ticker\":{\"type\":\"object\",\"name\":\"CategoricalTicker\",\"id\":\"p1057\"},\"formatter\":{\"type\":\"object\",\"name\":\"CategoricalTickFormatter\",\"id\":\"p1058\"},\"axis_label\":\"Langages de programmation\",\"major_label_orientation\":1.2,\"major_label_policy\":{\"type\":\"object\",\"name\":\"AllLabels\",\"id\":\"p1059\"}}}],\"center\":[{\"type\":\"object\",\"name\":\"Grid\",\"id\":\"p1060\",\"attributes\":{\"axis\":{\"id\":\"p1056\"}}},{\"type\":\"object\",\"name\":\"Grid\",\"id\":\"p1065\",\"attributes\":{\"dimension\":1,\"axis\":{\"id\":\"p1061\"}}}]}}]}};\n",
       "  const render_items = [{\"docid\":\"a7971482-9d08-4c41-8490-103358856580\",\"roots\":{\"p1042\":\"a9e0a70a-e549-4a27-9e16-4acf56a9380f\"},\"root_ids\":[\"p1042\"]}];\n",
       "  root.Bokeh.embed.embed_items_notebook(docs_json, render_items);\n",
       "  }\n",
       "  if (root.Bokeh !== undefined) {\n",
       "    embed_document(root);\n",
       "  } else {\n",
       "    let attempts = 0;\n",
       "    const timer = setInterval(function(root) {\n",
       "      if (root.Bokeh !== undefined) {\n",
       "        clearInterval(timer);\n",
       "        embed_document(root);\n",
       "      } else {\n",
       "        attempts++;\n",
       "        if (attempts > 100) {\n",
       "          clearInterval(timer);\n",
       "          console.log(\"Bokeh: ERROR: Unable to run BokehJS code because BokehJS library is missing\");\n",
       "        }\n",
       "      }\n",
       "    }, 10, root)\n",
       "  }\n",
       "})(window);"
      ],
      "application/vnd.bokehjs_exec.v0+json": ""
     },
     "metadata": {
      "application/vnd.bokehjs_exec.v0+json": {
       "id": "p1042"
      }
     },
     "output_type": "display_data"
    }
   ],
   "source": [
    "from bokeh.plotting import figure, show\n",
    "from bokeh.io import output_notebook\n",
    "from bokeh.models import HoverTool\n",
    "from bokeh.palettes import Category20\n",
    "from collections import Counter\n",
    "\n",
    "# Assuming you have a DataFrame named df with a column named 'language' containing the programming languages\n",
    "\n",
    "# Extracting the language counts\n",
    "languages = df['language'].dropna().tolist()\n",
    "language_counts = Counter(languages)\n",
    "top_languages = dict(language_counts.most_common(10))\n",
    "languages, counts = zip(*top_languages.items())\n",
    "\n",
    "# Creating the plot\n",
    "output_notebook()  # If you're working in a Jupyter Notebook, otherwise omit this line\n",
    "\n",
    "p = figure(width=800, height=400, title=\"Les langages de programmation tendance\",\n",
    "           x_range=languages, y_range=(0, max(counts) + 10))\n",
    "\n",
    "p.vbar(x=languages, top=counts, width=0.9, color=Category20[20][0])\n",
    "\n",
    "\n",
    "p.xaxis.axis_label = \"Langages de programmation\"\n",
    "p.yaxis.axis_label = \"Nomber du projet\"\n",
    "p.xaxis.major_label_orientation = 1.2\n",
    "\n",
    "# Adding hover tooltip\n",
    "hover = HoverTool(tooltips=[(\"Langage\", \"@x\"), (\"Comptage\", \"@y\")])\n",
    "p.add_tools(hover)\n",
    "\n",
    "show(p)"
   ]
  },
  {
   "cell_type": "code",
   "execution_count": 49,
   "id": "6d3b1f0f",
   "metadata": {},
   "outputs": [
    {
     "data": {
      "application/vnd.plotly.v1+json": {
       "config": {
        "plotlyServerURL": "https://plot.ly"
       },
       "data": [
        {
         "alignmentgroup": "True",
         "hovertemplate": "name=%{x}<br>stargazers_count=%{y}<extra></extra>",
         "legendgroup": "Deep-Learning-21-Examples",
         "marker": {
          "color": "#636efa",
          "pattern": {
           "shape": ""
          }
         },
         "name": "Deep-Learning-21-Examples",
         "offsetgroup": "Deep-Learning-21-Examples",
         "orientation": "v",
         "showlegend": true,
         "textposition": "auto",
         "type": "bar",
         "x": [
          "Deep-Learning-21-Examples"
         ],
         "xaxis": "x",
         "y": [
          4340
         ],
         "yaxis": "y"
        },
        {
         "alignmentgroup": "True",
         "hovertemplate": "name=%{x}<br>stargazers_count=%{y}<extra></extra>",
         "legendgroup": "lit",
         "marker": {
          "color": "#EF553B",
          "pattern": {
           "shape": ""
          }
         },
         "name": "lit",
         "offsetgroup": "lit",
         "orientation": "v",
         "showlegend": true,
         "textposition": "auto",
         "type": "bar",
         "x": [
          "lit"
         ],
         "xaxis": "x",
         "y": [
          1969
         ],
         "yaxis": "y"
        },
        {
         "alignmentgroup": "True",
         "hovertemplate": "name=%{x}<br>stargazers_count=%{y}<extra></extra>",
         "legendgroup": "hdl_graph_slam",
         "marker": {
          "color": "#00cc96",
          "pattern": {
           "shape": ""
          }
         },
         "name": "hdl_graph_slam",
         "offsetgroup": "hdl_graph_slam",
         "orientation": "v",
         "showlegend": true,
         "textposition": "auto",
         "type": "bar",
         "x": [
          "hdl_graph_slam"
         ],
         "xaxis": "x",
         "y": [
          1644
         ],
         "yaxis": "y"
        },
        {
         "alignmentgroup": "True",
         "hovertemplate": "name=%{x}<br>stargazers_count=%{y}<extra></extra>",
         "legendgroup": "react-projects",
         "marker": {
          "color": "#ab63fa",
          "pattern": {
           "shape": ""
          }
         },
         "name": "react-projects",
         "offsetgroup": "react-projects",
         "orientation": "v",
         "showlegend": true,
         "textposition": "auto",
         "type": "bar",
         "x": [
          "react-projects"
         ],
         "xaxis": "x",
         "y": [
          1362
         ],
         "yaxis": "y"
        },
        {
         "alignmentgroup": "True",
         "hovertemplate": "name=%{x}<br>stargazers_count=%{y}<extra></extra>",
         "legendgroup": "weixin",
         "marker": {
          "color": "#FFA15A",
          "pattern": {
           "shape": ""
          }
         },
         "name": "weixin",
         "offsetgroup": "weixin",
         "orientation": "v",
         "showlegend": true,
         "textposition": "auto",
         "type": "bar",
         "x": [
          "weixin"
         ],
         "xaxis": "x",
         "y": [
          1307
         ],
         "yaxis": "y"
        },
        {
         "alignmentgroup": "True",
         "hovertemplate": "name=%{x}<br>stargazers_count=%{y}<extra></extra>",
         "legendgroup": "vue-loading-overlay",
         "marker": {
          "color": "#19d3f3",
          "pattern": {
           "shape": ""
          }
         },
         "name": "vue-loading-overlay",
         "offsetgroup": "vue-loading-overlay",
         "orientation": "v",
         "showlegend": true,
         "textposition": "auto",
         "type": "bar",
         "x": [
          "vue-loading-overlay"
         ],
         "xaxis": "x",
         "y": [
          1128
         ],
         "yaxis": "y"
        },
        {
         "alignmentgroup": "True",
         "hovertemplate": "name=%{x}<br>stargazers_count=%{y}<extra></extra>",
         "legendgroup": "gnss-ins-sim",
         "marker": {
          "color": "#FF6692",
          "pattern": {
           "shape": ""
          }
         },
         "name": "gnss-ins-sim",
         "offsetgroup": "gnss-ins-sim",
         "orientation": "v",
         "showlegend": true,
         "textposition": "auto",
         "type": "bar",
         "x": [
          "gnss-ins-sim"
         ],
         "xaxis": "x",
         "y": [
          922
         ],
         "yaxis": "y"
        },
        {
         "alignmentgroup": "True",
         "hovertemplate": "name=%{x}<br>stargazers_count=%{y}<extra></extra>",
         "legendgroup": "deeplearning-assignment",
         "marker": {
          "color": "#B6E880",
          "pattern": {
           "shape": ""
          }
         },
         "name": "deeplearning-assignment",
         "offsetgroup": "deeplearning-assignment",
         "orientation": "v",
         "showlegend": true,
         "textposition": "auto",
         "type": "bar",
         "x": [
          "deeplearning-assignment"
         ],
         "xaxis": "x",
         "y": [
          736
         ],
         "yaxis": "y"
        },
        {
         "alignmentgroup": "True",
         "hovertemplate": "name=%{x}<br>stargazers_count=%{y}<extra></extra>",
         "legendgroup": "super-resolution",
         "marker": {
          "color": "#FF97FF",
          "pattern": {
           "shape": ""
          }
         },
         "name": "super-resolution",
         "offsetgroup": "super-resolution",
         "orientation": "v",
         "showlegend": true,
         "textposition": "auto",
         "type": "bar",
         "x": [
          "super-resolution"
         ],
         "xaxis": "x",
         "y": [
          728
         ],
         "yaxis": "y"
        },
        {
         "alignmentgroup": "True",
         "hovertemplate": "name=%{x}<br>stargazers_count=%{y}<extra></extra>",
         "legendgroup": "Satellite-Segmentation",
         "marker": {
          "color": "#FECB52",
          "pattern": {
           "shape": ""
          }
         },
         "name": "Satellite-Segmentation",
         "offsetgroup": "Satellite-Segmentation",
         "orientation": "v",
         "showlegend": true,
         "textposition": "auto",
         "type": "bar",
         "x": [
          "Satellite-Segmentation"
         ],
         "xaxis": "x",
         "y": [
          590
         ],
         "yaxis": "y"
        }
       ],
       "layout": {
        "barmode": "relative",
        "legend": {
         "title": {
          "text": "name"
         },
         "tracegroupgap": 0
        },
        "margin": {
         "t": 60
        },
        "template": {
         "data": {
          "bar": [
           {
            "error_x": {
             "color": "#2a3f5f"
            },
            "error_y": {
             "color": "#2a3f5f"
            },
            "marker": {
             "line": {
              "color": "#E5ECF6",
              "width": 0.5
             },
             "pattern": {
              "fillmode": "overlay",
              "size": 10,
              "solidity": 0.2
             }
            },
            "type": "bar"
           }
          ],
          "barpolar": [
           {
            "marker": {
             "line": {
              "color": "#E5ECF6",
              "width": 0.5
             },
             "pattern": {
              "fillmode": "overlay",
              "size": 10,
              "solidity": 0.2
             }
            },
            "type": "barpolar"
           }
          ],
          "carpet": [
           {
            "aaxis": {
             "endlinecolor": "#2a3f5f",
             "gridcolor": "white",
             "linecolor": "white",
             "minorgridcolor": "white",
             "startlinecolor": "#2a3f5f"
            },
            "baxis": {
             "endlinecolor": "#2a3f5f",
             "gridcolor": "white",
             "linecolor": "white",
             "minorgridcolor": "white",
             "startlinecolor": "#2a3f5f"
            },
            "type": "carpet"
           }
          ],
          "choropleth": [
           {
            "colorbar": {
             "outlinewidth": 0,
             "ticks": ""
            },
            "type": "choropleth"
           }
          ],
          "contour": [
           {
            "colorbar": {
             "outlinewidth": 0,
             "ticks": ""
            },
            "colorscale": [
             [
              0,
              "#0d0887"
             ],
             [
              0.1111111111111111,
              "#46039f"
             ],
             [
              0.2222222222222222,
              "#7201a8"
             ],
             [
              0.3333333333333333,
              "#9c179e"
             ],
             [
              0.4444444444444444,
              "#bd3786"
             ],
             [
              0.5555555555555556,
              "#d8576b"
             ],
             [
              0.6666666666666666,
              "#ed7953"
             ],
             [
              0.7777777777777778,
              "#fb9f3a"
             ],
             [
              0.8888888888888888,
              "#fdca26"
             ],
             [
              1,
              "#f0f921"
             ]
            ],
            "type": "contour"
           }
          ],
          "contourcarpet": [
           {
            "colorbar": {
             "outlinewidth": 0,
             "ticks": ""
            },
            "type": "contourcarpet"
           }
          ],
          "heatmap": [
           {
            "colorbar": {
             "outlinewidth": 0,
             "ticks": ""
            },
            "colorscale": [
             [
              0,
              "#0d0887"
             ],
             [
              0.1111111111111111,
              "#46039f"
             ],
             [
              0.2222222222222222,
              "#7201a8"
             ],
             [
              0.3333333333333333,
              "#9c179e"
             ],
             [
              0.4444444444444444,
              "#bd3786"
             ],
             [
              0.5555555555555556,
              "#d8576b"
             ],
             [
              0.6666666666666666,
              "#ed7953"
             ],
             [
              0.7777777777777778,
              "#fb9f3a"
             ],
             [
              0.8888888888888888,
              "#fdca26"
             ],
             [
              1,
              "#f0f921"
             ]
            ],
            "type": "heatmap"
           }
          ],
          "heatmapgl": [
           {
            "colorbar": {
             "outlinewidth": 0,
             "ticks": ""
            },
            "colorscale": [
             [
              0,
              "#0d0887"
             ],
             [
              0.1111111111111111,
              "#46039f"
             ],
             [
              0.2222222222222222,
              "#7201a8"
             ],
             [
              0.3333333333333333,
              "#9c179e"
             ],
             [
              0.4444444444444444,
              "#bd3786"
             ],
             [
              0.5555555555555556,
              "#d8576b"
             ],
             [
              0.6666666666666666,
              "#ed7953"
             ],
             [
              0.7777777777777778,
              "#fb9f3a"
             ],
             [
              0.8888888888888888,
              "#fdca26"
             ],
             [
              1,
              "#f0f921"
             ]
            ],
            "type": "heatmapgl"
           }
          ],
          "histogram": [
           {
            "marker": {
             "pattern": {
              "fillmode": "overlay",
              "size": 10,
              "solidity": 0.2
             }
            },
            "type": "histogram"
           }
          ],
          "histogram2d": [
           {
            "colorbar": {
             "outlinewidth": 0,
             "ticks": ""
            },
            "colorscale": [
             [
              0,
              "#0d0887"
             ],
             [
              0.1111111111111111,
              "#46039f"
             ],
             [
              0.2222222222222222,
              "#7201a8"
             ],
             [
              0.3333333333333333,
              "#9c179e"
             ],
             [
              0.4444444444444444,
              "#bd3786"
             ],
             [
              0.5555555555555556,
              "#d8576b"
             ],
             [
              0.6666666666666666,
              "#ed7953"
             ],
             [
              0.7777777777777778,
              "#fb9f3a"
             ],
             [
              0.8888888888888888,
              "#fdca26"
             ],
             [
              1,
              "#f0f921"
             ]
            ],
            "type": "histogram2d"
           }
          ],
          "histogram2dcontour": [
           {
            "colorbar": {
             "outlinewidth": 0,
             "ticks": ""
            },
            "colorscale": [
             [
              0,
              "#0d0887"
             ],
             [
              0.1111111111111111,
              "#46039f"
             ],
             [
              0.2222222222222222,
              "#7201a8"
             ],
             [
              0.3333333333333333,
              "#9c179e"
             ],
             [
              0.4444444444444444,
              "#bd3786"
             ],
             [
              0.5555555555555556,
              "#d8576b"
             ],
             [
              0.6666666666666666,
              "#ed7953"
             ],
             [
              0.7777777777777778,
              "#fb9f3a"
             ],
             [
              0.8888888888888888,
              "#fdca26"
             ],
             [
              1,
              "#f0f921"
             ]
            ],
            "type": "histogram2dcontour"
           }
          ],
          "mesh3d": [
           {
            "colorbar": {
             "outlinewidth": 0,
             "ticks": ""
            },
            "type": "mesh3d"
           }
          ],
          "parcoords": [
           {
            "line": {
             "colorbar": {
              "outlinewidth": 0,
              "ticks": ""
             }
            },
            "type": "parcoords"
           }
          ],
          "pie": [
           {
            "automargin": true,
            "type": "pie"
           }
          ],
          "scatter": [
           {
            "fillpattern": {
             "fillmode": "overlay",
             "size": 10,
             "solidity": 0.2
            },
            "type": "scatter"
           }
          ],
          "scatter3d": [
           {
            "line": {
             "colorbar": {
              "outlinewidth": 0,
              "ticks": ""
             }
            },
            "marker": {
             "colorbar": {
              "outlinewidth": 0,
              "ticks": ""
             }
            },
            "type": "scatter3d"
           }
          ],
          "scattercarpet": [
           {
            "marker": {
             "colorbar": {
              "outlinewidth": 0,
              "ticks": ""
             }
            },
            "type": "scattercarpet"
           }
          ],
          "scattergeo": [
           {
            "marker": {
             "colorbar": {
              "outlinewidth": 0,
              "ticks": ""
             }
            },
            "type": "scattergeo"
           }
          ],
          "scattergl": [
           {
            "marker": {
             "colorbar": {
              "outlinewidth": 0,
              "ticks": ""
             }
            },
            "type": "scattergl"
           }
          ],
          "scattermapbox": [
           {
            "marker": {
             "colorbar": {
              "outlinewidth": 0,
              "ticks": ""
             }
            },
            "type": "scattermapbox"
           }
          ],
          "scatterpolar": [
           {
            "marker": {
             "colorbar": {
              "outlinewidth": 0,
              "ticks": ""
             }
            },
            "type": "scatterpolar"
           }
          ],
          "scatterpolargl": [
           {
            "marker": {
             "colorbar": {
              "outlinewidth": 0,
              "ticks": ""
             }
            },
            "type": "scatterpolargl"
           }
          ],
          "scatterternary": [
           {
            "marker": {
             "colorbar": {
              "outlinewidth": 0,
              "ticks": ""
             }
            },
            "type": "scatterternary"
           }
          ],
          "surface": [
           {
            "colorbar": {
             "outlinewidth": 0,
             "ticks": ""
            },
            "colorscale": [
             [
              0,
              "#0d0887"
             ],
             [
              0.1111111111111111,
              "#46039f"
             ],
             [
              0.2222222222222222,
              "#7201a8"
             ],
             [
              0.3333333333333333,
              "#9c179e"
             ],
             [
              0.4444444444444444,
              "#bd3786"
             ],
             [
              0.5555555555555556,
              "#d8576b"
             ],
             [
              0.6666666666666666,
              "#ed7953"
             ],
             [
              0.7777777777777778,
              "#fb9f3a"
             ],
             [
              0.8888888888888888,
              "#fdca26"
             ],
             [
              1,
              "#f0f921"
             ]
            ],
            "type": "surface"
           }
          ],
          "table": [
           {
            "cells": {
             "fill": {
              "color": "#EBF0F8"
             },
             "line": {
              "color": "white"
             }
            },
            "header": {
             "fill": {
              "color": "#C8D4E3"
             },
             "line": {
              "color": "white"
             }
            },
            "type": "table"
           }
          ]
         },
         "layout": {
          "annotationdefaults": {
           "arrowcolor": "#2a3f5f",
           "arrowhead": 0,
           "arrowwidth": 1
          },
          "autotypenumbers": "strict",
          "coloraxis": {
           "colorbar": {
            "outlinewidth": 0,
            "ticks": ""
           }
          },
          "colorscale": {
           "diverging": [
            [
             0,
             "#8e0152"
            ],
            [
             0.1,
             "#c51b7d"
            ],
            [
             0.2,
             "#de77ae"
            ],
            [
             0.3,
             "#f1b6da"
            ],
            [
             0.4,
             "#fde0ef"
            ],
            [
             0.5,
             "#f7f7f7"
            ],
            [
             0.6,
             "#e6f5d0"
            ],
            [
             0.7,
             "#b8e186"
            ],
            [
             0.8,
             "#7fbc41"
            ],
            [
             0.9,
             "#4d9221"
            ],
            [
             1,
             "#276419"
            ]
           ],
           "sequential": [
            [
             0,
             "#0d0887"
            ],
            [
             0.1111111111111111,
             "#46039f"
            ],
            [
             0.2222222222222222,
             "#7201a8"
            ],
            [
             0.3333333333333333,
             "#9c179e"
            ],
            [
             0.4444444444444444,
             "#bd3786"
            ],
            [
             0.5555555555555556,
             "#d8576b"
            ],
            [
             0.6666666666666666,
             "#ed7953"
            ],
            [
             0.7777777777777778,
             "#fb9f3a"
            ],
            [
             0.8888888888888888,
             "#fdca26"
            ],
            [
             1,
             "#f0f921"
            ]
           ],
           "sequentialminus": [
            [
             0,
             "#0d0887"
            ],
            [
             0.1111111111111111,
             "#46039f"
            ],
            [
             0.2222222222222222,
             "#7201a8"
            ],
            [
             0.3333333333333333,
             "#9c179e"
            ],
            [
             0.4444444444444444,
             "#bd3786"
            ],
            [
             0.5555555555555556,
             "#d8576b"
            ],
            [
             0.6666666666666666,
             "#ed7953"
            ],
            [
             0.7777777777777778,
             "#fb9f3a"
            ],
            [
             0.8888888888888888,
             "#fdca26"
            ],
            [
             1,
             "#f0f921"
            ]
           ]
          },
          "colorway": [
           "#636efa",
           "#EF553B",
           "#00cc96",
           "#ab63fa",
           "#FFA15A",
           "#19d3f3",
           "#FF6692",
           "#B6E880",
           "#FF97FF",
           "#FECB52"
          ],
          "font": {
           "color": "#2a3f5f"
          },
          "geo": {
           "bgcolor": "white",
           "lakecolor": "white",
           "landcolor": "#E5ECF6",
           "showlakes": true,
           "showland": true,
           "subunitcolor": "white"
          },
          "hoverlabel": {
           "align": "left"
          },
          "hovermode": "closest",
          "mapbox": {
           "style": "light"
          },
          "paper_bgcolor": "white",
          "plot_bgcolor": "#E5ECF6",
          "polar": {
           "angularaxis": {
            "gridcolor": "white",
            "linecolor": "white",
            "ticks": ""
           },
           "bgcolor": "#E5ECF6",
           "radialaxis": {
            "gridcolor": "white",
            "linecolor": "white",
            "ticks": ""
           }
          },
          "scene": {
           "xaxis": {
            "backgroundcolor": "#E5ECF6",
            "gridcolor": "white",
            "gridwidth": 2,
            "linecolor": "white",
            "showbackground": true,
            "ticks": "",
            "zerolinecolor": "white"
           },
           "yaxis": {
            "backgroundcolor": "#E5ECF6",
            "gridcolor": "white",
            "gridwidth": 2,
            "linecolor": "white",
            "showbackground": true,
            "ticks": "",
            "zerolinecolor": "white"
           },
           "zaxis": {
            "backgroundcolor": "#E5ECF6",
            "gridcolor": "white",
            "gridwidth": 2,
            "linecolor": "white",
            "showbackground": true,
            "ticks": "",
            "zerolinecolor": "white"
           }
          },
          "shapedefaults": {
           "line": {
            "color": "#2a3f5f"
           }
          },
          "ternary": {
           "aaxis": {
            "gridcolor": "white",
            "linecolor": "white",
            "ticks": ""
           },
           "baxis": {
            "gridcolor": "white",
            "linecolor": "white",
            "ticks": ""
           },
           "bgcolor": "#E5ECF6",
           "caxis": {
            "gridcolor": "white",
            "linecolor": "white",
            "ticks": ""
           }
          },
          "title": {
           "x": 0.05
          },
          "xaxis": {
           "automargin": true,
           "gridcolor": "white",
           "linecolor": "white",
           "ticks": "",
           "title": {
            "standoff": 15
           },
           "zerolinecolor": "white",
           "zerolinewidth": 2
          },
          "yaxis": {
           "automargin": true,
           "gridcolor": "white",
           "linecolor": "white",
           "ticks": "",
           "title": {
            "standoff": 15
           },
           "zerolinecolor": "white",
           "zerolinewidth": 2
          }
         }
        },
        "xaxis": {
         "anchor": "y",
         "categoryarray": [
          "Deep-Learning-21-Examples",
          "lit",
          "hdl_graph_slam",
          "react-projects",
          "weixin",
          "vue-loading-overlay",
          "gnss-ins-sim",
          "deeplearning-assignment",
          "super-resolution",
          "Satellite-Segmentation"
         ],
         "categoryorder": "array",
         "domain": [
          0,
          1
         ],
         "title": {
          "text": "Repository Name"
         }
        },
        "yaxis": {
         "anchor": "x",
         "domain": [
          0,
          1
         ],
         "title": {
          "text": "Stargazers Count"
         }
        }
       }
      },
      "text/html": [
       "<div>                            <div id=\"ac37c93b-3d3c-4243-9502-0280f6053ed8\" class=\"plotly-graph-div\" style=\"height:525px; width:100%;\"></div>            <script type=\"text/javascript\">                require([\"plotly\"], function(Plotly) {                    window.PLOTLYENV=window.PLOTLYENV || {};                                    if (document.getElementById(\"ac37c93b-3d3c-4243-9502-0280f6053ed8\")) {                    Plotly.newPlot(                        \"ac37c93b-3d3c-4243-9502-0280f6053ed8\",                        [{\"alignmentgroup\":\"True\",\"hovertemplate\":\"name=%{x}<br>stargazers_count=%{y}<extra></extra>\",\"legendgroup\":\"Deep-Learning-21-Examples\",\"marker\":{\"color\":\"#636efa\",\"pattern\":{\"shape\":\"\"}},\"name\":\"Deep-Learning-21-Examples\",\"offsetgroup\":\"Deep-Learning-21-Examples\",\"orientation\":\"v\",\"showlegend\":true,\"textposition\":\"auto\",\"x\":[\"Deep-Learning-21-Examples\"],\"xaxis\":\"x\",\"y\":[4340],\"yaxis\":\"y\",\"type\":\"bar\"},{\"alignmentgroup\":\"True\",\"hovertemplate\":\"name=%{x}<br>stargazers_count=%{y}<extra></extra>\",\"legendgroup\":\"lit\",\"marker\":{\"color\":\"#EF553B\",\"pattern\":{\"shape\":\"\"}},\"name\":\"lit\",\"offsetgroup\":\"lit\",\"orientation\":\"v\",\"showlegend\":true,\"textposition\":\"auto\",\"x\":[\"lit\"],\"xaxis\":\"x\",\"y\":[1969],\"yaxis\":\"y\",\"type\":\"bar\"},{\"alignmentgroup\":\"True\",\"hovertemplate\":\"name=%{x}<br>stargazers_count=%{y}<extra></extra>\",\"legendgroup\":\"hdl_graph_slam\",\"marker\":{\"color\":\"#00cc96\",\"pattern\":{\"shape\":\"\"}},\"name\":\"hdl_graph_slam\",\"offsetgroup\":\"hdl_graph_slam\",\"orientation\":\"v\",\"showlegend\":true,\"textposition\":\"auto\",\"x\":[\"hdl_graph_slam\"],\"xaxis\":\"x\",\"y\":[1644],\"yaxis\":\"y\",\"type\":\"bar\"},{\"alignmentgroup\":\"True\",\"hovertemplate\":\"name=%{x}<br>stargazers_count=%{y}<extra></extra>\",\"legendgroup\":\"react-projects\",\"marker\":{\"color\":\"#ab63fa\",\"pattern\":{\"shape\":\"\"}},\"name\":\"react-projects\",\"offsetgroup\":\"react-projects\",\"orientation\":\"v\",\"showlegend\":true,\"textposition\":\"auto\",\"x\":[\"react-projects\"],\"xaxis\":\"x\",\"y\":[1362],\"yaxis\":\"y\",\"type\":\"bar\"},{\"alignmentgroup\":\"True\",\"hovertemplate\":\"name=%{x}<br>stargazers_count=%{y}<extra></extra>\",\"legendgroup\":\"weixin\",\"marker\":{\"color\":\"#FFA15A\",\"pattern\":{\"shape\":\"\"}},\"name\":\"weixin\",\"offsetgroup\":\"weixin\",\"orientation\":\"v\",\"showlegend\":true,\"textposition\":\"auto\",\"x\":[\"weixin\"],\"xaxis\":\"x\",\"y\":[1307],\"yaxis\":\"y\",\"type\":\"bar\"},{\"alignmentgroup\":\"True\",\"hovertemplate\":\"name=%{x}<br>stargazers_count=%{y}<extra></extra>\",\"legendgroup\":\"vue-loading-overlay\",\"marker\":{\"color\":\"#19d3f3\",\"pattern\":{\"shape\":\"\"}},\"name\":\"vue-loading-overlay\",\"offsetgroup\":\"vue-loading-overlay\",\"orientation\":\"v\",\"showlegend\":true,\"textposition\":\"auto\",\"x\":[\"vue-loading-overlay\"],\"xaxis\":\"x\",\"y\":[1128],\"yaxis\":\"y\",\"type\":\"bar\"},{\"alignmentgroup\":\"True\",\"hovertemplate\":\"name=%{x}<br>stargazers_count=%{y}<extra></extra>\",\"legendgroup\":\"gnss-ins-sim\",\"marker\":{\"color\":\"#FF6692\",\"pattern\":{\"shape\":\"\"}},\"name\":\"gnss-ins-sim\",\"offsetgroup\":\"gnss-ins-sim\",\"orientation\":\"v\",\"showlegend\":true,\"textposition\":\"auto\",\"x\":[\"gnss-ins-sim\"],\"xaxis\":\"x\",\"y\":[922],\"yaxis\":\"y\",\"type\":\"bar\"},{\"alignmentgroup\":\"True\",\"hovertemplate\":\"name=%{x}<br>stargazers_count=%{y}<extra></extra>\",\"legendgroup\":\"deeplearning-assignment\",\"marker\":{\"color\":\"#B6E880\",\"pattern\":{\"shape\":\"\"}},\"name\":\"deeplearning-assignment\",\"offsetgroup\":\"deeplearning-assignment\",\"orientation\":\"v\",\"showlegend\":true,\"textposition\":\"auto\",\"x\":[\"deeplearning-assignment\"],\"xaxis\":\"x\",\"y\":[736],\"yaxis\":\"y\",\"type\":\"bar\"},{\"alignmentgroup\":\"True\",\"hovertemplate\":\"name=%{x}<br>stargazers_count=%{y}<extra></extra>\",\"legendgroup\":\"super-resolution\",\"marker\":{\"color\":\"#FF97FF\",\"pattern\":{\"shape\":\"\"}},\"name\":\"super-resolution\",\"offsetgroup\":\"super-resolution\",\"orientation\":\"v\",\"showlegend\":true,\"textposition\":\"auto\",\"x\":[\"super-resolution\"],\"xaxis\":\"x\",\"y\":[728],\"yaxis\":\"y\",\"type\":\"bar\"},{\"alignmentgroup\":\"True\",\"hovertemplate\":\"name=%{x}<br>stargazers_count=%{y}<extra></extra>\",\"legendgroup\":\"Satellite-Segmentation\",\"marker\":{\"color\":\"#FECB52\",\"pattern\":{\"shape\":\"\"}},\"name\":\"Satellite-Segmentation\",\"offsetgroup\":\"Satellite-Segmentation\",\"orientation\":\"v\",\"showlegend\":true,\"textposition\":\"auto\",\"x\":[\"Satellite-Segmentation\"],\"xaxis\":\"x\",\"y\":[590],\"yaxis\":\"y\",\"type\":\"bar\"}],                        {\"template\":{\"data\":{\"histogram2dcontour\":[{\"type\":\"histogram2dcontour\",\"colorbar\":{\"outlinewidth\":0,\"ticks\":\"\"},\"colorscale\":[[0.0,\"#0d0887\"],[0.1111111111111111,\"#46039f\"],[0.2222222222222222,\"#7201a8\"],[0.3333333333333333,\"#9c179e\"],[0.4444444444444444,\"#bd3786\"],[0.5555555555555556,\"#d8576b\"],[0.6666666666666666,\"#ed7953\"],[0.7777777777777778,\"#fb9f3a\"],[0.8888888888888888,\"#fdca26\"],[1.0,\"#f0f921\"]]}],\"choropleth\":[{\"type\":\"choropleth\",\"colorbar\":{\"outlinewidth\":0,\"ticks\":\"\"}}],\"histogram2d\":[{\"type\":\"histogram2d\",\"colorbar\":{\"outlinewidth\":0,\"ticks\":\"\"},\"colorscale\":[[0.0,\"#0d0887\"],[0.1111111111111111,\"#46039f\"],[0.2222222222222222,\"#7201a8\"],[0.3333333333333333,\"#9c179e\"],[0.4444444444444444,\"#bd3786\"],[0.5555555555555556,\"#d8576b\"],[0.6666666666666666,\"#ed7953\"],[0.7777777777777778,\"#fb9f3a\"],[0.8888888888888888,\"#fdca26\"],[1.0,\"#f0f921\"]]}],\"heatmap\":[{\"type\":\"heatmap\",\"colorbar\":{\"outlinewidth\":0,\"ticks\":\"\"},\"colorscale\":[[0.0,\"#0d0887\"],[0.1111111111111111,\"#46039f\"],[0.2222222222222222,\"#7201a8\"],[0.3333333333333333,\"#9c179e\"],[0.4444444444444444,\"#bd3786\"],[0.5555555555555556,\"#d8576b\"],[0.6666666666666666,\"#ed7953\"],[0.7777777777777778,\"#fb9f3a\"],[0.8888888888888888,\"#fdca26\"],[1.0,\"#f0f921\"]]}],\"heatmapgl\":[{\"type\":\"heatmapgl\",\"colorbar\":{\"outlinewidth\":0,\"ticks\":\"\"},\"colorscale\":[[0.0,\"#0d0887\"],[0.1111111111111111,\"#46039f\"],[0.2222222222222222,\"#7201a8\"],[0.3333333333333333,\"#9c179e\"],[0.4444444444444444,\"#bd3786\"],[0.5555555555555556,\"#d8576b\"],[0.6666666666666666,\"#ed7953\"],[0.7777777777777778,\"#fb9f3a\"],[0.8888888888888888,\"#fdca26\"],[1.0,\"#f0f921\"]]}],\"contourcarpet\":[{\"type\":\"contourcarpet\",\"colorbar\":{\"outlinewidth\":0,\"ticks\":\"\"}}],\"contour\":[{\"type\":\"contour\",\"colorbar\":{\"outlinewidth\":0,\"ticks\":\"\"},\"colorscale\":[[0.0,\"#0d0887\"],[0.1111111111111111,\"#46039f\"],[0.2222222222222222,\"#7201a8\"],[0.3333333333333333,\"#9c179e\"],[0.4444444444444444,\"#bd3786\"],[0.5555555555555556,\"#d8576b\"],[0.6666666666666666,\"#ed7953\"],[0.7777777777777778,\"#fb9f3a\"],[0.8888888888888888,\"#fdca26\"],[1.0,\"#f0f921\"]]}],\"surface\":[{\"type\":\"surface\",\"colorbar\":{\"outlinewidth\":0,\"ticks\":\"\"},\"colorscale\":[[0.0,\"#0d0887\"],[0.1111111111111111,\"#46039f\"],[0.2222222222222222,\"#7201a8\"],[0.3333333333333333,\"#9c179e\"],[0.4444444444444444,\"#bd3786\"],[0.5555555555555556,\"#d8576b\"],[0.6666666666666666,\"#ed7953\"],[0.7777777777777778,\"#fb9f3a\"],[0.8888888888888888,\"#fdca26\"],[1.0,\"#f0f921\"]]}],\"mesh3d\":[{\"type\":\"mesh3d\",\"colorbar\":{\"outlinewidth\":0,\"ticks\":\"\"}}],\"scatter\":[{\"fillpattern\":{\"fillmode\":\"overlay\",\"size\":10,\"solidity\":0.2},\"type\":\"scatter\"}],\"parcoords\":[{\"type\":\"parcoords\",\"line\":{\"colorbar\":{\"outlinewidth\":0,\"ticks\":\"\"}}}],\"scatterpolargl\":[{\"type\":\"scatterpolargl\",\"marker\":{\"colorbar\":{\"outlinewidth\":0,\"ticks\":\"\"}}}],\"bar\":[{\"error_x\":{\"color\":\"#2a3f5f\"},\"error_y\":{\"color\":\"#2a3f5f\"},\"marker\":{\"line\":{\"color\":\"#E5ECF6\",\"width\":0.5},\"pattern\":{\"fillmode\":\"overlay\",\"size\":10,\"solidity\":0.2}},\"type\":\"bar\"}],\"scattergeo\":[{\"type\":\"scattergeo\",\"marker\":{\"colorbar\":{\"outlinewidth\":0,\"ticks\":\"\"}}}],\"scatterpolar\":[{\"type\":\"scatterpolar\",\"marker\":{\"colorbar\":{\"outlinewidth\":0,\"ticks\":\"\"}}}],\"histogram\":[{\"marker\":{\"pattern\":{\"fillmode\":\"overlay\",\"size\":10,\"solidity\":0.2}},\"type\":\"histogram\"}],\"scattergl\":[{\"type\":\"scattergl\",\"marker\":{\"colorbar\":{\"outlinewidth\":0,\"ticks\":\"\"}}}],\"scatter3d\":[{\"type\":\"scatter3d\",\"line\":{\"colorbar\":{\"outlinewidth\":0,\"ticks\":\"\"}},\"marker\":{\"colorbar\":{\"outlinewidth\":0,\"ticks\":\"\"}}}],\"scattermapbox\":[{\"type\":\"scattermapbox\",\"marker\":{\"colorbar\":{\"outlinewidth\":0,\"ticks\":\"\"}}}],\"scatterternary\":[{\"type\":\"scatterternary\",\"marker\":{\"colorbar\":{\"outlinewidth\":0,\"ticks\":\"\"}}}],\"scattercarpet\":[{\"type\":\"scattercarpet\",\"marker\":{\"colorbar\":{\"outlinewidth\":0,\"ticks\":\"\"}}}],\"carpet\":[{\"aaxis\":{\"endlinecolor\":\"#2a3f5f\",\"gridcolor\":\"white\",\"linecolor\":\"white\",\"minorgridcolor\":\"white\",\"startlinecolor\":\"#2a3f5f\"},\"baxis\":{\"endlinecolor\":\"#2a3f5f\",\"gridcolor\":\"white\",\"linecolor\":\"white\",\"minorgridcolor\":\"white\",\"startlinecolor\":\"#2a3f5f\"},\"type\":\"carpet\"}],\"table\":[{\"cells\":{\"fill\":{\"color\":\"#EBF0F8\"},\"line\":{\"color\":\"white\"}},\"header\":{\"fill\":{\"color\":\"#C8D4E3\"},\"line\":{\"color\":\"white\"}},\"type\":\"table\"}],\"barpolar\":[{\"marker\":{\"line\":{\"color\":\"#E5ECF6\",\"width\":0.5},\"pattern\":{\"fillmode\":\"overlay\",\"size\":10,\"solidity\":0.2}},\"type\":\"barpolar\"}],\"pie\":[{\"automargin\":true,\"type\":\"pie\"}]},\"layout\":{\"autotypenumbers\":\"strict\",\"colorway\":[\"#636efa\",\"#EF553B\",\"#00cc96\",\"#ab63fa\",\"#FFA15A\",\"#19d3f3\",\"#FF6692\",\"#B6E880\",\"#FF97FF\",\"#FECB52\"],\"font\":{\"color\":\"#2a3f5f\"},\"hovermode\":\"closest\",\"hoverlabel\":{\"align\":\"left\"},\"paper_bgcolor\":\"white\",\"plot_bgcolor\":\"#E5ECF6\",\"polar\":{\"bgcolor\":\"#E5ECF6\",\"angularaxis\":{\"gridcolor\":\"white\",\"linecolor\":\"white\",\"ticks\":\"\"},\"radialaxis\":{\"gridcolor\":\"white\",\"linecolor\":\"white\",\"ticks\":\"\"}},\"ternary\":{\"bgcolor\":\"#E5ECF6\",\"aaxis\":{\"gridcolor\":\"white\",\"linecolor\":\"white\",\"ticks\":\"\"},\"baxis\":{\"gridcolor\":\"white\",\"linecolor\":\"white\",\"ticks\":\"\"},\"caxis\":{\"gridcolor\":\"white\",\"linecolor\":\"white\",\"ticks\":\"\"}},\"coloraxis\":{\"colorbar\":{\"outlinewidth\":0,\"ticks\":\"\"}},\"colorscale\":{\"sequential\":[[0.0,\"#0d0887\"],[0.1111111111111111,\"#46039f\"],[0.2222222222222222,\"#7201a8\"],[0.3333333333333333,\"#9c179e\"],[0.4444444444444444,\"#bd3786\"],[0.5555555555555556,\"#d8576b\"],[0.6666666666666666,\"#ed7953\"],[0.7777777777777778,\"#fb9f3a\"],[0.8888888888888888,\"#fdca26\"],[1.0,\"#f0f921\"]],\"sequentialminus\":[[0.0,\"#0d0887\"],[0.1111111111111111,\"#46039f\"],[0.2222222222222222,\"#7201a8\"],[0.3333333333333333,\"#9c179e\"],[0.4444444444444444,\"#bd3786\"],[0.5555555555555556,\"#d8576b\"],[0.6666666666666666,\"#ed7953\"],[0.7777777777777778,\"#fb9f3a\"],[0.8888888888888888,\"#fdca26\"],[1.0,\"#f0f921\"]],\"diverging\":[[0,\"#8e0152\"],[0.1,\"#c51b7d\"],[0.2,\"#de77ae\"],[0.3,\"#f1b6da\"],[0.4,\"#fde0ef\"],[0.5,\"#f7f7f7\"],[0.6,\"#e6f5d0\"],[0.7,\"#b8e186\"],[0.8,\"#7fbc41\"],[0.9,\"#4d9221\"],[1,\"#276419\"]]},\"xaxis\":{\"gridcolor\":\"white\",\"linecolor\":\"white\",\"ticks\":\"\",\"title\":{\"standoff\":15},\"zerolinecolor\":\"white\",\"automargin\":true,\"zerolinewidth\":2},\"yaxis\":{\"gridcolor\":\"white\",\"linecolor\":\"white\",\"ticks\":\"\",\"title\":{\"standoff\":15},\"zerolinecolor\":\"white\",\"automargin\":true,\"zerolinewidth\":2},\"scene\":{\"xaxis\":{\"backgroundcolor\":\"#E5ECF6\",\"gridcolor\":\"white\",\"linecolor\":\"white\",\"showbackground\":true,\"ticks\":\"\",\"zerolinecolor\":\"white\",\"gridwidth\":2},\"yaxis\":{\"backgroundcolor\":\"#E5ECF6\",\"gridcolor\":\"white\",\"linecolor\":\"white\",\"showbackground\":true,\"ticks\":\"\",\"zerolinecolor\":\"white\",\"gridwidth\":2},\"zaxis\":{\"backgroundcolor\":\"#E5ECF6\",\"gridcolor\":\"white\",\"linecolor\":\"white\",\"showbackground\":true,\"ticks\":\"\",\"zerolinecolor\":\"white\",\"gridwidth\":2}},\"shapedefaults\":{\"line\":{\"color\":\"#2a3f5f\"}},\"annotationdefaults\":{\"arrowcolor\":\"#2a3f5f\",\"arrowhead\":0,\"arrowwidth\":1},\"geo\":{\"bgcolor\":\"white\",\"landcolor\":\"#E5ECF6\",\"subunitcolor\":\"white\",\"showland\":true,\"showlakes\":true,\"lakecolor\":\"white\"},\"title\":{\"x\":0.05},\"mapbox\":{\"style\":\"light\"}}},\"xaxis\":{\"anchor\":\"y\",\"domain\":[0.0,1.0],\"title\":{\"text\":\"Repository Name\"},\"categoryorder\":\"array\",\"categoryarray\":[\"Deep-Learning-21-Examples\",\"lit\",\"hdl_graph_slam\",\"react-projects\",\"weixin\",\"vue-loading-overlay\",\"gnss-ins-sim\",\"deeplearning-assignment\",\"super-resolution\",\"Satellite-Segmentation\"]},\"yaxis\":{\"anchor\":\"x\",\"domain\":[0.0,1.0],\"title\":{\"text\":\"Stargazers Count\"}},\"legend\":{\"title\":{\"text\":\"name\"},\"tracegroupgap\":0},\"margin\":{\"t\":60},\"barmode\":\"relative\"},                        {\"responsive\": true}                    ).then(function(){\n",
       "                            \n",
       "var gd = document.getElementById('ac37c93b-3d3c-4243-9502-0280f6053ed8');\n",
       "var x = new MutationObserver(function (mutations, observer) {{\n",
       "        var display = window.getComputedStyle(gd).display;\n",
       "        if (!display || display === 'none') {{\n",
       "            console.log([gd, 'removed!']);\n",
       "            Plotly.purge(gd);\n",
       "            observer.disconnect();\n",
       "        }}\n",
       "}});\n",
       "\n",
       "// Listen for the removal of the full notebook cells\n",
       "var notebookContainer = gd.closest('#notebook-container');\n",
       "if (notebookContainer) {{\n",
       "    x.observe(notebookContainer, {childList: true});\n",
       "}}\n",
       "\n",
       "// Listen for the clearing of the current output cell\n",
       "var outputEl = gd.closest('.output');\n",
       "if (outputEl) {{\n",
       "    x.observe(outputEl, {childList: true});\n",
       "}}\n",
       "\n",
       "                        })                };                });            </script>        </div>"
      ]
     },
     "metadata": {},
     "output_type": "display_data"
    }
   ],
   "source": [
    "import plotly.express as px\n",
    "\n",
    "# Créer un diagramme à barres pour les 10 repositories avec le plus grand nombre de `stargazers_count`\n",
    "fig = px.bar(df.head(10), x='name', y='stargazers_count', color='name')\n",
    "\n",
    "# Définir les étiquettes pour les axes x et y\n",
    "fig.update_layout(xaxis_title='Repository Name', yaxis_title='Stargazers Count')\n",
    "\n",
    "# Afficher le diagramme\n",
    "fig.show()"
   ]
  },
  {
   "cell_type": "code",
   "execution_count": 50,
   "id": "f6f63a63",
   "metadata": {},
   "outputs": [
    {
     "data": {
      "application/vnd.plotly.v1+json": {
       "config": {
        "plotlyServerURL": "https://plot.ly"
       },
       "data": [
        {
         "alignmentgroup": "True",
         "hovertemplate": "language=%{x}<br>name=%{y}<extra></extra>",
         "legendgroup": "Python",
         "marker": {
          "color": "#636efa",
          "pattern": {
           "shape": ""
          }
         },
         "name": "Python",
         "offsetgroup": "Python",
         "orientation": "v",
         "showlegend": true,
         "textposition": "auto",
         "type": "bar",
         "x": [
          "Python"
         ],
         "xaxis": "x",
         "y": [
          296
         ],
         "yaxis": "y"
        },
        {
         "alignmentgroup": "True",
         "hovertemplate": "language=%{x}<br>name=%{y}<extra></extra>",
         "legendgroup": "JavaScript",
         "marker": {
          "color": "#EF553B",
          "pattern": {
           "shape": ""
          }
         },
         "name": "JavaScript",
         "offsetgroup": "JavaScript",
         "orientation": "v",
         "showlegend": true,
         "textposition": "auto",
         "type": "bar",
         "x": [
          "JavaScript"
         ],
         "xaxis": "x",
         "y": [
          217
         ],
         "yaxis": "y"
        },
        {
         "alignmentgroup": "True",
         "hovertemplate": "language=%{x}<br>name=%{y}<extra></extra>",
         "legendgroup": "Java",
         "marker": {
          "color": "#00cc96",
          "pattern": {
           "shape": ""
          }
         },
         "name": "Java",
         "offsetgroup": "Java",
         "orientation": "v",
         "showlegend": true,
         "textposition": "auto",
         "type": "bar",
         "x": [
          "Java"
         ],
         "xaxis": "x",
         "y": [
          137
         ],
         "yaxis": "y"
        },
        {
         "alignmentgroup": "True",
         "hovertemplate": "language=%{x}<br>name=%{y}<extra></extra>",
         "legendgroup": "TypeScript",
         "marker": {
          "color": "#ab63fa",
          "pattern": {
           "shape": ""
          }
         },
         "name": "TypeScript",
         "offsetgroup": "TypeScript",
         "orientation": "v",
         "showlegend": true,
         "textposition": "auto",
         "type": "bar",
         "x": [
          "TypeScript"
         ],
         "xaxis": "x",
         "y": [
          97
         ],
         "yaxis": "y"
        },
        {
         "alignmentgroup": "True",
         "hovertemplate": "language=%{x}<br>name=%{y}<extra></extra>",
         "legendgroup": "Go",
         "marker": {
          "color": "#FFA15A",
          "pattern": {
           "shape": ""
          }
         },
         "name": "Go",
         "offsetgroup": "Go",
         "orientation": "v",
         "showlegend": true,
         "textposition": "auto",
         "type": "bar",
         "x": [
          "Go"
         ],
         "xaxis": "x",
         "y": [
          93
         ],
         "yaxis": "y"
        },
        {
         "alignmentgroup": "True",
         "hovertemplate": "language=%{x}<br>name=%{y}<extra></extra>",
         "legendgroup": "C++",
         "marker": {
          "color": "#19d3f3",
          "pattern": {
           "shape": ""
          }
         },
         "name": "C++",
         "offsetgroup": "C++",
         "orientation": "v",
         "showlegend": true,
         "textposition": "auto",
         "type": "bar",
         "x": [
          "C++"
         ],
         "xaxis": "x",
         "y": [
          86
         ],
         "yaxis": "y"
        },
        {
         "alignmentgroup": "True",
         "hovertemplate": "language=%{x}<br>name=%{y}<extra></extra>",
         "legendgroup": "C",
         "marker": {
          "color": "#FF6692",
          "pattern": {
           "shape": ""
          }
         },
         "name": "C",
         "offsetgroup": "C",
         "orientation": "v",
         "showlegend": true,
         "textposition": "auto",
         "type": "bar",
         "x": [
          "C"
         ],
         "xaxis": "x",
         "y": [
          73
         ],
         "yaxis": "y"
        },
        {
         "alignmentgroup": "True",
         "hovertemplate": "language=%{x}<br>name=%{y}<extra></extra>",
         "legendgroup": "HTML",
         "marker": {
          "color": "#B6E880",
          "pattern": {
           "shape": ""
          }
         },
         "name": "HTML",
         "offsetgroup": "HTML",
         "orientation": "v",
         "showlegend": true,
         "textposition": "auto",
         "type": "bar",
         "x": [
          "HTML"
         ],
         "xaxis": "x",
         "y": [
          51
         ],
         "yaxis": "y"
        },
        {
         "alignmentgroup": "True",
         "hovertemplate": "language=%{x}<br>name=%{y}<extra></extra>",
         "legendgroup": "C#",
         "marker": {
          "color": "#FF97FF",
          "pattern": {
           "shape": ""
          }
         },
         "name": "C#",
         "offsetgroup": "C#",
         "orientation": "v",
         "showlegend": true,
         "textposition": "auto",
         "type": "bar",
         "x": [
          "C#"
         ],
         "xaxis": "x",
         "y": [
          49
         ],
         "yaxis": "y"
        },
        {
         "alignmentgroup": "True",
         "hovertemplate": "language=%{x}<br>name=%{y}<extra></extra>",
         "legendgroup": "Jupyter Notebook",
         "marker": {
          "color": "#FECB52",
          "pattern": {
           "shape": ""
          }
         },
         "name": "Jupyter Notebook",
         "offsetgroup": "Jupyter Notebook",
         "orientation": "v",
         "showlegend": true,
         "textposition": "auto",
         "type": "bar",
         "x": [
          "Jupyter Notebook"
         ],
         "xaxis": "x",
         "y": [
          48
         ],
         "yaxis": "y"
        },
        {
         "alignmentgroup": "True",
         "hovertemplate": "language=%{x}<br>name=%{y}<extra></extra>",
         "legendgroup": "Rust",
         "marker": {
          "color": "#636efa",
          "pattern": {
           "shape": ""
          }
         },
         "name": "Rust",
         "offsetgroup": "Rust",
         "orientation": "v",
         "showlegend": true,
         "textposition": "auto",
         "type": "bar",
         "x": [
          "Rust"
         ],
         "xaxis": "x",
         "y": [
          46
         ],
         "yaxis": "y"
        },
        {
         "alignmentgroup": "True",
         "hovertemplate": "language=%{x}<br>name=%{y}<extra></extra>",
         "legendgroup": "Shell",
         "marker": {
          "color": "#EF553B",
          "pattern": {
           "shape": ""
          }
         },
         "name": "Shell",
         "offsetgroup": "Shell",
         "orientation": "v",
         "showlegend": true,
         "textposition": "auto",
         "type": "bar",
         "x": [
          "Shell"
         ],
         "xaxis": "x",
         "y": [
          45
         ],
         "yaxis": "y"
        },
        {
         "alignmentgroup": "True",
         "hovertemplate": "language=%{x}<br>name=%{y}<extra></extra>",
         "legendgroup": "PHP",
         "marker": {
          "color": "#00cc96",
          "pattern": {
           "shape": ""
          }
         },
         "name": "PHP",
         "offsetgroup": "PHP",
         "orientation": "v",
         "showlegend": true,
         "textposition": "auto",
         "type": "bar",
         "x": [
          "PHP"
         ],
         "xaxis": "x",
         "y": [
          32
         ],
         "yaxis": "y"
        },
        {
         "alignmentgroup": "True",
         "hovertemplate": "language=%{x}<br>name=%{y}<extra></extra>",
         "legendgroup": "Swift",
         "marker": {
          "color": "#ab63fa",
          "pattern": {
           "shape": ""
          }
         },
         "name": "Swift",
         "offsetgroup": "Swift",
         "orientation": "v",
         "showlegend": true,
         "textposition": "auto",
         "type": "bar",
         "x": [
          "Swift"
         ],
         "xaxis": "x",
         "y": [
          31
         ],
         "yaxis": "y"
        },
        {
         "alignmentgroup": "True",
         "hovertemplate": "language=%{x}<br>name=%{y}<extra></extra>",
         "legendgroup": "Kotlin",
         "marker": {
          "color": "#FFA15A",
          "pattern": {
           "shape": ""
          }
         },
         "name": "Kotlin",
         "offsetgroup": "Kotlin",
         "orientation": "v",
         "showlegend": true,
         "textposition": "auto",
         "type": "bar",
         "x": [
          "Kotlin"
         ],
         "xaxis": "x",
         "y": [
          21
         ],
         "yaxis": "y"
        },
        {
         "alignmentgroup": "True",
         "hovertemplate": "language=%{x}<br>name=%{y}<extra></extra>",
         "legendgroup": "Objective-C",
         "marker": {
          "color": "#19d3f3",
          "pattern": {
           "shape": ""
          }
         },
         "name": "Objective-C",
         "offsetgroup": "Objective-C",
         "orientation": "v",
         "showlegend": true,
         "textposition": "auto",
         "type": "bar",
         "x": [
          "Objective-C"
         ],
         "xaxis": "x",
         "y": [
          18
         ],
         "yaxis": "y"
        },
        {
         "alignmentgroup": "True",
         "hovertemplate": "language=%{x}<br>name=%{y}<extra></extra>",
         "legendgroup": "Vue",
         "marker": {
          "color": "#FF6692",
          "pattern": {
           "shape": ""
          }
         },
         "name": "Vue",
         "offsetgroup": "Vue",
         "orientation": "v",
         "showlegend": true,
         "textposition": "auto",
         "type": "bar",
         "x": [
          "Vue"
         ],
         "xaxis": "x",
         "y": [
          17
         ],
         "yaxis": "y"
        },
        {
         "alignmentgroup": "True",
         "hovertemplate": "language=%{x}<br>name=%{y}<extra></extra>",
         "legendgroup": "Ruby",
         "marker": {
          "color": "#B6E880",
          "pattern": {
           "shape": ""
          }
         },
         "name": "Ruby",
         "offsetgroup": "Ruby",
         "orientation": "v",
         "showlegend": true,
         "textposition": "auto",
         "type": "bar",
         "x": [
          "Ruby"
         ],
         "xaxis": "x",
         "y": [
          11
         ],
         "yaxis": "y"
        },
        {
         "alignmentgroup": "True",
         "hovertemplate": "language=%{x}<br>name=%{y}<extra></extra>",
         "legendgroup": "CSS",
         "marker": {
          "color": "#FF97FF",
          "pattern": {
           "shape": ""
          }
         },
         "name": "CSS",
         "offsetgroup": "CSS",
         "orientation": "v",
         "showlegend": true,
         "textposition": "auto",
         "type": "bar",
         "x": [
          "CSS"
         ],
         "xaxis": "x",
         "y": [
          10
         ],
         "yaxis": "y"
        },
        {
         "alignmentgroup": "True",
         "hovertemplate": "language=%{x}<br>name=%{y}<extra></extra>",
         "legendgroup": "R",
         "marker": {
          "color": "#FECB52",
          "pattern": {
           "shape": ""
          }
         },
         "name": "R",
         "offsetgroup": "R",
         "orientation": "v",
         "showlegend": true,
         "textposition": "auto",
         "type": "bar",
         "x": [
          "R"
         ],
         "xaxis": "x",
         "y": [
          9
         ],
         "yaxis": "y"
        },
        {
         "alignmentgroup": "True",
         "hovertemplate": "language=%{x}<br>name=%{y}<extra></extra>",
         "legendgroup": "Scala",
         "marker": {
          "color": "#636efa",
          "pattern": {
           "shape": ""
          }
         },
         "name": "Scala",
         "offsetgroup": "Scala",
         "orientation": "v",
         "showlegend": true,
         "textposition": "auto",
         "type": "bar",
         "x": [
          "Scala"
         ],
         "xaxis": "x",
         "y": [
          8
         ],
         "yaxis": "y"
        },
        {
         "alignmentgroup": "True",
         "hovertemplate": "language=%{x}<br>name=%{y}<extra></extra>",
         "legendgroup": "Emacs Lisp",
         "marker": {
          "color": "#EF553B",
          "pattern": {
           "shape": ""
          }
         },
         "name": "Emacs Lisp",
         "offsetgroup": "Emacs Lisp",
         "orientation": "v",
         "showlegend": true,
         "textposition": "auto",
         "type": "bar",
         "x": [
          "Emacs Lisp"
         ],
         "xaxis": "x",
         "y": [
          7
         ],
         "yaxis": "y"
        },
        {
         "alignmentgroup": "True",
         "hovertemplate": "language=%{x}<br>name=%{y}<extra></extra>",
         "legendgroup": "TeX",
         "marker": {
          "color": "#00cc96",
          "pattern": {
           "shape": ""
          }
         },
         "name": "TeX",
         "offsetgroup": "TeX",
         "orientation": "v",
         "showlegend": true,
         "textposition": "auto",
         "type": "bar",
         "x": [
          "TeX"
         ],
         "xaxis": "x",
         "y": [
          6
         ],
         "yaxis": "y"
        },
        {
         "alignmentgroup": "True",
         "hovertemplate": "language=%{x}<br>name=%{y}<extra></extra>",
         "legendgroup": "Clojure",
         "marker": {
          "color": "#ab63fa",
          "pattern": {
           "shape": ""
          }
         },
         "name": "Clojure",
         "offsetgroup": "Clojure",
         "orientation": "v",
         "showlegend": true,
         "textposition": "auto",
         "type": "bar",
         "x": [
          "Clojure"
         ],
         "xaxis": "x",
         "y": [
          6
         ],
         "yaxis": "y"
        },
        {
         "alignmentgroup": "True",
         "hovertemplate": "language=%{x}<br>name=%{y}<extra></extra>",
         "legendgroup": "Dart",
         "marker": {
          "color": "#FFA15A",
          "pattern": {
           "shape": ""
          }
         },
         "name": "Dart",
         "offsetgroup": "Dart",
         "orientation": "v",
         "showlegend": true,
         "textposition": "auto",
         "type": "bar",
         "x": [
          "Dart"
         ],
         "xaxis": "x",
         "y": [
          6
         ],
         "yaxis": "y"
        },
        {
         "alignmentgroup": "True",
         "hovertemplate": "language=%{x}<br>name=%{y}<extra></extra>",
         "legendgroup": "PowerShell",
         "marker": {
          "color": "#19d3f3",
          "pattern": {
           "shape": ""
          }
         },
         "name": "PowerShell",
         "offsetgroup": "PowerShell",
         "orientation": "v",
         "showlegend": true,
         "textposition": "auto",
         "type": "bar",
         "x": [
          "PowerShell"
         ],
         "xaxis": "x",
         "y": [
          6
         ],
         "yaxis": "y"
        },
        {
         "alignmentgroup": "True",
         "hovertemplate": "language=%{x}<br>name=%{y}<extra></extra>",
         "legendgroup": "Elixir",
         "marker": {
          "color": "#FF6692",
          "pattern": {
           "shape": ""
          }
         },
         "name": "Elixir",
         "offsetgroup": "Elixir",
         "orientation": "v",
         "showlegend": true,
         "textposition": "auto",
         "type": "bar",
         "x": [
          "Elixir"
         ],
         "xaxis": "x",
         "y": [
          5
         ],
         "yaxis": "y"
        },
        {
         "alignmentgroup": "True",
         "hovertemplate": "language=%{x}<br>name=%{y}<extra></extra>",
         "legendgroup": "Lua",
         "marker": {
          "color": "#B6E880",
          "pattern": {
           "shape": ""
          }
         },
         "name": "Lua",
         "offsetgroup": "Lua",
         "orientation": "v",
         "showlegend": true,
         "textposition": "auto",
         "type": "bar",
         "x": [
          "Lua"
         ],
         "xaxis": "x",
         "y": [
          4
         ],
         "yaxis": "y"
        },
        {
         "alignmentgroup": "True",
         "hovertemplate": "language=%{x}<br>name=%{y}<extra></extra>",
         "legendgroup": "Dockerfile",
         "marker": {
          "color": "#FF97FF",
          "pattern": {
           "shape": ""
          }
         },
         "name": "Dockerfile",
         "offsetgroup": "Dockerfile",
         "orientation": "v",
         "showlegend": true,
         "textposition": "auto",
         "type": "bar",
         "x": [
          "Dockerfile"
         ],
         "xaxis": "x",
         "y": [
          4
         ],
         "yaxis": "y"
        },
        {
         "alignmentgroup": "True",
         "hovertemplate": "language=%{x}<br>name=%{y}<extra></extra>",
         "legendgroup": "SCSS",
         "marker": {
          "color": "#FECB52",
          "pattern": {
           "shape": ""
          }
         },
         "name": "SCSS",
         "offsetgroup": "SCSS",
         "orientation": "v",
         "showlegend": true,
         "textposition": "auto",
         "type": "bar",
         "x": [
          "SCSS"
         ],
         "xaxis": "x",
         "y": [
          4
         ],
         "yaxis": "y"
        },
        {
         "alignmentgroup": "True",
         "hovertemplate": "language=%{x}<br>name=%{y}<extra></extra>",
         "legendgroup": "Julia",
         "marker": {
          "color": "#636efa",
          "pattern": {
           "shape": ""
          }
         },
         "name": "Julia",
         "offsetgroup": "Julia",
         "orientation": "v",
         "showlegend": true,
         "textposition": "auto",
         "type": "bar",
         "x": [
          "Julia"
         ],
         "xaxis": "x",
         "y": [
          4
         ],
         "yaxis": "y"
        },
        {
         "alignmentgroup": "True",
         "hovertemplate": "language=%{x}<br>name=%{y}<extra></extra>",
         "legendgroup": "Makefile",
         "marker": {
          "color": "#EF553B",
          "pattern": {
           "shape": ""
          }
         },
         "name": "Makefile",
         "offsetgroup": "Makefile",
         "orientation": "v",
         "showlegend": true,
         "textposition": "auto",
         "type": "bar",
         "x": [
          "Makefile"
         ],
         "xaxis": "x",
         "y": [
          3
         ],
         "yaxis": "y"
        },
        {
         "alignmentgroup": "True",
         "hovertemplate": "language=%{x}<br>name=%{y}<extra></extra>",
         "legendgroup": "Nim",
         "marker": {
          "color": "#00cc96",
          "pattern": {
           "shape": ""
          }
         },
         "name": "Nim",
         "offsetgroup": "Nim",
         "orientation": "v",
         "showlegend": true,
         "textposition": "auto",
         "type": "bar",
         "x": [
          "Nim"
         ],
         "xaxis": "x",
         "y": [
          3
         ],
         "yaxis": "y"
        },
        {
         "alignmentgroup": "True",
         "hovertemplate": "language=%{x}<br>name=%{y}<extra></extra>",
         "legendgroup": "HCL",
         "marker": {
          "color": "#ab63fa",
          "pattern": {
           "shape": ""
          }
         },
         "name": "HCL",
         "offsetgroup": "HCL",
         "orientation": "v",
         "showlegend": true,
         "textposition": "auto",
         "type": "bar",
         "x": [
          "HCL"
         ],
         "xaxis": "x",
         "y": [
          3
         ],
         "yaxis": "y"
        },
        {
         "alignmentgroup": "True",
         "hovertemplate": "language=%{x}<br>name=%{y}<extra></extra>",
         "legendgroup": "Crystal",
         "marker": {
          "color": "#FFA15A",
          "pattern": {
           "shape": ""
          }
         },
         "name": "Crystal",
         "offsetgroup": "Crystal",
         "orientation": "v",
         "showlegend": true,
         "textposition": "auto",
         "type": "bar",
         "x": [
          "Crystal"
         ],
         "xaxis": "x",
         "y": [
          2
         ],
         "yaxis": "y"
        },
        {
         "alignmentgroup": "True",
         "hovertemplate": "language=%{x}<br>name=%{y}<extra></extra>",
         "legendgroup": "AutoHotkey",
         "marker": {
          "color": "#19d3f3",
          "pattern": {
           "shape": ""
          }
         },
         "name": "AutoHotkey",
         "offsetgroup": "AutoHotkey",
         "orientation": "v",
         "showlegend": true,
         "textposition": "auto",
         "type": "bar",
         "x": [
          "AutoHotkey"
         ],
         "xaxis": "x",
         "y": [
          2
         ],
         "yaxis": "y"
        },
        {
         "alignmentgroup": "True",
         "hovertemplate": "language=%{x}<br>name=%{y}<extra></extra>",
         "legendgroup": "F#",
         "marker": {
          "color": "#FF6692",
          "pattern": {
           "shape": ""
          }
         },
         "name": "F#",
         "offsetgroup": "F#",
         "orientation": "v",
         "showlegend": true,
         "textposition": "auto",
         "type": "bar",
         "x": [
          "F#"
         ],
         "xaxis": "x",
         "y": [
          2
         ],
         "yaxis": "y"
        },
        {
         "alignmentgroup": "True",
         "hovertemplate": "language=%{x}<br>name=%{y}<extra></extra>",
         "legendgroup": "ShaderLab",
         "marker": {
          "color": "#B6E880",
          "pattern": {
           "shape": ""
          }
         },
         "name": "ShaderLab",
         "offsetgroup": "ShaderLab",
         "orientation": "v",
         "showlegend": true,
         "textposition": "auto",
         "type": "bar",
         "x": [
          "ShaderLab"
         ],
         "xaxis": "x",
         "y": [
          2
         ],
         "yaxis": "y"
        },
        {
         "alignmentgroup": "True",
         "hovertemplate": "language=%{x}<br>name=%{y}<extra></extra>",
         "legendgroup": "Verilog",
         "marker": {
          "color": "#FF97FF",
          "pattern": {
           "shape": ""
          }
         },
         "name": "Verilog",
         "offsetgroup": "Verilog",
         "orientation": "v",
         "showlegend": true,
         "textposition": "auto",
         "type": "bar",
         "x": [
          "Verilog"
         ],
         "xaxis": "x",
         "y": [
          2
         ],
         "yaxis": "y"
        },
        {
         "alignmentgroup": "True",
         "hovertemplate": "language=%{x}<br>name=%{y}<extra></extra>",
         "legendgroup": "Batchfile",
         "marker": {
          "color": "#FECB52",
          "pattern": {
           "shape": ""
          }
         },
         "name": "Batchfile",
         "offsetgroup": "Batchfile",
         "orientation": "v",
         "showlegend": true,
         "textposition": "auto",
         "type": "bar",
         "x": [
          "Batchfile"
         ],
         "xaxis": "x",
         "y": [
          2
         ],
         "yaxis": "y"
        },
        {
         "alignmentgroup": "True",
         "hovertemplate": "language=%{x}<br>name=%{y}<extra></extra>",
         "legendgroup": "PureScript",
         "marker": {
          "color": "#636efa",
          "pattern": {
           "shape": ""
          }
         },
         "name": "PureScript",
         "offsetgroup": "PureScript",
         "orientation": "v",
         "showlegend": true,
         "textposition": "auto",
         "type": "bar",
         "x": [
          "PureScript"
         ],
         "xaxis": "x",
         "y": [
          2
         ],
         "yaxis": "y"
        },
        {
         "alignmentgroup": "True",
         "hovertemplate": "language=%{x}<br>name=%{y}<extra></extra>",
         "legendgroup": "Racket",
         "marker": {
          "color": "#EF553B",
          "pattern": {
           "shape": ""
          }
         },
         "name": "Racket",
         "offsetgroup": "Racket",
         "orientation": "v",
         "showlegend": true,
         "textposition": "auto",
         "type": "bar",
         "x": [
          "Racket"
         ],
         "xaxis": "x",
         "y": [
          1
         ],
         "yaxis": "y"
        },
        {
         "alignmentgroup": "True",
         "hovertemplate": "language=%{x}<br>name=%{y}<extra></extra>",
         "legendgroup": "Astro",
         "marker": {
          "color": "#00cc96",
          "pattern": {
           "shape": ""
          }
         },
         "name": "Astro",
         "offsetgroup": "Astro",
         "orientation": "v",
         "showlegend": true,
         "textposition": "auto",
         "type": "bar",
         "x": [
          "Astro"
         ],
         "xaxis": "x",
         "y": [
          1
         ],
         "yaxis": "y"
        },
        {
         "alignmentgroup": "True",
         "hovertemplate": "language=%{x}<br>name=%{y}<extra></extra>",
         "legendgroup": "Reason",
         "marker": {
          "color": "#ab63fa",
          "pattern": {
           "shape": ""
          }
         },
         "name": "Reason",
         "offsetgroup": "Reason",
         "orientation": "v",
         "showlegend": true,
         "textposition": "auto",
         "type": "bar",
         "x": [
          "Reason"
         ],
         "xaxis": "x",
         "y": [
          1
         ],
         "yaxis": "y"
        },
        {
         "alignmentgroup": "True",
         "hovertemplate": "language=%{x}<br>name=%{y}<extra></extra>",
         "legendgroup": "Scheme",
         "marker": {
          "color": "#FFA15A",
          "pattern": {
           "shape": ""
          }
         },
         "name": "Scheme",
         "offsetgroup": "Scheme",
         "orientation": "v",
         "showlegend": true,
         "textposition": "auto",
         "type": "bar",
         "x": [
          "Scheme"
         ],
         "xaxis": "x",
         "y": [
          1
         ],
         "yaxis": "y"
        },
        {
         "alignmentgroup": "True",
         "hovertemplate": "language=%{x}<br>name=%{y}<extra></extra>",
         "legendgroup": "QML",
         "marker": {
          "color": "#19d3f3",
          "pattern": {
           "shape": ""
          }
         },
         "name": "QML",
         "offsetgroup": "QML",
         "orientation": "v",
         "showlegend": true,
         "textposition": "auto",
         "type": "bar",
         "x": [
          "QML"
         ],
         "xaxis": "x",
         "y": [
          1
         ],
         "yaxis": "y"
        },
        {
         "alignmentgroup": "True",
         "hovertemplate": "language=%{x}<br>name=%{y}<extra></extra>",
         "legendgroup": "Smalltalk",
         "marker": {
          "color": "#FF6692",
          "pattern": {
           "shape": ""
          }
         },
         "name": "Smalltalk",
         "offsetgroup": "Smalltalk",
         "orientation": "v",
         "showlegend": true,
         "textposition": "auto",
         "type": "bar",
         "x": [
          "Smalltalk"
         ],
         "xaxis": "x",
         "y": [
          1
         ],
         "yaxis": "y"
        },
        {
         "alignmentgroup": "True",
         "hovertemplate": "language=%{x}<br>name=%{y}<extra></extra>",
         "legendgroup": "Vim Script",
         "marker": {
          "color": "#B6E880",
          "pattern": {
           "shape": ""
          }
         },
         "name": "Vim Script",
         "offsetgroup": "Vim Script",
         "orientation": "v",
         "showlegend": true,
         "textposition": "auto",
         "type": "bar",
         "x": [
          "Vim Script"
         ],
         "xaxis": "x",
         "y": [
          1
         ],
         "yaxis": "y"
        },
        {
         "alignmentgroup": "True",
         "hovertemplate": "language=%{x}<br>name=%{y}<extra></extra>",
         "legendgroup": "Vim script",
         "marker": {
          "color": "#FF97FF",
          "pattern": {
           "shape": ""
          }
         },
         "name": "Vim script",
         "offsetgroup": "Vim script",
         "orientation": "v",
         "showlegend": true,
         "textposition": "auto",
         "type": "bar",
         "x": [
          "Vim script"
         ],
         "xaxis": "x",
         "y": [
          1
         ],
         "yaxis": "y"
        },
        {
         "alignmentgroup": "True",
         "hovertemplate": "language=%{x}<br>name=%{y}<extra></extra>",
         "legendgroup": "Slash",
         "marker": {
          "color": "#FECB52",
          "pattern": {
           "shape": ""
          }
         },
         "name": "Slash",
         "offsetgroup": "Slash",
         "orientation": "v",
         "showlegend": true,
         "textposition": "auto",
         "type": "bar",
         "x": [
          "Slash"
         ],
         "xaxis": "x",
         "y": [
          1
         ],
         "yaxis": "y"
        },
        {
         "alignmentgroup": "True",
         "hovertemplate": "language=%{x}<br>name=%{y}<extra></extra>",
         "legendgroup": "M4",
         "marker": {
          "color": "#636efa",
          "pattern": {
           "shape": ""
          }
         },
         "name": "M4",
         "offsetgroup": "M4",
         "orientation": "v",
         "showlegend": true,
         "textposition": "auto",
         "type": "bar",
         "x": [
          "M4"
         ],
         "xaxis": "x",
         "y": [
          1
         ],
         "yaxis": "y"
        },
        {
         "alignmentgroup": "True",
         "hovertemplate": "language=%{x}<br>name=%{y}<extra></extra>",
         "legendgroup": "Perl",
         "marker": {
          "color": "#EF553B",
          "pattern": {
           "shape": ""
          }
         },
         "name": "Perl",
         "offsetgroup": "Perl",
         "orientation": "v",
         "showlegend": true,
         "textposition": "auto",
         "type": "bar",
         "x": [
          "Perl"
         ],
         "xaxis": "x",
         "y": [
          1
         ],
         "yaxis": "y"
        },
        {
         "alignmentgroup": "True",
         "hovertemplate": "language=%{x}<br>name=%{y}<extra></extra>",
         "legendgroup": "Objective-C++",
         "marker": {
          "color": "#00cc96",
          "pattern": {
           "shape": ""
          }
         },
         "name": "Objective-C++",
         "offsetgroup": "Objective-C++",
         "orientation": "v",
         "showlegend": true,
         "textposition": "auto",
         "type": "bar",
         "x": [
          "Objective-C++"
         ],
         "xaxis": "x",
         "y": [
          1
         ],
         "yaxis": "y"
        },
        {
         "alignmentgroup": "True",
         "hovertemplate": "language=%{x}<br>name=%{y}<extra></extra>",
         "legendgroup": "CMake",
         "marker": {
          "color": "#ab63fa",
          "pattern": {
           "shape": ""
          }
         },
         "name": "CMake",
         "offsetgroup": "CMake",
         "orientation": "v",
         "showlegend": true,
         "textposition": "auto",
         "type": "bar",
         "x": [
          "CMake"
         ],
         "xaxis": "x",
         "y": [
          1
         ],
         "yaxis": "y"
        },
        {
         "alignmentgroup": "True",
         "hovertemplate": "language=%{x}<br>name=%{y}<extra></extra>",
         "legendgroup": "Cuda",
         "marker": {
          "color": "#FFA15A",
          "pattern": {
           "shape": ""
          }
         },
         "name": "Cuda",
         "offsetgroup": "Cuda",
         "orientation": "v",
         "showlegend": true,
         "textposition": "auto",
         "type": "bar",
         "x": [
          "Cuda"
         ],
         "xaxis": "x",
         "y": [
          1
         ],
         "yaxis": "y"
        },
        {
         "alignmentgroup": "True",
         "hovertemplate": "language=%{x}<br>name=%{y}<extra></extra>",
         "legendgroup": "Cycript",
         "marker": {
          "color": "#19d3f3",
          "pattern": {
           "shape": ""
          }
         },
         "name": "Cycript",
         "offsetgroup": "Cycript",
         "orientation": "v",
         "showlegend": true,
         "textposition": "auto",
         "type": "bar",
         "x": [
          "Cycript"
         ],
         "xaxis": "x",
         "y": [
          1
         ],
         "yaxis": "y"
        },
        {
         "alignmentgroup": "True",
         "hovertemplate": "language=%{x}<br>name=%{y}<extra></extra>",
         "legendgroup": "DenizenScript",
         "marker": {
          "color": "#FF6692",
          "pattern": {
           "shape": ""
          }
         },
         "name": "DenizenScript",
         "offsetgroup": "DenizenScript",
         "orientation": "v",
         "showlegend": true,
         "textposition": "auto",
         "type": "bar",
         "x": [
          "DenizenScript"
         ],
         "xaxis": "x",
         "y": [
          1
         ],
         "yaxis": "y"
        },
        {
         "alignmentgroup": "True",
         "hovertemplate": "language=%{x}<br>name=%{y}<extra></extra>",
         "legendgroup": "F*",
         "marker": {
          "color": "#B6E880",
          "pattern": {
           "shape": ""
          }
         },
         "name": "F*",
         "offsetgroup": "F*",
         "orientation": "v",
         "showlegend": true,
         "textposition": "auto",
         "type": "bar",
         "x": [
          "F*"
         ],
         "xaxis": "x",
         "y": [
          1
         ],
         "yaxis": "y"
        },
        {
         "alignmentgroup": "True",
         "hovertemplate": "language=%{x}<br>name=%{y}<extra></extra>",
         "legendgroup": "Fortran",
         "marker": {
          "color": "#FF97FF",
          "pattern": {
           "shape": ""
          }
         },
         "name": "Fortran",
         "offsetgroup": "Fortran",
         "orientation": "v",
         "showlegend": true,
         "textposition": "auto",
         "type": "bar",
         "x": [
          "Fortran"
         ],
         "xaxis": "x",
         "y": [
          1
         ],
         "yaxis": "y"
        },
        {
         "alignmentgroup": "True",
         "hovertemplate": "language=%{x}<br>name=%{y}<extra></extra>",
         "legendgroup": "GLSL",
         "marker": {
          "color": "#FECB52",
          "pattern": {
           "shape": ""
          }
         },
         "name": "GLSL",
         "offsetgroup": "GLSL",
         "orientation": "v",
         "showlegend": true,
         "textposition": "auto",
         "type": "bar",
         "x": [
          "GLSL"
         ],
         "xaxis": "x",
         "y": [
          1
         ],
         "yaxis": "y"
        },
        {
         "alignmentgroup": "True",
         "hovertemplate": "language=%{x}<br>name=%{y}<extra></extra>",
         "legendgroup": "Game Maker Language",
         "marker": {
          "color": "#636efa",
          "pattern": {
           "shape": ""
          }
         },
         "name": "Game Maker Language",
         "offsetgroup": "Game Maker Language",
         "orientation": "v",
         "showlegend": true,
         "textposition": "auto",
         "type": "bar",
         "x": [
          "Game Maker Language"
         ],
         "xaxis": "x",
         "y": [
          1
         ],
         "yaxis": "y"
        },
        {
         "alignmentgroup": "True",
         "hovertemplate": "language=%{x}<br>name=%{y}<extra></extra>",
         "legendgroup": "Handlebars",
         "marker": {
          "color": "#EF553B",
          "pattern": {
           "shape": ""
          }
         },
         "name": "Handlebars",
         "offsetgroup": "Handlebars",
         "orientation": "v",
         "showlegend": true,
         "textposition": "auto",
         "type": "bar",
         "x": [
          "Handlebars"
         ],
         "xaxis": "x",
         "y": [
          1
         ],
         "yaxis": "y"
        },
        {
         "alignmentgroup": "True",
         "hovertemplate": "language=%{x}<br>name=%{y}<extra></extra>",
         "legendgroup": "Haskell",
         "marker": {
          "color": "#00cc96",
          "pattern": {
           "shape": ""
          }
         },
         "name": "Haskell",
         "offsetgroup": "Haskell",
         "orientation": "v",
         "showlegend": true,
         "textposition": "auto",
         "type": "bar",
         "x": [
          "Haskell"
         ],
         "xaxis": "x",
         "y": [
          1
         ],
         "yaxis": "y"
        },
        {
         "alignmentgroup": "True",
         "hovertemplate": "language=%{x}<br>name=%{y}<extra></extra>",
         "legendgroup": "Jsonnet",
         "marker": {
          "color": "#ab63fa",
          "pattern": {
           "shape": ""
          }
         },
         "name": "Jsonnet",
         "offsetgroup": "Jsonnet",
         "orientation": "v",
         "showlegend": true,
         "textposition": "auto",
         "type": "bar",
         "x": [
          "Jsonnet"
         ],
         "xaxis": "x",
         "y": [
          1
         ],
         "yaxis": "y"
        },
        {
         "alignmentgroup": "True",
         "hovertemplate": "language=%{x}<br>name=%{y}<extra></extra>",
         "legendgroup": "Less",
         "marker": {
          "color": "#FFA15A",
          "pattern": {
           "shape": ""
          }
         },
         "name": "Less",
         "offsetgroup": "Less",
         "orientation": "v",
         "showlegend": true,
         "textposition": "auto",
         "type": "bar",
         "x": [
          "Less"
         ],
         "xaxis": "x",
         "y": [
          1
         ],
         "yaxis": "y"
        },
        {
         "alignmentgroup": "True",
         "hovertemplate": "language=%{x}<br>name=%{y}<extra></extra>",
         "legendgroup": "MQL5",
         "marker": {
          "color": "#19d3f3",
          "pattern": {
           "shape": ""
          }
         },
         "name": "MQL5",
         "offsetgroup": "MQL5",
         "orientation": "v",
         "showlegend": true,
         "textposition": "auto",
         "type": "bar",
         "x": [
          "MQL5"
         ],
         "xaxis": "x",
         "y": [
          1
         ],
         "yaxis": "y"
        },
        {
         "alignmentgroup": "True",
         "hovertemplate": "language=%{x}<br>name=%{y}<extra></extra>",
         "legendgroup": "Markdown",
         "marker": {
          "color": "#FF6692",
          "pattern": {
           "shape": ""
          }
         },
         "name": "Markdown",
         "offsetgroup": "Markdown",
         "orientation": "v",
         "showlegend": true,
         "textposition": "auto",
         "type": "bar",
         "x": [
          "Markdown"
         ],
         "xaxis": "x",
         "y": [
          1
         ],
         "yaxis": "y"
        },
        {
         "alignmentgroup": "True",
         "hovertemplate": "language=%{x}<br>name=%{y}<extra></extra>",
         "legendgroup": "Matlab",
         "marker": {
          "color": "#B6E880",
          "pattern": {
           "shape": ""
          }
         },
         "name": "Matlab",
         "offsetgroup": "Matlab",
         "orientation": "v",
         "showlegend": true,
         "textposition": "auto",
         "type": "bar",
         "x": [
          "Matlab"
         ],
         "xaxis": "x",
         "y": [
          1
         ],
         "yaxis": "y"
        },
        {
         "alignmentgroup": "True",
         "hovertemplate": "language=%{x}<br>name=%{y}<extra></extra>",
         "legendgroup": "NSIS",
         "marker": {
          "color": "#FF97FF",
          "pattern": {
           "shape": ""
          }
         },
         "name": "NSIS",
         "offsetgroup": "NSIS",
         "orientation": "v",
         "showlegend": true,
         "textposition": "auto",
         "type": "bar",
         "x": [
          "NSIS"
         ],
         "xaxis": "x",
         "y": [
          1
         ],
         "yaxis": "y"
        },
        {
         "alignmentgroup": "True",
         "hovertemplate": "language=%{x}<br>name=%{y}<extra></extra>",
         "legendgroup": "Nunjucks",
         "marker": {
          "color": "#FECB52",
          "pattern": {
           "shape": ""
          }
         },
         "name": "Nunjucks",
         "offsetgroup": "Nunjucks",
         "orientation": "v",
         "showlegend": true,
         "textposition": "auto",
         "type": "bar",
         "x": [
          "Nunjucks"
         ],
         "xaxis": "x",
         "y": [
          1
         ],
         "yaxis": "y"
        },
        {
         "alignmentgroup": "True",
         "hovertemplate": "language=%{x}<br>name=%{y}<extra></extra>",
         "legendgroup": "WebAssembly",
         "marker": {
          "color": "#636efa",
          "pattern": {
           "shape": ""
          }
         },
         "name": "WebAssembly",
         "offsetgroup": "WebAssembly",
         "orientation": "v",
         "showlegend": true,
         "textposition": "auto",
         "type": "bar",
         "x": [
          "WebAssembly"
         ],
         "xaxis": "x",
         "y": [
          1
         ],
         "yaxis": "y"
        }
       ],
       "layout": {
        "barmode": "relative",
        "legend": {
         "title": {
          "text": "language"
         },
         "tracegroupgap": 0
        },
        "margin": {
         "t": 60
        },
        "template": {
         "data": {
          "bar": [
           {
            "error_x": {
             "color": "#2a3f5f"
            },
            "error_y": {
             "color": "#2a3f5f"
            },
            "marker": {
             "line": {
              "color": "#E5ECF6",
              "width": 0.5
             },
             "pattern": {
              "fillmode": "overlay",
              "size": 10,
              "solidity": 0.2
             }
            },
            "type": "bar"
           }
          ],
          "barpolar": [
           {
            "marker": {
             "line": {
              "color": "#E5ECF6",
              "width": 0.5
             },
             "pattern": {
              "fillmode": "overlay",
              "size": 10,
              "solidity": 0.2
             }
            },
            "type": "barpolar"
           }
          ],
          "carpet": [
           {
            "aaxis": {
             "endlinecolor": "#2a3f5f",
             "gridcolor": "white",
             "linecolor": "white",
             "minorgridcolor": "white",
             "startlinecolor": "#2a3f5f"
            },
            "baxis": {
             "endlinecolor": "#2a3f5f",
             "gridcolor": "white",
             "linecolor": "white",
             "minorgridcolor": "white",
             "startlinecolor": "#2a3f5f"
            },
            "type": "carpet"
           }
          ],
          "choropleth": [
           {
            "colorbar": {
             "outlinewidth": 0,
             "ticks": ""
            },
            "type": "choropleth"
           }
          ],
          "contour": [
           {
            "colorbar": {
             "outlinewidth": 0,
             "ticks": ""
            },
            "colorscale": [
             [
              0,
              "#0d0887"
             ],
             [
              0.1111111111111111,
              "#46039f"
             ],
             [
              0.2222222222222222,
              "#7201a8"
             ],
             [
              0.3333333333333333,
              "#9c179e"
             ],
             [
              0.4444444444444444,
              "#bd3786"
             ],
             [
              0.5555555555555556,
              "#d8576b"
             ],
             [
              0.6666666666666666,
              "#ed7953"
             ],
             [
              0.7777777777777778,
              "#fb9f3a"
             ],
             [
              0.8888888888888888,
              "#fdca26"
             ],
             [
              1,
              "#f0f921"
             ]
            ],
            "type": "contour"
           }
          ],
          "contourcarpet": [
           {
            "colorbar": {
             "outlinewidth": 0,
             "ticks": ""
            },
            "type": "contourcarpet"
           }
          ],
          "heatmap": [
           {
            "colorbar": {
             "outlinewidth": 0,
             "ticks": ""
            },
            "colorscale": [
             [
              0,
              "#0d0887"
             ],
             [
              0.1111111111111111,
              "#46039f"
             ],
             [
              0.2222222222222222,
              "#7201a8"
             ],
             [
              0.3333333333333333,
              "#9c179e"
             ],
             [
              0.4444444444444444,
              "#bd3786"
             ],
             [
              0.5555555555555556,
              "#d8576b"
             ],
             [
              0.6666666666666666,
              "#ed7953"
             ],
             [
              0.7777777777777778,
              "#fb9f3a"
             ],
             [
              0.8888888888888888,
              "#fdca26"
             ],
             [
              1,
              "#f0f921"
             ]
            ],
            "type": "heatmap"
           }
          ],
          "heatmapgl": [
           {
            "colorbar": {
             "outlinewidth": 0,
             "ticks": ""
            },
            "colorscale": [
             [
              0,
              "#0d0887"
             ],
             [
              0.1111111111111111,
              "#46039f"
             ],
             [
              0.2222222222222222,
              "#7201a8"
             ],
             [
              0.3333333333333333,
              "#9c179e"
             ],
             [
              0.4444444444444444,
              "#bd3786"
             ],
             [
              0.5555555555555556,
              "#d8576b"
             ],
             [
              0.6666666666666666,
              "#ed7953"
             ],
             [
              0.7777777777777778,
              "#fb9f3a"
             ],
             [
              0.8888888888888888,
              "#fdca26"
             ],
             [
              1,
              "#f0f921"
             ]
            ],
            "type": "heatmapgl"
           }
          ],
          "histogram": [
           {
            "marker": {
             "pattern": {
              "fillmode": "overlay",
              "size": 10,
              "solidity": 0.2
             }
            },
            "type": "histogram"
           }
          ],
          "histogram2d": [
           {
            "colorbar": {
             "outlinewidth": 0,
             "ticks": ""
            },
            "colorscale": [
             [
              0,
              "#0d0887"
             ],
             [
              0.1111111111111111,
              "#46039f"
             ],
             [
              0.2222222222222222,
              "#7201a8"
             ],
             [
              0.3333333333333333,
              "#9c179e"
             ],
             [
              0.4444444444444444,
              "#bd3786"
             ],
             [
              0.5555555555555556,
              "#d8576b"
             ],
             [
              0.6666666666666666,
              "#ed7953"
             ],
             [
              0.7777777777777778,
              "#fb9f3a"
             ],
             [
              0.8888888888888888,
              "#fdca26"
             ],
             [
              1,
              "#f0f921"
             ]
            ],
            "type": "histogram2d"
           }
          ],
          "histogram2dcontour": [
           {
            "colorbar": {
             "outlinewidth": 0,
             "ticks": ""
            },
            "colorscale": [
             [
              0,
              "#0d0887"
             ],
             [
              0.1111111111111111,
              "#46039f"
             ],
             [
              0.2222222222222222,
              "#7201a8"
             ],
             [
              0.3333333333333333,
              "#9c179e"
             ],
             [
              0.4444444444444444,
              "#bd3786"
             ],
             [
              0.5555555555555556,
              "#d8576b"
             ],
             [
              0.6666666666666666,
              "#ed7953"
             ],
             [
              0.7777777777777778,
              "#fb9f3a"
             ],
             [
              0.8888888888888888,
              "#fdca26"
             ],
             [
              1,
              "#f0f921"
             ]
            ],
            "type": "histogram2dcontour"
           }
          ],
          "mesh3d": [
           {
            "colorbar": {
             "outlinewidth": 0,
             "ticks": ""
            },
            "type": "mesh3d"
           }
          ],
          "parcoords": [
           {
            "line": {
             "colorbar": {
              "outlinewidth": 0,
              "ticks": ""
             }
            },
            "type": "parcoords"
           }
          ],
          "pie": [
           {
            "automargin": true,
            "type": "pie"
           }
          ],
          "scatter": [
           {
            "fillpattern": {
             "fillmode": "overlay",
             "size": 10,
             "solidity": 0.2
            },
            "type": "scatter"
           }
          ],
          "scatter3d": [
           {
            "line": {
             "colorbar": {
              "outlinewidth": 0,
              "ticks": ""
             }
            },
            "marker": {
             "colorbar": {
              "outlinewidth": 0,
              "ticks": ""
             }
            },
            "type": "scatter3d"
           }
          ],
          "scattercarpet": [
           {
            "marker": {
             "colorbar": {
              "outlinewidth": 0,
              "ticks": ""
             }
            },
            "type": "scattercarpet"
           }
          ],
          "scattergeo": [
           {
            "marker": {
             "colorbar": {
              "outlinewidth": 0,
              "ticks": ""
             }
            },
            "type": "scattergeo"
           }
          ],
          "scattergl": [
           {
            "marker": {
             "colorbar": {
              "outlinewidth": 0,
              "ticks": ""
             }
            },
            "type": "scattergl"
           }
          ],
          "scattermapbox": [
           {
            "marker": {
             "colorbar": {
              "outlinewidth": 0,
              "ticks": ""
             }
            },
            "type": "scattermapbox"
           }
          ],
          "scatterpolar": [
           {
            "marker": {
             "colorbar": {
              "outlinewidth": 0,
              "ticks": ""
             }
            },
            "type": "scatterpolar"
           }
          ],
          "scatterpolargl": [
           {
            "marker": {
             "colorbar": {
              "outlinewidth": 0,
              "ticks": ""
             }
            },
            "type": "scatterpolargl"
           }
          ],
          "scatterternary": [
           {
            "marker": {
             "colorbar": {
              "outlinewidth": 0,
              "ticks": ""
             }
            },
            "type": "scatterternary"
           }
          ],
          "surface": [
           {
            "colorbar": {
             "outlinewidth": 0,
             "ticks": ""
            },
            "colorscale": [
             [
              0,
              "#0d0887"
             ],
             [
              0.1111111111111111,
              "#46039f"
             ],
             [
              0.2222222222222222,
              "#7201a8"
             ],
             [
              0.3333333333333333,
              "#9c179e"
             ],
             [
              0.4444444444444444,
              "#bd3786"
             ],
             [
              0.5555555555555556,
              "#d8576b"
             ],
             [
              0.6666666666666666,
              "#ed7953"
             ],
             [
              0.7777777777777778,
              "#fb9f3a"
             ],
             [
              0.8888888888888888,
              "#fdca26"
             ],
             [
              1,
              "#f0f921"
             ]
            ],
            "type": "surface"
           }
          ],
          "table": [
           {
            "cells": {
             "fill": {
              "color": "#EBF0F8"
             },
             "line": {
              "color": "white"
             }
            },
            "header": {
             "fill": {
              "color": "#C8D4E3"
             },
             "line": {
              "color": "white"
             }
            },
            "type": "table"
           }
          ]
         },
         "layout": {
          "annotationdefaults": {
           "arrowcolor": "#2a3f5f",
           "arrowhead": 0,
           "arrowwidth": 1
          },
          "autotypenumbers": "strict",
          "coloraxis": {
           "colorbar": {
            "outlinewidth": 0,
            "ticks": ""
           }
          },
          "colorscale": {
           "diverging": [
            [
             0,
             "#8e0152"
            ],
            [
             0.1,
             "#c51b7d"
            ],
            [
             0.2,
             "#de77ae"
            ],
            [
             0.3,
             "#f1b6da"
            ],
            [
             0.4,
             "#fde0ef"
            ],
            [
             0.5,
             "#f7f7f7"
            ],
            [
             0.6,
             "#e6f5d0"
            ],
            [
             0.7,
             "#b8e186"
            ],
            [
             0.8,
             "#7fbc41"
            ],
            [
             0.9,
             "#4d9221"
            ],
            [
             1,
             "#276419"
            ]
           ],
           "sequential": [
            [
             0,
             "#0d0887"
            ],
            [
             0.1111111111111111,
             "#46039f"
            ],
            [
             0.2222222222222222,
             "#7201a8"
            ],
            [
             0.3333333333333333,
             "#9c179e"
            ],
            [
             0.4444444444444444,
             "#bd3786"
            ],
            [
             0.5555555555555556,
             "#d8576b"
            ],
            [
             0.6666666666666666,
             "#ed7953"
            ],
            [
             0.7777777777777778,
             "#fb9f3a"
            ],
            [
             0.8888888888888888,
             "#fdca26"
            ],
            [
             1,
             "#f0f921"
            ]
           ],
           "sequentialminus": [
            [
             0,
             "#0d0887"
            ],
            [
             0.1111111111111111,
             "#46039f"
            ],
            [
             0.2222222222222222,
             "#7201a8"
            ],
            [
             0.3333333333333333,
             "#9c179e"
            ],
            [
             0.4444444444444444,
             "#bd3786"
            ],
            [
             0.5555555555555556,
             "#d8576b"
            ],
            [
             0.6666666666666666,
             "#ed7953"
            ],
            [
             0.7777777777777778,
             "#fb9f3a"
            ],
            [
             0.8888888888888888,
             "#fdca26"
            ],
            [
             1,
             "#f0f921"
            ]
           ]
          },
          "colorway": [
           "#636efa",
           "#EF553B",
           "#00cc96",
           "#ab63fa",
           "#FFA15A",
           "#19d3f3",
           "#FF6692",
           "#B6E880",
           "#FF97FF",
           "#FECB52"
          ],
          "font": {
           "color": "#2a3f5f"
          },
          "geo": {
           "bgcolor": "white",
           "lakecolor": "white",
           "landcolor": "#E5ECF6",
           "showlakes": true,
           "showland": true,
           "subunitcolor": "white"
          },
          "hoverlabel": {
           "align": "left"
          },
          "hovermode": "closest",
          "mapbox": {
           "style": "light"
          },
          "paper_bgcolor": "white",
          "plot_bgcolor": "#E5ECF6",
          "polar": {
           "angularaxis": {
            "gridcolor": "white",
            "linecolor": "white",
            "ticks": ""
           },
           "bgcolor": "#E5ECF6",
           "radialaxis": {
            "gridcolor": "white",
            "linecolor": "white",
            "ticks": ""
           }
          },
          "scene": {
           "xaxis": {
            "backgroundcolor": "#E5ECF6",
            "gridcolor": "white",
            "gridwidth": 2,
            "linecolor": "white",
            "showbackground": true,
            "ticks": "",
            "zerolinecolor": "white"
           },
           "yaxis": {
            "backgroundcolor": "#E5ECF6",
            "gridcolor": "white",
            "gridwidth": 2,
            "linecolor": "white",
            "showbackground": true,
            "ticks": "",
            "zerolinecolor": "white"
           },
           "zaxis": {
            "backgroundcolor": "#E5ECF6",
            "gridcolor": "white",
            "gridwidth": 2,
            "linecolor": "white",
            "showbackground": true,
            "ticks": "",
            "zerolinecolor": "white"
           }
          },
          "shapedefaults": {
           "line": {
            "color": "#2a3f5f"
           }
          },
          "ternary": {
           "aaxis": {
            "gridcolor": "white",
            "linecolor": "white",
            "ticks": ""
           },
           "baxis": {
            "gridcolor": "white",
            "linecolor": "white",
            "ticks": ""
           },
           "bgcolor": "#E5ECF6",
           "caxis": {
            "gridcolor": "white",
            "linecolor": "white",
            "ticks": ""
           }
          },
          "title": {
           "x": 0.05
          },
          "xaxis": {
           "automargin": true,
           "gridcolor": "white",
           "linecolor": "white",
           "ticks": "",
           "title": {
            "standoff": 15
           },
           "zerolinecolor": "white",
           "zerolinewidth": 2
          },
          "yaxis": {
           "automargin": true,
           "gridcolor": "white",
           "linecolor": "white",
           "ticks": "",
           "title": {
            "standoff": 15
           },
           "zerolinecolor": "white",
           "zerolinewidth": 2
          }
         }
        },
        "xaxis": {
         "anchor": "y",
         "categoryarray": [
          "Python",
          "JavaScript",
          "Java",
          "TypeScript",
          "Go",
          "C++",
          "C",
          "HTML",
          "C#",
          "Jupyter Notebook",
          "Rust",
          "Shell",
          "PHP",
          "Swift",
          "Kotlin",
          "Objective-C",
          "Vue",
          "Ruby",
          "CSS",
          "R",
          "Scala",
          "Emacs Lisp",
          "TeX",
          "Clojure",
          "Dart",
          "PowerShell",
          "Elixir",
          "Lua",
          "Dockerfile",
          "SCSS",
          "Julia",
          "Makefile",
          "Nim",
          "HCL",
          "Crystal",
          "AutoHotkey",
          "F#",
          "ShaderLab",
          "Verilog",
          "Batchfile",
          "PureScript",
          "Racket",
          "Astro",
          "Reason",
          "Scheme",
          "QML",
          "Smalltalk",
          "Vim Script",
          "Vim script",
          "Slash",
          "M4",
          "Perl",
          "Objective-C++",
          "CMake",
          "Cuda",
          "Cycript",
          "DenizenScript",
          "F*",
          "Fortran",
          "GLSL",
          "Game Maker Language",
          "Handlebars",
          "Haskell",
          "Jsonnet",
          "Less",
          "MQL5",
          "Markdown",
          "Matlab",
          "NSIS",
          "Nunjucks",
          "WebAssembly"
         ],
         "categoryorder": "array",
         "domain": [
          0,
          1
         ],
         "title": {
          "text": "Programming Language"
         }
        },
        "yaxis": {
         "anchor": "x",
         "domain": [
          0,
          1
         ],
         "title": {
          "text": "Number of Repositories"
         }
        }
       }
      },
      "text/html": [
       "<div>                            <div id=\"ee8a355f-7838-471c-ab6f-6ed5031d3d66\" class=\"plotly-graph-div\" style=\"height:525px; width:100%;\"></div>            <script type=\"text/javascript\">                require([\"plotly\"], function(Plotly) {                    window.PLOTLYENV=window.PLOTLYENV || {};                                    if (document.getElementById(\"ee8a355f-7838-471c-ab6f-6ed5031d3d66\")) {                    Plotly.newPlot(                        \"ee8a355f-7838-471c-ab6f-6ed5031d3d66\",                        [{\"alignmentgroup\":\"True\",\"hovertemplate\":\"language=%{x}<br>name=%{y}<extra></extra>\",\"legendgroup\":\"Python\",\"marker\":{\"color\":\"#636efa\",\"pattern\":{\"shape\":\"\"}},\"name\":\"Python\",\"offsetgroup\":\"Python\",\"orientation\":\"v\",\"showlegend\":true,\"textposition\":\"auto\",\"x\":[\"Python\"],\"xaxis\":\"x\",\"y\":[296],\"yaxis\":\"y\",\"type\":\"bar\"},{\"alignmentgroup\":\"True\",\"hovertemplate\":\"language=%{x}<br>name=%{y}<extra></extra>\",\"legendgroup\":\"JavaScript\",\"marker\":{\"color\":\"#EF553B\",\"pattern\":{\"shape\":\"\"}},\"name\":\"JavaScript\",\"offsetgroup\":\"JavaScript\",\"orientation\":\"v\",\"showlegend\":true,\"textposition\":\"auto\",\"x\":[\"JavaScript\"],\"xaxis\":\"x\",\"y\":[217],\"yaxis\":\"y\",\"type\":\"bar\"},{\"alignmentgroup\":\"True\",\"hovertemplate\":\"language=%{x}<br>name=%{y}<extra></extra>\",\"legendgroup\":\"Java\",\"marker\":{\"color\":\"#00cc96\",\"pattern\":{\"shape\":\"\"}},\"name\":\"Java\",\"offsetgroup\":\"Java\",\"orientation\":\"v\",\"showlegend\":true,\"textposition\":\"auto\",\"x\":[\"Java\"],\"xaxis\":\"x\",\"y\":[137],\"yaxis\":\"y\",\"type\":\"bar\"},{\"alignmentgroup\":\"True\",\"hovertemplate\":\"language=%{x}<br>name=%{y}<extra></extra>\",\"legendgroup\":\"TypeScript\",\"marker\":{\"color\":\"#ab63fa\",\"pattern\":{\"shape\":\"\"}},\"name\":\"TypeScript\",\"offsetgroup\":\"TypeScript\",\"orientation\":\"v\",\"showlegend\":true,\"textposition\":\"auto\",\"x\":[\"TypeScript\"],\"xaxis\":\"x\",\"y\":[97],\"yaxis\":\"y\",\"type\":\"bar\"},{\"alignmentgroup\":\"True\",\"hovertemplate\":\"language=%{x}<br>name=%{y}<extra></extra>\",\"legendgroup\":\"Go\",\"marker\":{\"color\":\"#FFA15A\",\"pattern\":{\"shape\":\"\"}},\"name\":\"Go\",\"offsetgroup\":\"Go\",\"orientation\":\"v\",\"showlegend\":true,\"textposition\":\"auto\",\"x\":[\"Go\"],\"xaxis\":\"x\",\"y\":[93],\"yaxis\":\"y\",\"type\":\"bar\"},{\"alignmentgroup\":\"True\",\"hovertemplate\":\"language=%{x}<br>name=%{y}<extra></extra>\",\"legendgroup\":\"C++\",\"marker\":{\"color\":\"#19d3f3\",\"pattern\":{\"shape\":\"\"}},\"name\":\"C++\",\"offsetgroup\":\"C++\",\"orientation\":\"v\",\"showlegend\":true,\"textposition\":\"auto\",\"x\":[\"C++\"],\"xaxis\":\"x\",\"y\":[86],\"yaxis\":\"y\",\"type\":\"bar\"},{\"alignmentgroup\":\"True\",\"hovertemplate\":\"language=%{x}<br>name=%{y}<extra></extra>\",\"legendgroup\":\"C\",\"marker\":{\"color\":\"#FF6692\",\"pattern\":{\"shape\":\"\"}},\"name\":\"C\",\"offsetgroup\":\"C\",\"orientation\":\"v\",\"showlegend\":true,\"textposition\":\"auto\",\"x\":[\"C\"],\"xaxis\":\"x\",\"y\":[73],\"yaxis\":\"y\",\"type\":\"bar\"},{\"alignmentgroup\":\"True\",\"hovertemplate\":\"language=%{x}<br>name=%{y}<extra></extra>\",\"legendgroup\":\"HTML\",\"marker\":{\"color\":\"#B6E880\",\"pattern\":{\"shape\":\"\"}},\"name\":\"HTML\",\"offsetgroup\":\"HTML\",\"orientation\":\"v\",\"showlegend\":true,\"textposition\":\"auto\",\"x\":[\"HTML\"],\"xaxis\":\"x\",\"y\":[51],\"yaxis\":\"y\",\"type\":\"bar\"},{\"alignmentgroup\":\"True\",\"hovertemplate\":\"language=%{x}<br>name=%{y}<extra></extra>\",\"legendgroup\":\"C#\",\"marker\":{\"color\":\"#FF97FF\",\"pattern\":{\"shape\":\"\"}},\"name\":\"C#\",\"offsetgroup\":\"C#\",\"orientation\":\"v\",\"showlegend\":true,\"textposition\":\"auto\",\"x\":[\"C#\"],\"xaxis\":\"x\",\"y\":[49],\"yaxis\":\"y\",\"type\":\"bar\"},{\"alignmentgroup\":\"True\",\"hovertemplate\":\"language=%{x}<br>name=%{y}<extra></extra>\",\"legendgroup\":\"Jupyter Notebook\",\"marker\":{\"color\":\"#FECB52\",\"pattern\":{\"shape\":\"\"}},\"name\":\"Jupyter Notebook\",\"offsetgroup\":\"Jupyter Notebook\",\"orientation\":\"v\",\"showlegend\":true,\"textposition\":\"auto\",\"x\":[\"Jupyter Notebook\"],\"xaxis\":\"x\",\"y\":[48],\"yaxis\":\"y\",\"type\":\"bar\"},{\"alignmentgroup\":\"True\",\"hovertemplate\":\"language=%{x}<br>name=%{y}<extra></extra>\",\"legendgroup\":\"Rust\",\"marker\":{\"color\":\"#636efa\",\"pattern\":{\"shape\":\"\"}},\"name\":\"Rust\",\"offsetgroup\":\"Rust\",\"orientation\":\"v\",\"showlegend\":true,\"textposition\":\"auto\",\"x\":[\"Rust\"],\"xaxis\":\"x\",\"y\":[46],\"yaxis\":\"y\",\"type\":\"bar\"},{\"alignmentgroup\":\"True\",\"hovertemplate\":\"language=%{x}<br>name=%{y}<extra></extra>\",\"legendgroup\":\"Shell\",\"marker\":{\"color\":\"#EF553B\",\"pattern\":{\"shape\":\"\"}},\"name\":\"Shell\",\"offsetgroup\":\"Shell\",\"orientation\":\"v\",\"showlegend\":true,\"textposition\":\"auto\",\"x\":[\"Shell\"],\"xaxis\":\"x\",\"y\":[45],\"yaxis\":\"y\",\"type\":\"bar\"},{\"alignmentgroup\":\"True\",\"hovertemplate\":\"language=%{x}<br>name=%{y}<extra></extra>\",\"legendgroup\":\"PHP\",\"marker\":{\"color\":\"#00cc96\",\"pattern\":{\"shape\":\"\"}},\"name\":\"PHP\",\"offsetgroup\":\"PHP\",\"orientation\":\"v\",\"showlegend\":true,\"textposition\":\"auto\",\"x\":[\"PHP\"],\"xaxis\":\"x\",\"y\":[32],\"yaxis\":\"y\",\"type\":\"bar\"},{\"alignmentgroup\":\"True\",\"hovertemplate\":\"language=%{x}<br>name=%{y}<extra></extra>\",\"legendgroup\":\"Swift\",\"marker\":{\"color\":\"#ab63fa\",\"pattern\":{\"shape\":\"\"}},\"name\":\"Swift\",\"offsetgroup\":\"Swift\",\"orientation\":\"v\",\"showlegend\":true,\"textposition\":\"auto\",\"x\":[\"Swift\"],\"xaxis\":\"x\",\"y\":[31],\"yaxis\":\"y\",\"type\":\"bar\"},{\"alignmentgroup\":\"True\",\"hovertemplate\":\"language=%{x}<br>name=%{y}<extra></extra>\",\"legendgroup\":\"Kotlin\",\"marker\":{\"color\":\"#FFA15A\",\"pattern\":{\"shape\":\"\"}},\"name\":\"Kotlin\",\"offsetgroup\":\"Kotlin\",\"orientation\":\"v\",\"showlegend\":true,\"textposition\":\"auto\",\"x\":[\"Kotlin\"],\"xaxis\":\"x\",\"y\":[21],\"yaxis\":\"y\",\"type\":\"bar\"},{\"alignmentgroup\":\"True\",\"hovertemplate\":\"language=%{x}<br>name=%{y}<extra></extra>\",\"legendgroup\":\"Objective-C\",\"marker\":{\"color\":\"#19d3f3\",\"pattern\":{\"shape\":\"\"}},\"name\":\"Objective-C\",\"offsetgroup\":\"Objective-C\",\"orientation\":\"v\",\"showlegend\":true,\"textposition\":\"auto\",\"x\":[\"Objective-C\"],\"xaxis\":\"x\",\"y\":[18],\"yaxis\":\"y\",\"type\":\"bar\"},{\"alignmentgroup\":\"True\",\"hovertemplate\":\"language=%{x}<br>name=%{y}<extra></extra>\",\"legendgroup\":\"Vue\",\"marker\":{\"color\":\"#FF6692\",\"pattern\":{\"shape\":\"\"}},\"name\":\"Vue\",\"offsetgroup\":\"Vue\",\"orientation\":\"v\",\"showlegend\":true,\"textposition\":\"auto\",\"x\":[\"Vue\"],\"xaxis\":\"x\",\"y\":[17],\"yaxis\":\"y\",\"type\":\"bar\"},{\"alignmentgroup\":\"True\",\"hovertemplate\":\"language=%{x}<br>name=%{y}<extra></extra>\",\"legendgroup\":\"Ruby\",\"marker\":{\"color\":\"#B6E880\",\"pattern\":{\"shape\":\"\"}},\"name\":\"Ruby\",\"offsetgroup\":\"Ruby\",\"orientation\":\"v\",\"showlegend\":true,\"textposition\":\"auto\",\"x\":[\"Ruby\"],\"xaxis\":\"x\",\"y\":[11],\"yaxis\":\"y\",\"type\":\"bar\"},{\"alignmentgroup\":\"True\",\"hovertemplate\":\"language=%{x}<br>name=%{y}<extra></extra>\",\"legendgroup\":\"CSS\",\"marker\":{\"color\":\"#FF97FF\",\"pattern\":{\"shape\":\"\"}},\"name\":\"CSS\",\"offsetgroup\":\"CSS\",\"orientation\":\"v\",\"showlegend\":true,\"textposition\":\"auto\",\"x\":[\"CSS\"],\"xaxis\":\"x\",\"y\":[10],\"yaxis\":\"y\",\"type\":\"bar\"},{\"alignmentgroup\":\"True\",\"hovertemplate\":\"language=%{x}<br>name=%{y}<extra></extra>\",\"legendgroup\":\"R\",\"marker\":{\"color\":\"#FECB52\",\"pattern\":{\"shape\":\"\"}},\"name\":\"R\",\"offsetgroup\":\"R\",\"orientation\":\"v\",\"showlegend\":true,\"textposition\":\"auto\",\"x\":[\"R\"],\"xaxis\":\"x\",\"y\":[9],\"yaxis\":\"y\",\"type\":\"bar\"},{\"alignmentgroup\":\"True\",\"hovertemplate\":\"language=%{x}<br>name=%{y}<extra></extra>\",\"legendgroup\":\"Scala\",\"marker\":{\"color\":\"#636efa\",\"pattern\":{\"shape\":\"\"}},\"name\":\"Scala\",\"offsetgroup\":\"Scala\",\"orientation\":\"v\",\"showlegend\":true,\"textposition\":\"auto\",\"x\":[\"Scala\"],\"xaxis\":\"x\",\"y\":[8],\"yaxis\":\"y\",\"type\":\"bar\"},{\"alignmentgroup\":\"True\",\"hovertemplate\":\"language=%{x}<br>name=%{y}<extra></extra>\",\"legendgroup\":\"Emacs Lisp\",\"marker\":{\"color\":\"#EF553B\",\"pattern\":{\"shape\":\"\"}},\"name\":\"Emacs Lisp\",\"offsetgroup\":\"Emacs Lisp\",\"orientation\":\"v\",\"showlegend\":true,\"textposition\":\"auto\",\"x\":[\"Emacs Lisp\"],\"xaxis\":\"x\",\"y\":[7],\"yaxis\":\"y\",\"type\":\"bar\"},{\"alignmentgroup\":\"True\",\"hovertemplate\":\"language=%{x}<br>name=%{y}<extra></extra>\",\"legendgroup\":\"TeX\",\"marker\":{\"color\":\"#00cc96\",\"pattern\":{\"shape\":\"\"}},\"name\":\"TeX\",\"offsetgroup\":\"TeX\",\"orientation\":\"v\",\"showlegend\":true,\"textposition\":\"auto\",\"x\":[\"TeX\"],\"xaxis\":\"x\",\"y\":[6],\"yaxis\":\"y\",\"type\":\"bar\"},{\"alignmentgroup\":\"True\",\"hovertemplate\":\"language=%{x}<br>name=%{y}<extra></extra>\",\"legendgroup\":\"Clojure\",\"marker\":{\"color\":\"#ab63fa\",\"pattern\":{\"shape\":\"\"}},\"name\":\"Clojure\",\"offsetgroup\":\"Clojure\",\"orientation\":\"v\",\"showlegend\":true,\"textposition\":\"auto\",\"x\":[\"Clojure\"],\"xaxis\":\"x\",\"y\":[6],\"yaxis\":\"y\",\"type\":\"bar\"},{\"alignmentgroup\":\"True\",\"hovertemplate\":\"language=%{x}<br>name=%{y}<extra></extra>\",\"legendgroup\":\"Dart\",\"marker\":{\"color\":\"#FFA15A\",\"pattern\":{\"shape\":\"\"}},\"name\":\"Dart\",\"offsetgroup\":\"Dart\",\"orientation\":\"v\",\"showlegend\":true,\"textposition\":\"auto\",\"x\":[\"Dart\"],\"xaxis\":\"x\",\"y\":[6],\"yaxis\":\"y\",\"type\":\"bar\"},{\"alignmentgroup\":\"True\",\"hovertemplate\":\"language=%{x}<br>name=%{y}<extra></extra>\",\"legendgroup\":\"PowerShell\",\"marker\":{\"color\":\"#19d3f3\",\"pattern\":{\"shape\":\"\"}},\"name\":\"PowerShell\",\"offsetgroup\":\"PowerShell\",\"orientation\":\"v\",\"showlegend\":true,\"textposition\":\"auto\",\"x\":[\"PowerShell\"],\"xaxis\":\"x\",\"y\":[6],\"yaxis\":\"y\",\"type\":\"bar\"},{\"alignmentgroup\":\"True\",\"hovertemplate\":\"language=%{x}<br>name=%{y}<extra></extra>\",\"legendgroup\":\"Elixir\",\"marker\":{\"color\":\"#FF6692\",\"pattern\":{\"shape\":\"\"}},\"name\":\"Elixir\",\"offsetgroup\":\"Elixir\",\"orientation\":\"v\",\"showlegend\":true,\"textposition\":\"auto\",\"x\":[\"Elixir\"],\"xaxis\":\"x\",\"y\":[5],\"yaxis\":\"y\",\"type\":\"bar\"},{\"alignmentgroup\":\"True\",\"hovertemplate\":\"language=%{x}<br>name=%{y}<extra></extra>\",\"legendgroup\":\"Lua\",\"marker\":{\"color\":\"#B6E880\",\"pattern\":{\"shape\":\"\"}},\"name\":\"Lua\",\"offsetgroup\":\"Lua\",\"orientation\":\"v\",\"showlegend\":true,\"textposition\":\"auto\",\"x\":[\"Lua\"],\"xaxis\":\"x\",\"y\":[4],\"yaxis\":\"y\",\"type\":\"bar\"},{\"alignmentgroup\":\"True\",\"hovertemplate\":\"language=%{x}<br>name=%{y}<extra></extra>\",\"legendgroup\":\"Dockerfile\",\"marker\":{\"color\":\"#FF97FF\",\"pattern\":{\"shape\":\"\"}},\"name\":\"Dockerfile\",\"offsetgroup\":\"Dockerfile\",\"orientation\":\"v\",\"showlegend\":true,\"textposition\":\"auto\",\"x\":[\"Dockerfile\"],\"xaxis\":\"x\",\"y\":[4],\"yaxis\":\"y\",\"type\":\"bar\"},{\"alignmentgroup\":\"True\",\"hovertemplate\":\"language=%{x}<br>name=%{y}<extra></extra>\",\"legendgroup\":\"SCSS\",\"marker\":{\"color\":\"#FECB52\",\"pattern\":{\"shape\":\"\"}},\"name\":\"SCSS\",\"offsetgroup\":\"SCSS\",\"orientation\":\"v\",\"showlegend\":true,\"textposition\":\"auto\",\"x\":[\"SCSS\"],\"xaxis\":\"x\",\"y\":[4],\"yaxis\":\"y\",\"type\":\"bar\"},{\"alignmentgroup\":\"True\",\"hovertemplate\":\"language=%{x}<br>name=%{y}<extra></extra>\",\"legendgroup\":\"Julia\",\"marker\":{\"color\":\"#636efa\",\"pattern\":{\"shape\":\"\"}},\"name\":\"Julia\",\"offsetgroup\":\"Julia\",\"orientation\":\"v\",\"showlegend\":true,\"textposition\":\"auto\",\"x\":[\"Julia\"],\"xaxis\":\"x\",\"y\":[4],\"yaxis\":\"y\",\"type\":\"bar\"},{\"alignmentgroup\":\"True\",\"hovertemplate\":\"language=%{x}<br>name=%{y}<extra></extra>\",\"legendgroup\":\"Makefile\",\"marker\":{\"color\":\"#EF553B\",\"pattern\":{\"shape\":\"\"}},\"name\":\"Makefile\",\"offsetgroup\":\"Makefile\",\"orientation\":\"v\",\"showlegend\":true,\"textposition\":\"auto\",\"x\":[\"Makefile\"],\"xaxis\":\"x\",\"y\":[3],\"yaxis\":\"y\",\"type\":\"bar\"},{\"alignmentgroup\":\"True\",\"hovertemplate\":\"language=%{x}<br>name=%{y}<extra></extra>\",\"legendgroup\":\"Nim\",\"marker\":{\"color\":\"#00cc96\",\"pattern\":{\"shape\":\"\"}},\"name\":\"Nim\",\"offsetgroup\":\"Nim\",\"orientation\":\"v\",\"showlegend\":true,\"textposition\":\"auto\",\"x\":[\"Nim\"],\"xaxis\":\"x\",\"y\":[3],\"yaxis\":\"y\",\"type\":\"bar\"},{\"alignmentgroup\":\"True\",\"hovertemplate\":\"language=%{x}<br>name=%{y}<extra></extra>\",\"legendgroup\":\"HCL\",\"marker\":{\"color\":\"#ab63fa\",\"pattern\":{\"shape\":\"\"}},\"name\":\"HCL\",\"offsetgroup\":\"HCL\",\"orientation\":\"v\",\"showlegend\":true,\"textposition\":\"auto\",\"x\":[\"HCL\"],\"xaxis\":\"x\",\"y\":[3],\"yaxis\":\"y\",\"type\":\"bar\"},{\"alignmentgroup\":\"True\",\"hovertemplate\":\"language=%{x}<br>name=%{y}<extra></extra>\",\"legendgroup\":\"Crystal\",\"marker\":{\"color\":\"#FFA15A\",\"pattern\":{\"shape\":\"\"}},\"name\":\"Crystal\",\"offsetgroup\":\"Crystal\",\"orientation\":\"v\",\"showlegend\":true,\"textposition\":\"auto\",\"x\":[\"Crystal\"],\"xaxis\":\"x\",\"y\":[2],\"yaxis\":\"y\",\"type\":\"bar\"},{\"alignmentgroup\":\"True\",\"hovertemplate\":\"language=%{x}<br>name=%{y}<extra></extra>\",\"legendgroup\":\"AutoHotkey\",\"marker\":{\"color\":\"#19d3f3\",\"pattern\":{\"shape\":\"\"}},\"name\":\"AutoHotkey\",\"offsetgroup\":\"AutoHotkey\",\"orientation\":\"v\",\"showlegend\":true,\"textposition\":\"auto\",\"x\":[\"AutoHotkey\"],\"xaxis\":\"x\",\"y\":[2],\"yaxis\":\"y\",\"type\":\"bar\"},{\"alignmentgroup\":\"True\",\"hovertemplate\":\"language=%{x}<br>name=%{y}<extra></extra>\",\"legendgroup\":\"F#\",\"marker\":{\"color\":\"#FF6692\",\"pattern\":{\"shape\":\"\"}},\"name\":\"F#\",\"offsetgroup\":\"F#\",\"orientation\":\"v\",\"showlegend\":true,\"textposition\":\"auto\",\"x\":[\"F#\"],\"xaxis\":\"x\",\"y\":[2],\"yaxis\":\"y\",\"type\":\"bar\"},{\"alignmentgroup\":\"True\",\"hovertemplate\":\"language=%{x}<br>name=%{y}<extra></extra>\",\"legendgroup\":\"ShaderLab\",\"marker\":{\"color\":\"#B6E880\",\"pattern\":{\"shape\":\"\"}},\"name\":\"ShaderLab\",\"offsetgroup\":\"ShaderLab\",\"orientation\":\"v\",\"showlegend\":true,\"textposition\":\"auto\",\"x\":[\"ShaderLab\"],\"xaxis\":\"x\",\"y\":[2],\"yaxis\":\"y\",\"type\":\"bar\"},{\"alignmentgroup\":\"True\",\"hovertemplate\":\"language=%{x}<br>name=%{y}<extra></extra>\",\"legendgroup\":\"Verilog\",\"marker\":{\"color\":\"#FF97FF\",\"pattern\":{\"shape\":\"\"}},\"name\":\"Verilog\",\"offsetgroup\":\"Verilog\",\"orientation\":\"v\",\"showlegend\":true,\"textposition\":\"auto\",\"x\":[\"Verilog\"],\"xaxis\":\"x\",\"y\":[2],\"yaxis\":\"y\",\"type\":\"bar\"},{\"alignmentgroup\":\"True\",\"hovertemplate\":\"language=%{x}<br>name=%{y}<extra></extra>\",\"legendgroup\":\"Batchfile\",\"marker\":{\"color\":\"#FECB52\",\"pattern\":{\"shape\":\"\"}},\"name\":\"Batchfile\",\"offsetgroup\":\"Batchfile\",\"orientation\":\"v\",\"showlegend\":true,\"textposition\":\"auto\",\"x\":[\"Batchfile\"],\"xaxis\":\"x\",\"y\":[2],\"yaxis\":\"y\",\"type\":\"bar\"},{\"alignmentgroup\":\"True\",\"hovertemplate\":\"language=%{x}<br>name=%{y}<extra></extra>\",\"legendgroup\":\"PureScript\",\"marker\":{\"color\":\"#636efa\",\"pattern\":{\"shape\":\"\"}},\"name\":\"PureScript\",\"offsetgroup\":\"PureScript\",\"orientation\":\"v\",\"showlegend\":true,\"textposition\":\"auto\",\"x\":[\"PureScript\"],\"xaxis\":\"x\",\"y\":[2],\"yaxis\":\"y\",\"type\":\"bar\"},{\"alignmentgroup\":\"True\",\"hovertemplate\":\"language=%{x}<br>name=%{y}<extra></extra>\",\"legendgroup\":\"Racket\",\"marker\":{\"color\":\"#EF553B\",\"pattern\":{\"shape\":\"\"}},\"name\":\"Racket\",\"offsetgroup\":\"Racket\",\"orientation\":\"v\",\"showlegend\":true,\"textposition\":\"auto\",\"x\":[\"Racket\"],\"xaxis\":\"x\",\"y\":[1],\"yaxis\":\"y\",\"type\":\"bar\"},{\"alignmentgroup\":\"True\",\"hovertemplate\":\"language=%{x}<br>name=%{y}<extra></extra>\",\"legendgroup\":\"Astro\",\"marker\":{\"color\":\"#00cc96\",\"pattern\":{\"shape\":\"\"}},\"name\":\"Astro\",\"offsetgroup\":\"Astro\",\"orientation\":\"v\",\"showlegend\":true,\"textposition\":\"auto\",\"x\":[\"Astro\"],\"xaxis\":\"x\",\"y\":[1],\"yaxis\":\"y\",\"type\":\"bar\"},{\"alignmentgroup\":\"True\",\"hovertemplate\":\"language=%{x}<br>name=%{y}<extra></extra>\",\"legendgroup\":\"Reason\",\"marker\":{\"color\":\"#ab63fa\",\"pattern\":{\"shape\":\"\"}},\"name\":\"Reason\",\"offsetgroup\":\"Reason\",\"orientation\":\"v\",\"showlegend\":true,\"textposition\":\"auto\",\"x\":[\"Reason\"],\"xaxis\":\"x\",\"y\":[1],\"yaxis\":\"y\",\"type\":\"bar\"},{\"alignmentgroup\":\"True\",\"hovertemplate\":\"language=%{x}<br>name=%{y}<extra></extra>\",\"legendgroup\":\"Scheme\",\"marker\":{\"color\":\"#FFA15A\",\"pattern\":{\"shape\":\"\"}},\"name\":\"Scheme\",\"offsetgroup\":\"Scheme\",\"orientation\":\"v\",\"showlegend\":true,\"textposition\":\"auto\",\"x\":[\"Scheme\"],\"xaxis\":\"x\",\"y\":[1],\"yaxis\":\"y\",\"type\":\"bar\"},{\"alignmentgroup\":\"True\",\"hovertemplate\":\"language=%{x}<br>name=%{y}<extra></extra>\",\"legendgroup\":\"QML\",\"marker\":{\"color\":\"#19d3f3\",\"pattern\":{\"shape\":\"\"}},\"name\":\"QML\",\"offsetgroup\":\"QML\",\"orientation\":\"v\",\"showlegend\":true,\"textposition\":\"auto\",\"x\":[\"QML\"],\"xaxis\":\"x\",\"y\":[1],\"yaxis\":\"y\",\"type\":\"bar\"},{\"alignmentgroup\":\"True\",\"hovertemplate\":\"language=%{x}<br>name=%{y}<extra></extra>\",\"legendgroup\":\"Smalltalk\",\"marker\":{\"color\":\"#FF6692\",\"pattern\":{\"shape\":\"\"}},\"name\":\"Smalltalk\",\"offsetgroup\":\"Smalltalk\",\"orientation\":\"v\",\"showlegend\":true,\"textposition\":\"auto\",\"x\":[\"Smalltalk\"],\"xaxis\":\"x\",\"y\":[1],\"yaxis\":\"y\",\"type\":\"bar\"},{\"alignmentgroup\":\"True\",\"hovertemplate\":\"language=%{x}<br>name=%{y}<extra></extra>\",\"legendgroup\":\"Vim Script\",\"marker\":{\"color\":\"#B6E880\",\"pattern\":{\"shape\":\"\"}},\"name\":\"Vim Script\",\"offsetgroup\":\"Vim Script\",\"orientation\":\"v\",\"showlegend\":true,\"textposition\":\"auto\",\"x\":[\"Vim Script\"],\"xaxis\":\"x\",\"y\":[1],\"yaxis\":\"y\",\"type\":\"bar\"},{\"alignmentgroup\":\"True\",\"hovertemplate\":\"language=%{x}<br>name=%{y}<extra></extra>\",\"legendgroup\":\"Vim script\",\"marker\":{\"color\":\"#FF97FF\",\"pattern\":{\"shape\":\"\"}},\"name\":\"Vim script\",\"offsetgroup\":\"Vim script\",\"orientation\":\"v\",\"showlegend\":true,\"textposition\":\"auto\",\"x\":[\"Vim script\"],\"xaxis\":\"x\",\"y\":[1],\"yaxis\":\"y\",\"type\":\"bar\"},{\"alignmentgroup\":\"True\",\"hovertemplate\":\"language=%{x}<br>name=%{y}<extra></extra>\",\"legendgroup\":\"Slash\",\"marker\":{\"color\":\"#FECB52\",\"pattern\":{\"shape\":\"\"}},\"name\":\"Slash\",\"offsetgroup\":\"Slash\",\"orientation\":\"v\",\"showlegend\":true,\"textposition\":\"auto\",\"x\":[\"Slash\"],\"xaxis\":\"x\",\"y\":[1],\"yaxis\":\"y\",\"type\":\"bar\"},{\"alignmentgroup\":\"True\",\"hovertemplate\":\"language=%{x}<br>name=%{y}<extra></extra>\",\"legendgroup\":\"M4\",\"marker\":{\"color\":\"#636efa\",\"pattern\":{\"shape\":\"\"}},\"name\":\"M4\",\"offsetgroup\":\"M4\",\"orientation\":\"v\",\"showlegend\":true,\"textposition\":\"auto\",\"x\":[\"M4\"],\"xaxis\":\"x\",\"y\":[1],\"yaxis\":\"y\",\"type\":\"bar\"},{\"alignmentgroup\":\"True\",\"hovertemplate\":\"language=%{x}<br>name=%{y}<extra></extra>\",\"legendgroup\":\"Perl\",\"marker\":{\"color\":\"#EF553B\",\"pattern\":{\"shape\":\"\"}},\"name\":\"Perl\",\"offsetgroup\":\"Perl\",\"orientation\":\"v\",\"showlegend\":true,\"textposition\":\"auto\",\"x\":[\"Perl\"],\"xaxis\":\"x\",\"y\":[1],\"yaxis\":\"y\",\"type\":\"bar\"},{\"alignmentgroup\":\"True\",\"hovertemplate\":\"language=%{x}<br>name=%{y}<extra></extra>\",\"legendgroup\":\"Objective-C++\",\"marker\":{\"color\":\"#00cc96\",\"pattern\":{\"shape\":\"\"}},\"name\":\"Objective-C++\",\"offsetgroup\":\"Objective-C++\",\"orientation\":\"v\",\"showlegend\":true,\"textposition\":\"auto\",\"x\":[\"Objective-C++\"],\"xaxis\":\"x\",\"y\":[1],\"yaxis\":\"y\",\"type\":\"bar\"},{\"alignmentgroup\":\"True\",\"hovertemplate\":\"language=%{x}<br>name=%{y}<extra></extra>\",\"legendgroup\":\"CMake\",\"marker\":{\"color\":\"#ab63fa\",\"pattern\":{\"shape\":\"\"}},\"name\":\"CMake\",\"offsetgroup\":\"CMake\",\"orientation\":\"v\",\"showlegend\":true,\"textposition\":\"auto\",\"x\":[\"CMake\"],\"xaxis\":\"x\",\"y\":[1],\"yaxis\":\"y\",\"type\":\"bar\"},{\"alignmentgroup\":\"True\",\"hovertemplate\":\"language=%{x}<br>name=%{y}<extra></extra>\",\"legendgroup\":\"Cuda\",\"marker\":{\"color\":\"#FFA15A\",\"pattern\":{\"shape\":\"\"}},\"name\":\"Cuda\",\"offsetgroup\":\"Cuda\",\"orientation\":\"v\",\"showlegend\":true,\"textposition\":\"auto\",\"x\":[\"Cuda\"],\"xaxis\":\"x\",\"y\":[1],\"yaxis\":\"y\",\"type\":\"bar\"},{\"alignmentgroup\":\"True\",\"hovertemplate\":\"language=%{x}<br>name=%{y}<extra></extra>\",\"legendgroup\":\"Cycript\",\"marker\":{\"color\":\"#19d3f3\",\"pattern\":{\"shape\":\"\"}},\"name\":\"Cycript\",\"offsetgroup\":\"Cycript\",\"orientation\":\"v\",\"showlegend\":true,\"textposition\":\"auto\",\"x\":[\"Cycript\"],\"xaxis\":\"x\",\"y\":[1],\"yaxis\":\"y\",\"type\":\"bar\"},{\"alignmentgroup\":\"True\",\"hovertemplate\":\"language=%{x}<br>name=%{y}<extra></extra>\",\"legendgroup\":\"DenizenScript\",\"marker\":{\"color\":\"#FF6692\",\"pattern\":{\"shape\":\"\"}},\"name\":\"DenizenScript\",\"offsetgroup\":\"DenizenScript\",\"orientation\":\"v\",\"showlegend\":true,\"textposition\":\"auto\",\"x\":[\"DenizenScript\"],\"xaxis\":\"x\",\"y\":[1],\"yaxis\":\"y\",\"type\":\"bar\"},{\"alignmentgroup\":\"True\",\"hovertemplate\":\"language=%{x}<br>name=%{y}<extra></extra>\",\"legendgroup\":\"F*\",\"marker\":{\"color\":\"#B6E880\",\"pattern\":{\"shape\":\"\"}},\"name\":\"F*\",\"offsetgroup\":\"F*\",\"orientation\":\"v\",\"showlegend\":true,\"textposition\":\"auto\",\"x\":[\"F*\"],\"xaxis\":\"x\",\"y\":[1],\"yaxis\":\"y\",\"type\":\"bar\"},{\"alignmentgroup\":\"True\",\"hovertemplate\":\"language=%{x}<br>name=%{y}<extra></extra>\",\"legendgroup\":\"Fortran\",\"marker\":{\"color\":\"#FF97FF\",\"pattern\":{\"shape\":\"\"}},\"name\":\"Fortran\",\"offsetgroup\":\"Fortran\",\"orientation\":\"v\",\"showlegend\":true,\"textposition\":\"auto\",\"x\":[\"Fortran\"],\"xaxis\":\"x\",\"y\":[1],\"yaxis\":\"y\",\"type\":\"bar\"},{\"alignmentgroup\":\"True\",\"hovertemplate\":\"language=%{x}<br>name=%{y}<extra></extra>\",\"legendgroup\":\"GLSL\",\"marker\":{\"color\":\"#FECB52\",\"pattern\":{\"shape\":\"\"}},\"name\":\"GLSL\",\"offsetgroup\":\"GLSL\",\"orientation\":\"v\",\"showlegend\":true,\"textposition\":\"auto\",\"x\":[\"GLSL\"],\"xaxis\":\"x\",\"y\":[1],\"yaxis\":\"y\",\"type\":\"bar\"},{\"alignmentgroup\":\"True\",\"hovertemplate\":\"language=%{x}<br>name=%{y}<extra></extra>\",\"legendgroup\":\"Game Maker Language\",\"marker\":{\"color\":\"#636efa\",\"pattern\":{\"shape\":\"\"}},\"name\":\"Game Maker Language\",\"offsetgroup\":\"Game Maker Language\",\"orientation\":\"v\",\"showlegend\":true,\"textposition\":\"auto\",\"x\":[\"Game Maker Language\"],\"xaxis\":\"x\",\"y\":[1],\"yaxis\":\"y\",\"type\":\"bar\"},{\"alignmentgroup\":\"True\",\"hovertemplate\":\"language=%{x}<br>name=%{y}<extra></extra>\",\"legendgroup\":\"Handlebars\",\"marker\":{\"color\":\"#EF553B\",\"pattern\":{\"shape\":\"\"}},\"name\":\"Handlebars\",\"offsetgroup\":\"Handlebars\",\"orientation\":\"v\",\"showlegend\":true,\"textposition\":\"auto\",\"x\":[\"Handlebars\"],\"xaxis\":\"x\",\"y\":[1],\"yaxis\":\"y\",\"type\":\"bar\"},{\"alignmentgroup\":\"True\",\"hovertemplate\":\"language=%{x}<br>name=%{y}<extra></extra>\",\"legendgroup\":\"Haskell\",\"marker\":{\"color\":\"#00cc96\",\"pattern\":{\"shape\":\"\"}},\"name\":\"Haskell\",\"offsetgroup\":\"Haskell\",\"orientation\":\"v\",\"showlegend\":true,\"textposition\":\"auto\",\"x\":[\"Haskell\"],\"xaxis\":\"x\",\"y\":[1],\"yaxis\":\"y\",\"type\":\"bar\"},{\"alignmentgroup\":\"True\",\"hovertemplate\":\"language=%{x}<br>name=%{y}<extra></extra>\",\"legendgroup\":\"Jsonnet\",\"marker\":{\"color\":\"#ab63fa\",\"pattern\":{\"shape\":\"\"}},\"name\":\"Jsonnet\",\"offsetgroup\":\"Jsonnet\",\"orientation\":\"v\",\"showlegend\":true,\"textposition\":\"auto\",\"x\":[\"Jsonnet\"],\"xaxis\":\"x\",\"y\":[1],\"yaxis\":\"y\",\"type\":\"bar\"},{\"alignmentgroup\":\"True\",\"hovertemplate\":\"language=%{x}<br>name=%{y}<extra></extra>\",\"legendgroup\":\"Less\",\"marker\":{\"color\":\"#FFA15A\",\"pattern\":{\"shape\":\"\"}},\"name\":\"Less\",\"offsetgroup\":\"Less\",\"orientation\":\"v\",\"showlegend\":true,\"textposition\":\"auto\",\"x\":[\"Less\"],\"xaxis\":\"x\",\"y\":[1],\"yaxis\":\"y\",\"type\":\"bar\"},{\"alignmentgroup\":\"True\",\"hovertemplate\":\"language=%{x}<br>name=%{y}<extra></extra>\",\"legendgroup\":\"MQL5\",\"marker\":{\"color\":\"#19d3f3\",\"pattern\":{\"shape\":\"\"}},\"name\":\"MQL5\",\"offsetgroup\":\"MQL5\",\"orientation\":\"v\",\"showlegend\":true,\"textposition\":\"auto\",\"x\":[\"MQL5\"],\"xaxis\":\"x\",\"y\":[1],\"yaxis\":\"y\",\"type\":\"bar\"},{\"alignmentgroup\":\"True\",\"hovertemplate\":\"language=%{x}<br>name=%{y}<extra></extra>\",\"legendgroup\":\"Markdown\",\"marker\":{\"color\":\"#FF6692\",\"pattern\":{\"shape\":\"\"}},\"name\":\"Markdown\",\"offsetgroup\":\"Markdown\",\"orientation\":\"v\",\"showlegend\":true,\"textposition\":\"auto\",\"x\":[\"Markdown\"],\"xaxis\":\"x\",\"y\":[1],\"yaxis\":\"y\",\"type\":\"bar\"},{\"alignmentgroup\":\"True\",\"hovertemplate\":\"language=%{x}<br>name=%{y}<extra></extra>\",\"legendgroup\":\"Matlab\",\"marker\":{\"color\":\"#B6E880\",\"pattern\":{\"shape\":\"\"}},\"name\":\"Matlab\",\"offsetgroup\":\"Matlab\",\"orientation\":\"v\",\"showlegend\":true,\"textposition\":\"auto\",\"x\":[\"Matlab\"],\"xaxis\":\"x\",\"y\":[1],\"yaxis\":\"y\",\"type\":\"bar\"},{\"alignmentgroup\":\"True\",\"hovertemplate\":\"language=%{x}<br>name=%{y}<extra></extra>\",\"legendgroup\":\"NSIS\",\"marker\":{\"color\":\"#FF97FF\",\"pattern\":{\"shape\":\"\"}},\"name\":\"NSIS\",\"offsetgroup\":\"NSIS\",\"orientation\":\"v\",\"showlegend\":true,\"textposition\":\"auto\",\"x\":[\"NSIS\"],\"xaxis\":\"x\",\"y\":[1],\"yaxis\":\"y\",\"type\":\"bar\"},{\"alignmentgroup\":\"True\",\"hovertemplate\":\"language=%{x}<br>name=%{y}<extra></extra>\",\"legendgroup\":\"Nunjucks\",\"marker\":{\"color\":\"#FECB52\",\"pattern\":{\"shape\":\"\"}},\"name\":\"Nunjucks\",\"offsetgroup\":\"Nunjucks\",\"orientation\":\"v\",\"showlegend\":true,\"textposition\":\"auto\",\"x\":[\"Nunjucks\"],\"xaxis\":\"x\",\"y\":[1],\"yaxis\":\"y\",\"type\":\"bar\"},{\"alignmentgroup\":\"True\",\"hovertemplate\":\"language=%{x}<br>name=%{y}<extra></extra>\",\"legendgroup\":\"WebAssembly\",\"marker\":{\"color\":\"#636efa\",\"pattern\":{\"shape\":\"\"}},\"name\":\"WebAssembly\",\"offsetgroup\":\"WebAssembly\",\"orientation\":\"v\",\"showlegend\":true,\"textposition\":\"auto\",\"x\":[\"WebAssembly\"],\"xaxis\":\"x\",\"y\":[1],\"yaxis\":\"y\",\"type\":\"bar\"}],                        {\"template\":{\"data\":{\"histogram2dcontour\":[{\"type\":\"histogram2dcontour\",\"colorbar\":{\"outlinewidth\":0,\"ticks\":\"\"},\"colorscale\":[[0.0,\"#0d0887\"],[0.1111111111111111,\"#46039f\"],[0.2222222222222222,\"#7201a8\"],[0.3333333333333333,\"#9c179e\"],[0.4444444444444444,\"#bd3786\"],[0.5555555555555556,\"#d8576b\"],[0.6666666666666666,\"#ed7953\"],[0.7777777777777778,\"#fb9f3a\"],[0.8888888888888888,\"#fdca26\"],[1.0,\"#f0f921\"]]}],\"choropleth\":[{\"type\":\"choropleth\",\"colorbar\":{\"outlinewidth\":0,\"ticks\":\"\"}}],\"histogram2d\":[{\"type\":\"histogram2d\",\"colorbar\":{\"outlinewidth\":0,\"ticks\":\"\"},\"colorscale\":[[0.0,\"#0d0887\"],[0.1111111111111111,\"#46039f\"],[0.2222222222222222,\"#7201a8\"],[0.3333333333333333,\"#9c179e\"],[0.4444444444444444,\"#bd3786\"],[0.5555555555555556,\"#d8576b\"],[0.6666666666666666,\"#ed7953\"],[0.7777777777777778,\"#fb9f3a\"],[0.8888888888888888,\"#fdca26\"],[1.0,\"#f0f921\"]]}],\"heatmap\":[{\"type\":\"heatmap\",\"colorbar\":{\"outlinewidth\":0,\"ticks\":\"\"},\"colorscale\":[[0.0,\"#0d0887\"],[0.1111111111111111,\"#46039f\"],[0.2222222222222222,\"#7201a8\"],[0.3333333333333333,\"#9c179e\"],[0.4444444444444444,\"#bd3786\"],[0.5555555555555556,\"#d8576b\"],[0.6666666666666666,\"#ed7953\"],[0.7777777777777778,\"#fb9f3a\"],[0.8888888888888888,\"#fdca26\"],[1.0,\"#f0f921\"]]}],\"heatmapgl\":[{\"type\":\"heatmapgl\",\"colorbar\":{\"outlinewidth\":0,\"ticks\":\"\"},\"colorscale\":[[0.0,\"#0d0887\"],[0.1111111111111111,\"#46039f\"],[0.2222222222222222,\"#7201a8\"],[0.3333333333333333,\"#9c179e\"],[0.4444444444444444,\"#bd3786\"],[0.5555555555555556,\"#d8576b\"],[0.6666666666666666,\"#ed7953\"],[0.7777777777777778,\"#fb9f3a\"],[0.8888888888888888,\"#fdca26\"],[1.0,\"#f0f921\"]]}],\"contourcarpet\":[{\"type\":\"contourcarpet\",\"colorbar\":{\"outlinewidth\":0,\"ticks\":\"\"}}],\"contour\":[{\"type\":\"contour\",\"colorbar\":{\"outlinewidth\":0,\"ticks\":\"\"},\"colorscale\":[[0.0,\"#0d0887\"],[0.1111111111111111,\"#46039f\"],[0.2222222222222222,\"#7201a8\"],[0.3333333333333333,\"#9c179e\"],[0.4444444444444444,\"#bd3786\"],[0.5555555555555556,\"#d8576b\"],[0.6666666666666666,\"#ed7953\"],[0.7777777777777778,\"#fb9f3a\"],[0.8888888888888888,\"#fdca26\"],[1.0,\"#f0f921\"]]}],\"surface\":[{\"type\":\"surface\",\"colorbar\":{\"outlinewidth\":0,\"ticks\":\"\"},\"colorscale\":[[0.0,\"#0d0887\"],[0.1111111111111111,\"#46039f\"],[0.2222222222222222,\"#7201a8\"],[0.3333333333333333,\"#9c179e\"],[0.4444444444444444,\"#bd3786\"],[0.5555555555555556,\"#d8576b\"],[0.6666666666666666,\"#ed7953\"],[0.7777777777777778,\"#fb9f3a\"],[0.8888888888888888,\"#fdca26\"],[1.0,\"#f0f921\"]]}],\"mesh3d\":[{\"type\":\"mesh3d\",\"colorbar\":{\"outlinewidth\":0,\"ticks\":\"\"}}],\"scatter\":[{\"fillpattern\":{\"fillmode\":\"overlay\",\"size\":10,\"solidity\":0.2},\"type\":\"scatter\"}],\"parcoords\":[{\"type\":\"parcoords\",\"line\":{\"colorbar\":{\"outlinewidth\":0,\"ticks\":\"\"}}}],\"scatterpolargl\":[{\"type\":\"scatterpolargl\",\"marker\":{\"colorbar\":{\"outlinewidth\":0,\"ticks\":\"\"}}}],\"bar\":[{\"error_x\":{\"color\":\"#2a3f5f\"},\"error_y\":{\"color\":\"#2a3f5f\"},\"marker\":{\"line\":{\"color\":\"#E5ECF6\",\"width\":0.5},\"pattern\":{\"fillmode\":\"overlay\",\"size\":10,\"solidity\":0.2}},\"type\":\"bar\"}],\"scattergeo\":[{\"type\":\"scattergeo\",\"marker\":{\"colorbar\":{\"outlinewidth\":0,\"ticks\":\"\"}}}],\"scatterpolar\":[{\"type\":\"scatterpolar\",\"marker\":{\"colorbar\":{\"outlinewidth\":0,\"ticks\":\"\"}}}],\"histogram\":[{\"marker\":{\"pattern\":{\"fillmode\":\"overlay\",\"size\":10,\"solidity\":0.2}},\"type\":\"histogram\"}],\"scattergl\":[{\"type\":\"scattergl\",\"marker\":{\"colorbar\":{\"outlinewidth\":0,\"ticks\":\"\"}}}],\"scatter3d\":[{\"type\":\"scatter3d\",\"line\":{\"colorbar\":{\"outlinewidth\":0,\"ticks\":\"\"}},\"marker\":{\"colorbar\":{\"outlinewidth\":0,\"ticks\":\"\"}}}],\"scattermapbox\":[{\"type\":\"scattermapbox\",\"marker\":{\"colorbar\":{\"outlinewidth\":0,\"ticks\":\"\"}}}],\"scatterternary\":[{\"type\":\"scatterternary\",\"marker\":{\"colorbar\":{\"outlinewidth\":0,\"ticks\":\"\"}}}],\"scattercarpet\":[{\"type\":\"scattercarpet\",\"marker\":{\"colorbar\":{\"outlinewidth\":0,\"ticks\":\"\"}}}],\"carpet\":[{\"aaxis\":{\"endlinecolor\":\"#2a3f5f\",\"gridcolor\":\"white\",\"linecolor\":\"white\",\"minorgridcolor\":\"white\",\"startlinecolor\":\"#2a3f5f\"},\"baxis\":{\"endlinecolor\":\"#2a3f5f\",\"gridcolor\":\"white\",\"linecolor\":\"white\",\"minorgridcolor\":\"white\",\"startlinecolor\":\"#2a3f5f\"},\"type\":\"carpet\"}],\"table\":[{\"cells\":{\"fill\":{\"color\":\"#EBF0F8\"},\"line\":{\"color\":\"white\"}},\"header\":{\"fill\":{\"color\":\"#C8D4E3\"},\"line\":{\"color\":\"white\"}},\"type\":\"table\"}],\"barpolar\":[{\"marker\":{\"line\":{\"color\":\"#E5ECF6\",\"width\":0.5},\"pattern\":{\"fillmode\":\"overlay\",\"size\":10,\"solidity\":0.2}},\"type\":\"barpolar\"}],\"pie\":[{\"automargin\":true,\"type\":\"pie\"}]},\"layout\":{\"autotypenumbers\":\"strict\",\"colorway\":[\"#636efa\",\"#EF553B\",\"#00cc96\",\"#ab63fa\",\"#FFA15A\",\"#19d3f3\",\"#FF6692\",\"#B6E880\",\"#FF97FF\",\"#FECB52\"],\"font\":{\"color\":\"#2a3f5f\"},\"hovermode\":\"closest\",\"hoverlabel\":{\"align\":\"left\"},\"paper_bgcolor\":\"white\",\"plot_bgcolor\":\"#E5ECF6\",\"polar\":{\"bgcolor\":\"#E5ECF6\",\"angularaxis\":{\"gridcolor\":\"white\",\"linecolor\":\"white\",\"ticks\":\"\"},\"radialaxis\":{\"gridcolor\":\"white\",\"linecolor\":\"white\",\"ticks\":\"\"}},\"ternary\":{\"bgcolor\":\"#E5ECF6\",\"aaxis\":{\"gridcolor\":\"white\",\"linecolor\":\"white\",\"ticks\":\"\"},\"baxis\":{\"gridcolor\":\"white\",\"linecolor\":\"white\",\"ticks\":\"\"},\"caxis\":{\"gridcolor\":\"white\",\"linecolor\":\"white\",\"ticks\":\"\"}},\"coloraxis\":{\"colorbar\":{\"outlinewidth\":0,\"ticks\":\"\"}},\"colorscale\":{\"sequential\":[[0.0,\"#0d0887\"],[0.1111111111111111,\"#46039f\"],[0.2222222222222222,\"#7201a8\"],[0.3333333333333333,\"#9c179e\"],[0.4444444444444444,\"#bd3786\"],[0.5555555555555556,\"#d8576b\"],[0.6666666666666666,\"#ed7953\"],[0.7777777777777778,\"#fb9f3a\"],[0.8888888888888888,\"#fdca26\"],[1.0,\"#f0f921\"]],\"sequentialminus\":[[0.0,\"#0d0887\"],[0.1111111111111111,\"#46039f\"],[0.2222222222222222,\"#7201a8\"],[0.3333333333333333,\"#9c179e\"],[0.4444444444444444,\"#bd3786\"],[0.5555555555555556,\"#d8576b\"],[0.6666666666666666,\"#ed7953\"],[0.7777777777777778,\"#fb9f3a\"],[0.8888888888888888,\"#fdca26\"],[1.0,\"#f0f921\"]],\"diverging\":[[0,\"#8e0152\"],[0.1,\"#c51b7d\"],[0.2,\"#de77ae\"],[0.3,\"#f1b6da\"],[0.4,\"#fde0ef\"],[0.5,\"#f7f7f7\"],[0.6,\"#e6f5d0\"],[0.7,\"#b8e186\"],[0.8,\"#7fbc41\"],[0.9,\"#4d9221\"],[1,\"#276419\"]]},\"xaxis\":{\"gridcolor\":\"white\",\"linecolor\":\"white\",\"ticks\":\"\",\"title\":{\"standoff\":15},\"zerolinecolor\":\"white\",\"automargin\":true,\"zerolinewidth\":2},\"yaxis\":{\"gridcolor\":\"white\",\"linecolor\":\"white\",\"ticks\":\"\",\"title\":{\"standoff\":15},\"zerolinecolor\":\"white\",\"automargin\":true,\"zerolinewidth\":2},\"scene\":{\"xaxis\":{\"backgroundcolor\":\"#E5ECF6\",\"gridcolor\":\"white\",\"linecolor\":\"white\",\"showbackground\":true,\"ticks\":\"\",\"zerolinecolor\":\"white\",\"gridwidth\":2},\"yaxis\":{\"backgroundcolor\":\"#E5ECF6\",\"gridcolor\":\"white\",\"linecolor\":\"white\",\"showbackground\":true,\"ticks\":\"\",\"zerolinecolor\":\"white\",\"gridwidth\":2},\"zaxis\":{\"backgroundcolor\":\"#E5ECF6\",\"gridcolor\":\"white\",\"linecolor\":\"white\",\"showbackground\":true,\"ticks\":\"\",\"zerolinecolor\":\"white\",\"gridwidth\":2}},\"shapedefaults\":{\"line\":{\"color\":\"#2a3f5f\"}},\"annotationdefaults\":{\"arrowcolor\":\"#2a3f5f\",\"arrowhead\":0,\"arrowwidth\":1},\"geo\":{\"bgcolor\":\"white\",\"landcolor\":\"#E5ECF6\",\"subunitcolor\":\"white\",\"showland\":true,\"showlakes\":true,\"lakecolor\":\"white\"},\"title\":{\"x\":0.05},\"mapbox\":{\"style\":\"light\"}}},\"xaxis\":{\"anchor\":\"y\",\"domain\":[0.0,1.0],\"title\":{\"text\":\"Programming Language\"},\"categoryorder\":\"array\",\"categoryarray\":[\"Python\",\"JavaScript\",\"Java\",\"TypeScript\",\"Go\",\"C++\",\"C\",\"HTML\",\"C#\",\"Jupyter Notebook\",\"Rust\",\"Shell\",\"PHP\",\"Swift\",\"Kotlin\",\"Objective-C\",\"Vue\",\"Ruby\",\"CSS\",\"R\",\"Scala\",\"Emacs Lisp\",\"TeX\",\"Clojure\",\"Dart\",\"PowerShell\",\"Elixir\",\"Lua\",\"Dockerfile\",\"SCSS\",\"Julia\",\"Makefile\",\"Nim\",\"HCL\",\"Crystal\",\"AutoHotkey\",\"F#\",\"ShaderLab\",\"Verilog\",\"Batchfile\",\"PureScript\",\"Racket\",\"Astro\",\"Reason\",\"Scheme\",\"QML\",\"Smalltalk\",\"Vim Script\",\"Vim script\",\"Slash\",\"M4\",\"Perl\",\"Objective-C++\",\"CMake\",\"Cuda\",\"Cycript\",\"DenizenScript\",\"F*\",\"Fortran\",\"GLSL\",\"Game Maker Language\",\"Handlebars\",\"Haskell\",\"Jsonnet\",\"Less\",\"MQL5\",\"Markdown\",\"Matlab\",\"NSIS\",\"Nunjucks\",\"WebAssembly\"]},\"yaxis\":{\"anchor\":\"x\",\"domain\":[0.0,1.0],\"title\":{\"text\":\"Number of Repositories\"}},\"legend\":{\"title\":{\"text\":\"language\"},\"tracegroupgap\":0},\"margin\":{\"t\":60},\"barmode\":\"relative\"},                        {\"responsive\": true}                    ).then(function(){\n",
       "                            \n",
       "var gd = document.getElementById('ee8a355f-7838-471c-ab6f-6ed5031d3d66');\n",
       "var x = new MutationObserver(function (mutations, observer) {{\n",
       "        var display = window.getComputedStyle(gd).display;\n",
       "        if (!display || display === 'none') {{\n",
       "            console.log([gd, 'removed!']);\n",
       "            Plotly.purge(gd);\n",
       "            observer.disconnect();\n",
       "        }}\n",
       "}});\n",
       "\n",
       "// Listen for the removal of the full notebook cells\n",
       "var notebookContainer = gd.closest('#notebook-container');\n",
       "if (notebookContainer) {{\n",
       "    x.observe(notebookContainer, {childList: true});\n",
       "}}\n",
       "\n",
       "// Listen for the clearing of the current output cell\n",
       "var outputEl = gd.closest('.output');\n",
       "if (outputEl) {{\n",
       "    x.observe(outputEl, {childList: true});\n",
       "}}\n",
       "\n",
       "                        })                };                });            </script>        </div>"
      ]
     },
     "metadata": {},
     "output_type": "display_data"
    }
   ],
   "source": [
    "import pandas as pd\n",
    "import plotly.express as px\n",
    "\n",
    "\n",
    "# Regrouper les repositories par langage et compter le nombre de repositories pour chaque langage\n",
    "grouped_df = df.head(1500).groupby('language').count()\n",
    "\n",
    "# Trier les langages par ordre décroissant du nombre de repositories\n",
    "sorted_grouped_df = grouped_df.sort_values('name', ascending=False)\n",
    "\n",
    "# Créer un diagramme à barres pour les langages les plus utilisés\n",
    "fig = px.bar(sorted_grouped_df, x=sorted_grouped_df.index, y='name', color=sorted_grouped_df.index)\n",
    "\n",
    "# Définir les étiquettes pour les axes x et y\n",
    "fig.update_layout(xaxis_title='Programming Language', yaxis_title='Number of Repositories')\n",
    "\n",
    "# Afficher le diagramme\n",
    "fig.show()"
   ]
  },
  {
   "cell_type": "code",
   "execution_count": 51,
   "id": "ce6d1d93",
   "metadata": {
    "scrolled": true
   },
   "outputs": [
    {
     "data": {
      "text/html": [
       "<div>\n",
       "<style scoped>\n",
       "    .dataframe tbody tr th:only-of-type {\n",
       "        vertical-align: middle;\n",
       "    }\n",
       "\n",
       "    .dataframe tbody tr th {\n",
       "        vertical-align: top;\n",
       "    }\n",
       "\n",
       "    .dataframe thead th {\n",
       "        text-align: right;\n",
       "    }\n",
       "</style>\n",
       "<table border=\"1\" class=\"dataframe\">\n",
       "  <thead>\n",
       "    <tr style=\"text-align: right;\">\n",
       "      <th></th>\n",
       "      <th>Unnamed: 0</th>\n",
       "      <th>index</th>\n",
       "      <th>name</th>\n",
       "      <th>full_name</th>\n",
       "      <th>html_url</th>\n",
       "      <th>owner</th>\n",
       "      <th>description</th>\n",
       "      <th>created_at</th>\n",
       "      <th>updated_at</th>\n",
       "      <th>pushed_at</th>\n",
       "      <th>stargazers_count</th>\n",
       "      <th>language</th>\n",
       "      <th>forks_count</th>\n",
       "      <th>topics</th>\n",
       "      <th>contributors_url</th>\n",
       "      <th>license</th>\n",
       "      <th>commits_url</th>\n",
       "    </tr>\n",
       "  </thead>\n",
       "  <tbody>\n",
       "    <tr>\n",
       "      <th>0</th>\n",
       "      <td>0</td>\n",
       "      <td>1</td>\n",
       "      <td>Deep-Learning-21-Examples</td>\n",
       "      <td>hzy46/Deep-Learning-21-Examples</td>\n",
       "      <td>https://github.com/hzy46/Deep-Learning-21-Exam...</td>\n",
       "      <td>{'login': 'hzy46', 'id': 7499023, 'node_id': '...</td>\n",
       "      <td>《21个项目玩转深度学习———基于TensorFlow的实践详解》配套代码</td>\n",
       "      <td>2018-01-01 11:07:50+00:00</td>\n",
       "      <td>2023-06-15 01:40:09+00:00</td>\n",
       "      <td>2019-03-18 12:27:24+00:00</td>\n",
       "      <td>4340</td>\n",
       "      <td>Python</td>\n",
       "      <td>1774</td>\n",
       "      <td>['Deep-Learning-21-Examples', 'Python']</td>\n",
       "      <td>https://api.github.com/repos/hzy46/Deep-Learni...</td>\n",
       "      <td>No license</td>\n",
       "      <td>https://api.github.com/repos/hzy46/Deep-Learni...</td>\n",
       "    </tr>\n",
       "    <tr>\n",
       "      <th>1</th>\n",
       "      <td>1</td>\n",
       "      <td>2</td>\n",
       "      <td>lit</td>\n",
       "      <td>ajusa/lit</td>\n",
       "      <td>https://github.com/ajusa/lit</td>\n",
       "      <td>{'login': 'ajusa', 'id': 7073362, 'node_id': '...</td>\n",
       "      <td>World's smallest responsive 🔥 css framework (3...</td>\n",
       "      <td>2018-01-01 17:00:44+00:00</td>\n",
       "      <td>2023-06-07 04:50:02+00:00</td>\n",
       "      <td>2022-12-11 14:16:51+00:00</td>\n",
       "      <td>1969</td>\n",
       "      <td>CSS</td>\n",
       "      <td>93</td>\n",
       "      <td>['css', 'css-framework', 'flat', 'lit', 'micro...</td>\n",
       "      <td>https://api.github.com/repos/ajusa/lit/contrib...</td>\n",
       "      <td>{'key': 'mit', 'name': 'MIT License', 'spdx_id...</td>\n",
       "      <td>https://api.github.com/repos/ajusa/lit/commits...</td>\n",
       "    </tr>\n",
       "    <tr>\n",
       "      <th>2</th>\n",
       "      <td>2</td>\n",
       "      <td>3</td>\n",
       "      <td>hdl_graph_slam</td>\n",
       "      <td>koide3/hdl_graph_slam</td>\n",
       "      <td>https://github.com/koide3/hdl_graph_slam</td>\n",
       "      <td>{'login': 'koide3', 'id': 31344317, 'node_id':...</td>\n",
       "      <td>3D LIDAR-based Graph SLAM</td>\n",
       "      <td>2018-01-01 07:35:43+00:00</td>\n",
       "      <td>2023-06-16 01:45:47+00:00</td>\n",
       "      <td>2023-02-28 09:14:43+00:00</td>\n",
       "      <td>1644</td>\n",
       "      <td>C++</td>\n",
       "      <td>693</td>\n",
       "      <td>['hdl-graph-slam', 'lidar', 'point-cloud', 'ro...</td>\n",
       "      <td>https://api.github.com/repos/koide3/hdl_graph_...</td>\n",
       "      <td>{'key': 'bsd-2-clause', 'name': 'BSD 2-Clause ...</td>\n",
       "      <td>https://api.github.com/repos/koide3/hdl_graph_...</td>\n",
       "    </tr>\n",
       "    <tr>\n",
       "      <th>3</th>\n",
       "      <td>3</td>\n",
       "      <td>4</td>\n",
       "      <td>react-projects</td>\n",
       "      <td>ajayns/react-projects</td>\n",
       "      <td>https://github.com/ajayns/react-projects</td>\n",
       "      <td>{'login': 'ajayns', 'id': 20743219, 'node_id':...</td>\n",
       "      <td>A collection of projects built on the React li...</td>\n",
       "      <td>2018-01-01 05:51:39+00:00</td>\n",
       "      <td>2023-06-16 07:18:32+00:00</td>\n",
       "      <td>2023-05-19 15:38:57+00:00</td>\n",
       "      <td>1362</td>\n",
       "      <td>JavaScript</td>\n",
       "      <td>607</td>\n",
       "      <td>['jsx', 'projects', 'react', 'react-router', '...</td>\n",
       "      <td>https://api.github.com/repos/ajayns/react-proj...</td>\n",
       "      <td>No license</td>\n",
       "      <td>https://api.github.com/repos/ajayns/react-proj...</td>\n",
       "    </tr>\n",
       "    <tr>\n",
       "      <th>4</th>\n",
       "      <td>4</td>\n",
       "      <td>5</td>\n",
       "      <td>weixin</td>\n",
       "      <td>game-helper/weixin</td>\n",
       "      <td>https://github.com/game-helper/weixin</td>\n",
       "      <td>{'login': 'game-helper', 'id': 36100803, 'node...</td>\n",
       "      <td>微信小游戏辅助合集（加减大师、包你懂我、大家来找茬腾讯版、头脑王者、好友画我、悦动音符、我最...</td>\n",
       "      <td>2018-01-01 05:16:44+00:00</td>\n",
       "      <td>2023-06-15 15:39:12+00:00</td>\n",
       "      <td>2018-07-24 03:35:03+00:00</td>\n",
       "      <td>1307</td>\n",
       "      <td>JavaScript</td>\n",
       "      <td>394</td>\n",
       "      <td>['anyproxy', 'charles', 'crawl', 'fiddler', 'g...</td>\n",
       "      <td>https://api.github.com/repos/game-helper/weixi...</td>\n",
       "      <td>{'key': 'gpl-3.0', 'name': 'GNU General Public...</td>\n",
       "      <td>https://api.github.com/repos/game-helper/weixi...</td>\n",
       "    </tr>\n",
       "    <tr>\n",
       "      <th>...</th>\n",
       "      <td>...</td>\n",
       "      <td>...</td>\n",
       "      <td>...</td>\n",
       "      <td>...</td>\n",
       "      <td>...</td>\n",
       "      <td>...</td>\n",
       "      <td>...</td>\n",
       "      <td>...</td>\n",
       "      <td>...</td>\n",
       "      <td>...</td>\n",
       "      <td>...</td>\n",
       "      <td>...</td>\n",
       "      <td>...</td>\n",
       "      <td>...</td>\n",
       "      <td>...</td>\n",
       "      <td>...</td>\n",
       "      <td>...</td>\n",
       "    </tr>\n",
       "    <tr>\n",
       "      <th>19995</th>\n",
       "      <td>19995</td>\n",
       "      <td>21668</td>\n",
       "      <td>aws-amplify-workshop-web</td>\n",
       "      <td>dabit3/aws-amplify-workshop-web</td>\n",
       "      <td>https://github.com/dabit3/aws-amplify-workshop...</td>\n",
       "      <td>{'login': 'dabit3', 'id': 1857282, 'node_id': ...</td>\n",
       "      <td>Building web applications with React &amp; AWS Amp...</td>\n",
       "      <td>2018-08-05 21:04:07+00:00</td>\n",
       "      <td>2023-04-20 22:26:31+00:00</td>\n",
       "      <td>2021-05-27 18:29:06+00:00</td>\n",
       "      <td>89</td>\n",
       "      <td>JavaScript</td>\n",
       "      <td>20</td>\n",
       "      <td>['aws-amplify-workshop-web', 'JavaScript']</td>\n",
       "      <td>https://api.github.com/repos/dabit3/aws-amplif...</td>\n",
       "      <td>No license</td>\n",
       "      <td>https://api.github.com/repos/dabit3/aws-amplif...</td>\n",
       "    </tr>\n",
       "    <tr>\n",
       "      <th>19996</th>\n",
       "      <td>19996</td>\n",
       "      <td>21669</td>\n",
       "      <td>rux</td>\n",
       "      <td>gookit/rux</td>\n",
       "      <td>https://github.com/gookit/rux</td>\n",
       "      <td>{'login': 'gookit', 'id': 40689636, 'node_id':...</td>\n",
       "      <td>⚡ Rux is an simple and fast web framework. sup...</td>\n",
       "      <td>2018-08-05 06:13:57+00:00</td>\n",
       "      <td>2023-03-04 12:52:47+00:00</td>\n",
       "      <td>2023-06-12 04:56:59+00:00</td>\n",
       "      <td>89</td>\n",
       "      <td>Go</td>\n",
       "      <td>14</td>\n",
       "      <td>['go', 'http-handler', 'http-middleware', 'htt...</td>\n",
       "      <td>https://api.github.com/repos/gookit/rux/contri...</td>\n",
       "      <td>{'key': 'mit', 'name': 'MIT License', 'spdx_id...</td>\n",
       "      <td>https://api.github.com/repos/gookit/rux/commit...</td>\n",
       "    </tr>\n",
       "    <tr>\n",
       "      <th>19997</th>\n",
       "      <td>19997</td>\n",
       "      <td>21670</td>\n",
       "      <td>brickcontroller2</td>\n",
       "      <td>imurvai/brickcontroller2</td>\n",
       "      <td>https://github.com/imurvai/brickcontroller2</td>\n",
       "      <td>{'login': 'imurvai', 'id': 16706969, 'node_id'...</td>\n",
       "      <td>Cross platform application for controlling Leg...</td>\n",
       "      <td>2018-08-05 12:21:36+00:00</td>\n",
       "      <td>2023-06-13 05:34:29+00:00</td>\n",
       "      <td>2022-12-31 10:12:24+00:00</td>\n",
       "      <td>87</td>\n",
       "      <td>C#</td>\n",
       "      <td>23</td>\n",
       "      <td>['brickcontroller2', 'C#']</td>\n",
       "      <td>https://api.github.com/repos/imurvai/brickcont...</td>\n",
       "      <td>No license</td>\n",
       "      <td>https://api.github.com/repos/imurvai/brickcont...</td>\n",
       "    </tr>\n",
       "    <tr>\n",
       "      <th>19998</th>\n",
       "      <td>19998</td>\n",
       "      <td>21671</td>\n",
       "      <td>awesome-python-cheatsheets</td>\n",
       "      <td>akashp1712/awesome-python-cheatsheets</td>\n",
       "      <td>https://github.com/akashp1712/awesome-python-c...</td>\n",
       "      <td>{'login': 'akashp1712', 'id': 11018283, 'node_...</td>\n",
       "      <td>A reference cheat sheet for Java developers wh...</td>\n",
       "      <td>2018-08-05 12:30:21+00:00</td>\n",
       "      <td>2023-06-04 01:10:03+00:00</td>\n",
       "      <td>2023-01-16 07:31:43+00:00</td>\n",
       "      <td>86</td>\n",
       "      <td>TeX</td>\n",
       "      <td>14</td>\n",
       "      <td>['cheatsheet', 'programming', 'python', 'pytho...</td>\n",
       "      <td>https://api.github.com/repos/akashp1712/awesom...</td>\n",
       "      <td>No license</td>\n",
       "      <td>https://api.github.com/repos/akashp1712/awesom...</td>\n",
       "    </tr>\n",
       "    <tr>\n",
       "      <th>19999</th>\n",
       "      <td>19999</td>\n",
       "      <td>21672</td>\n",
       "      <td>blockchain-kotlin</td>\n",
       "      <td>MaiJiantian/blockchain-kotlin</td>\n",
       "      <td>https://github.com/MaiJiantian/blockchain-kotlin</td>\n",
       "      <td>{'login': 'MaiJiantian', 'id': 35630335, 'node...</td>\n",
       "      <td>这是kotlin版的简化示例区块链demo；另外还有java版的；这个小demo能让你了解区...</td>\n",
       "      <td>2018-08-05 08:09:10+00:00</td>\n",
       "      <td>2020-10-09 06:57:46+00:00</td>\n",
       "      <td>2018-08-05 08:09:48+00:00</td>\n",
       "      <td>85</td>\n",
       "      <td>Kotlin</td>\n",
       "      <td>11</td>\n",
       "      <td>['blockchain', 'kotlin', 'websocket']</td>\n",
       "      <td>https://api.github.com/repos/MaiJiantian/block...</td>\n",
       "      <td>No license</td>\n",
       "      <td>https://api.github.com/repos/MaiJiantian/block...</td>\n",
       "    </tr>\n",
       "  </tbody>\n",
       "</table>\n",
       "<p>20000 rows × 17 columns</p>\n",
       "</div>"
      ],
      "text/plain": [
       "       Unnamed: 0  index                        name  \\\n",
       "0               0      1   Deep-Learning-21-Examples   \n",
       "1               1      2                         lit   \n",
       "2               2      3              hdl_graph_slam   \n",
       "3               3      4              react-projects   \n",
       "4               4      5                      weixin   \n",
       "...           ...    ...                         ...   \n",
       "19995       19995  21668    aws-amplify-workshop-web   \n",
       "19996       19996  21669                         rux   \n",
       "19997       19997  21670            brickcontroller2   \n",
       "19998       19998  21671  awesome-python-cheatsheets   \n",
       "19999       19999  21672           blockchain-kotlin   \n",
       "\n",
       "                                   full_name  \\\n",
       "0            hzy46/Deep-Learning-21-Examples   \n",
       "1                                  ajusa/lit   \n",
       "2                      koide3/hdl_graph_slam   \n",
       "3                      ajayns/react-projects   \n",
       "4                         game-helper/weixin   \n",
       "...                                      ...   \n",
       "19995        dabit3/aws-amplify-workshop-web   \n",
       "19996                             gookit/rux   \n",
       "19997               imurvai/brickcontroller2   \n",
       "19998  akashp1712/awesome-python-cheatsheets   \n",
       "19999          MaiJiantian/blockchain-kotlin   \n",
       "\n",
       "                                                html_url  \\\n",
       "0      https://github.com/hzy46/Deep-Learning-21-Exam...   \n",
       "1                           https://github.com/ajusa/lit   \n",
       "2               https://github.com/koide3/hdl_graph_slam   \n",
       "3               https://github.com/ajayns/react-projects   \n",
       "4                  https://github.com/game-helper/weixin   \n",
       "...                                                  ...   \n",
       "19995  https://github.com/dabit3/aws-amplify-workshop...   \n",
       "19996                      https://github.com/gookit/rux   \n",
       "19997        https://github.com/imurvai/brickcontroller2   \n",
       "19998  https://github.com/akashp1712/awesome-python-c...   \n",
       "19999   https://github.com/MaiJiantian/blockchain-kotlin   \n",
       "\n",
       "                                                   owner  \\\n",
       "0      {'login': 'hzy46', 'id': 7499023, 'node_id': '...   \n",
       "1      {'login': 'ajusa', 'id': 7073362, 'node_id': '...   \n",
       "2      {'login': 'koide3', 'id': 31344317, 'node_id':...   \n",
       "3      {'login': 'ajayns', 'id': 20743219, 'node_id':...   \n",
       "4      {'login': 'game-helper', 'id': 36100803, 'node...   \n",
       "...                                                  ...   \n",
       "19995  {'login': 'dabit3', 'id': 1857282, 'node_id': ...   \n",
       "19996  {'login': 'gookit', 'id': 40689636, 'node_id':...   \n",
       "19997  {'login': 'imurvai', 'id': 16706969, 'node_id'...   \n",
       "19998  {'login': 'akashp1712', 'id': 11018283, 'node_...   \n",
       "19999  {'login': 'MaiJiantian', 'id': 35630335, 'node...   \n",
       "\n",
       "                                             description  \\\n",
       "0                  《21个项目玩转深度学习———基于TensorFlow的实践详解》配套代码   \n",
       "1      World's smallest responsive 🔥 css framework (3...   \n",
       "2                              3D LIDAR-based Graph SLAM   \n",
       "3      A collection of projects built on the React li...   \n",
       "4      微信小游戏辅助合集（加减大师、包你懂我、大家来找茬腾讯版、头脑王者、好友画我、悦动音符、我最...   \n",
       "...                                                  ...   \n",
       "19995  Building web applications with React & AWS Amp...   \n",
       "19996  ⚡ Rux is an simple and fast web framework. sup...   \n",
       "19997  Cross platform application for controlling Leg...   \n",
       "19998  A reference cheat sheet for Java developers wh...   \n",
       "19999  这是kotlin版的简化示例区块链demo；另外还有java版的；这个小demo能让你了解区...   \n",
       "\n",
       "                      created_at                 updated_at  \\\n",
       "0      2018-01-01 11:07:50+00:00  2023-06-15 01:40:09+00:00   \n",
       "1      2018-01-01 17:00:44+00:00  2023-06-07 04:50:02+00:00   \n",
       "2      2018-01-01 07:35:43+00:00  2023-06-16 01:45:47+00:00   \n",
       "3      2018-01-01 05:51:39+00:00  2023-06-16 07:18:32+00:00   \n",
       "4      2018-01-01 05:16:44+00:00  2023-06-15 15:39:12+00:00   \n",
       "...                          ...                        ...   \n",
       "19995  2018-08-05 21:04:07+00:00  2023-04-20 22:26:31+00:00   \n",
       "19996  2018-08-05 06:13:57+00:00  2023-03-04 12:52:47+00:00   \n",
       "19997  2018-08-05 12:21:36+00:00  2023-06-13 05:34:29+00:00   \n",
       "19998  2018-08-05 12:30:21+00:00  2023-06-04 01:10:03+00:00   \n",
       "19999  2018-08-05 08:09:10+00:00  2020-10-09 06:57:46+00:00   \n",
       "\n",
       "                       pushed_at  stargazers_count    language  forks_count  \\\n",
       "0      2019-03-18 12:27:24+00:00              4340      Python         1774   \n",
       "1      2022-12-11 14:16:51+00:00              1969         CSS           93   \n",
       "2      2023-02-28 09:14:43+00:00              1644         C++          693   \n",
       "3      2023-05-19 15:38:57+00:00              1362  JavaScript          607   \n",
       "4      2018-07-24 03:35:03+00:00              1307  JavaScript          394   \n",
       "...                          ...               ...         ...          ...   \n",
       "19995  2021-05-27 18:29:06+00:00                89  JavaScript           20   \n",
       "19996  2023-06-12 04:56:59+00:00                89          Go           14   \n",
       "19997  2022-12-31 10:12:24+00:00                87          C#           23   \n",
       "19998  2023-01-16 07:31:43+00:00                86         TeX           14   \n",
       "19999  2018-08-05 08:09:48+00:00                85      Kotlin           11   \n",
       "\n",
       "                                                  topics  \\\n",
       "0                ['Deep-Learning-21-Examples', 'Python']   \n",
       "1      ['css', 'css-framework', 'flat', 'lit', 'micro...   \n",
       "2      ['hdl-graph-slam', 'lidar', 'point-cloud', 'ro...   \n",
       "3      ['jsx', 'projects', 'react', 'react-router', '...   \n",
       "4      ['anyproxy', 'charles', 'crawl', 'fiddler', 'g...   \n",
       "...                                                  ...   \n",
       "19995         ['aws-amplify-workshop-web', 'JavaScript']   \n",
       "19996  ['go', 'http-handler', 'http-middleware', 'htt...   \n",
       "19997                         ['brickcontroller2', 'C#']   \n",
       "19998  ['cheatsheet', 'programming', 'python', 'pytho...   \n",
       "19999              ['blockchain', 'kotlin', 'websocket']   \n",
       "\n",
       "                                        contributors_url  \\\n",
       "0      https://api.github.com/repos/hzy46/Deep-Learni...   \n",
       "1      https://api.github.com/repos/ajusa/lit/contrib...   \n",
       "2      https://api.github.com/repos/koide3/hdl_graph_...   \n",
       "3      https://api.github.com/repos/ajayns/react-proj...   \n",
       "4      https://api.github.com/repos/game-helper/weixi...   \n",
       "...                                                  ...   \n",
       "19995  https://api.github.com/repos/dabit3/aws-amplif...   \n",
       "19996  https://api.github.com/repos/gookit/rux/contri...   \n",
       "19997  https://api.github.com/repos/imurvai/brickcont...   \n",
       "19998  https://api.github.com/repos/akashp1712/awesom...   \n",
       "19999  https://api.github.com/repos/MaiJiantian/block...   \n",
       "\n",
       "                                                 license  \\\n",
       "0                                             No license   \n",
       "1      {'key': 'mit', 'name': 'MIT License', 'spdx_id...   \n",
       "2      {'key': 'bsd-2-clause', 'name': 'BSD 2-Clause ...   \n",
       "3                                             No license   \n",
       "4      {'key': 'gpl-3.0', 'name': 'GNU General Public...   \n",
       "...                                                  ...   \n",
       "19995                                         No license   \n",
       "19996  {'key': 'mit', 'name': 'MIT License', 'spdx_id...   \n",
       "19997                                         No license   \n",
       "19998                                         No license   \n",
       "19999                                         No license   \n",
       "\n",
       "                                             commits_url  \n",
       "0      https://api.github.com/repos/hzy46/Deep-Learni...  \n",
       "1      https://api.github.com/repos/ajusa/lit/commits...  \n",
       "2      https://api.github.com/repos/koide3/hdl_graph_...  \n",
       "3      https://api.github.com/repos/ajayns/react-proj...  \n",
       "4      https://api.github.com/repos/game-helper/weixi...  \n",
       "...                                                  ...  \n",
       "19995  https://api.github.com/repos/dabit3/aws-amplif...  \n",
       "19996  https://api.github.com/repos/gookit/rux/commit...  \n",
       "19997  https://api.github.com/repos/imurvai/brickcont...  \n",
       "19998  https://api.github.com/repos/akashp1712/awesom...  \n",
       "19999  https://api.github.com/repos/MaiJiantian/block...  \n",
       "\n",
       "[20000 rows x 17 columns]"
      ]
     },
     "execution_count": 51,
     "metadata": {},
     "output_type": "execute_result"
    }
   ],
   "source": [
    "df"
   ]
  },
  {
   "cell_type": "code",
   "execution_count": 52,
   "id": "1aab5266",
   "metadata": {
    "scrolled": true
   },
   "outputs": [
    {
     "data": {
      "image/png": "[encoded data removed]",
      "text/plain": [
       "<Figure size 400x400 with 1 Axes>"
      ]
     },
     "metadata": {},
     "output_type": "display_data"
    }
   ],
   "source": [
    "from wordcloud import WordCloud\n",
    "import matplotlib.pyplot as plt\n",
    "\n",
    "# Concaténer tous les textes de la colonne \"topics\" en une chaîne de caractères\n",
    "text = ' '.join(df['topics'])\n",
    "\n",
    "# Créer un objet WordCloud avec les paramètres souhaités\n",
    "wordcloud = WordCloud(width=400, height=400, background_color='white', min_font_size=10).generate(text)\n",
    "\n",
    "# Afficher le nuage de mots\n",
    "plt.figure(figsize=(4, 4), facecolor=None)\n",
    "plt.imshow(wordcloud)\n",
    "plt.axis(\"off\")\n",
    "plt.tight_layout(pad=0)\n",
    "plt.show()"
   ]
  },
  {
   "cell_type": "code",
   "execution_count": null,
   "id": "cea8a503",
   "metadata": {},
   "outputs": [],
   "source": []
  },
  {
   "cell_type": "code",
   "execution_count": 25,
   "id": "b934abf9",
   "metadata": {},
   "outputs": [
    {
     "data": {
      "text/html": [
       "<div>\n",
       "<style scoped>\n",
       "    .dataframe tbody tr th:only-of-type {\n",
       "        vertical-align: middle;\n",
       "    }\n",
       "\n",
       "    .dataframe tbody tr th {\n",
       "        vertical-align: top;\n",
       "    }\n",
       "\n",
       "    .dataframe thead th {\n",
       "        text-align: right;\n",
       "    }\n",
       "</style>\n",
       "<table border=\"1\" class=\"dataframe\">\n",
       "  <thead>\n",
       "    <tr style=\"text-align: right;\">\n",
       "      <th></th>\n",
       "      <th>Unnamed: 0</th>\n",
       "      <th>index</th>\n",
       "      <th>name</th>\n",
       "      <th>full_name</th>\n",
       "      <th>html_url</th>\n",
       "      <th>owner</th>\n",
       "      <th>description</th>\n",
       "      <th>created_at</th>\n",
       "      <th>updated_at</th>\n",
       "      <th>pushed_at</th>\n",
       "      <th>stargazers_count</th>\n",
       "      <th>language</th>\n",
       "      <th>forks_count</th>\n",
       "      <th>topics</th>\n",
       "      <th>contributors_url</th>\n",
       "      <th>license</th>\n",
       "      <th>commits_url</th>\n",
       "      <th>contributions</th>\n",
       "    </tr>\n",
       "  </thead>\n",
       "  <tbody>\n",
       "    <tr>\n",
       "      <th>0</th>\n",
       "      <td>0</td>\n",
       "      <td>1</td>\n",
       "      <td>Deep-Learning-21-Examples</td>\n",
       "      <td>hzy46/Deep-Learning-21-Examples</td>\n",
       "      <td>https://github.com/hzy46/Deep-Learning-21-Exam...</td>\n",
       "      <td>{'login': 'hzy46', 'id': 7499023, 'node_id': '...</td>\n",
       "      <td>《21个项目玩转深度学习———基于TensorFlow的实践详解》配套代码</td>\n",
       "      <td>2018-01-01 11:07:50+00:00</td>\n",
       "      <td>2023-06-15 01:40:09+00:00</td>\n",
       "      <td>2019-03-18 12:27:24+00:00</td>\n",
       "      <td>4340</td>\n",
       "      <td>Python</td>\n",
       "      <td>1774</td>\n",
       "      <td>['Deep-Learning-21-Examples', 'Python']</td>\n",
       "      <td>https://api.github.com/repos/hzy46/Deep-Learni...</td>\n",
       "      <td>No license</td>\n",
       "      <td>https://api.github.com/repos/hzy46/Deep-Learni...</td>\n",
       "      <td>[{'hzy46': 13}]</td>\n",
       "    </tr>\n",
       "    <tr>\n",
       "      <th>1</th>\n",
       "      <td>1</td>\n",
       "      <td>2</td>\n",
       "      <td>lit</td>\n",
       "      <td>ajusa/lit</td>\n",
       "      <td>https://github.com/ajusa/lit</td>\n",
       "      <td>{'login': 'ajusa', 'id': 7073362, 'node_id': '...</td>\n",
       "      <td>World's smallest responsive 🔥 css framework (3...</td>\n",
       "      <td>2018-01-01 17:00:44+00:00</td>\n",
       "      <td>2023-06-07 04:50:02+00:00</td>\n",
       "      <td>2022-12-11 14:16:51+00:00</td>\n",
       "      <td>1969</td>\n",
       "      <td>CSS</td>\n",
       "      <td>93</td>\n",
       "      <td>['css', 'css-framework', 'flat', 'lit', 'micro...</td>\n",
       "      <td>https://api.github.com/repos/ajusa/lit/contrib...</td>\n",
       "      <td>{'key': 'mit', 'name': 'MIT License', 'spdx_id...</td>\n",
       "      <td>https://api.github.com/repos/ajusa/lit/commits...</td>\n",
       "      <td>[{'ajusa': 186}, {'dependabot[bot]': 11}, {'st...</td>\n",
       "    </tr>\n",
       "    <tr>\n",
       "      <th>2</th>\n",
       "      <td>2</td>\n",
       "      <td>3</td>\n",
       "      <td>hdl_graph_slam</td>\n",
       "      <td>koide3/hdl_graph_slam</td>\n",
       "      <td>https://github.com/koide3/hdl_graph_slam</td>\n",
       "      <td>{'login': 'koide3', 'id': 31344317, 'node_id':...</td>\n",
       "      <td>3D LIDAR-based Graph SLAM</td>\n",
       "      <td>2018-01-01 07:35:43+00:00</td>\n",
       "      <td>2023-06-16 01:45:47+00:00</td>\n",
       "      <td>2023-02-28 09:14:43+00:00</td>\n",
       "      <td>1644</td>\n",
       "      <td>C++</td>\n",
       "      <td>693</td>\n",
       "      <td>['hdl-graph-slam', 'lidar', 'point-cloud', 'ro...</td>\n",
       "      <td>https://api.github.com/repos/koide3/hdl_graph_...</td>\n",
       "      <td>{'key': 'bsd-2-clause', 'name': 'BSD 2-Clause ...</td>\n",
       "      <td>https://api.github.com/repos/koide3/hdl_graph_...</td>\n",
       "      <td>[{'koide3': 96}, {'kkoide3': 50}, {'TirelessDe...</td>\n",
       "    </tr>\n",
       "    <tr>\n",
       "      <th>3</th>\n",
       "      <td>3</td>\n",
       "      <td>4</td>\n",
       "      <td>react-projects</td>\n",
       "      <td>ajayns/react-projects</td>\n",
       "      <td>https://github.com/ajayns/react-projects</td>\n",
       "      <td>{'login': 'ajayns', 'id': 20743219, 'node_id':...</td>\n",
       "      <td>A collection of projects built on the React li...</td>\n",
       "      <td>2018-01-01 05:51:39+00:00</td>\n",
       "      <td>2023-06-16 07:18:32+00:00</td>\n",
       "      <td>2023-05-19 15:38:57+00:00</td>\n",
       "      <td>1362</td>\n",
       "      <td>JavaScript</td>\n",
       "      <td>607</td>\n",
       "      <td>['jsx', 'projects', 'react', 'react-router', '...</td>\n",
       "      <td>https://api.github.com/repos/ajayns/react-proj...</td>\n",
       "      <td>No license</td>\n",
       "      <td>https://api.github.com/repos/ajayns/react-proj...</td>\n",
       "      <td>[{'dependabot[bot]': 3}, {'ajayns': 40}]</td>\n",
       "    </tr>\n",
       "    <tr>\n",
       "      <th>4</th>\n",
       "      <td>4</td>\n",
       "      <td>5</td>\n",
       "      <td>weixin</td>\n",
       "      <td>game-helper/weixin</td>\n",
       "      <td>https://github.com/game-helper/weixin</td>\n",
       "      <td>{'login': 'game-helper', 'id': 36100803, 'node...</td>\n",
       "      <td>微信小游戏辅助合集（加减大师、包你懂我、大家来找茬腾讯版、头脑王者、好友画我、悦动音符、我最...</td>\n",
       "      <td>2018-01-01 05:16:44+00:00</td>\n",
       "      <td>2023-06-15 15:39:12+00:00</td>\n",
       "      <td>2018-07-24 03:35:03+00:00</td>\n",
       "      <td>1307</td>\n",
       "      <td>JavaScript</td>\n",
       "      <td>394</td>\n",
       "      <td>['anyproxy', 'charles', 'crawl', 'fiddler', 'g...</td>\n",
       "      <td>https://api.github.com/repos/game-helper/weixi...</td>\n",
       "      <td>{'key': 'gpl-3.0', 'name': 'GNU General Public...</td>\n",
       "      <td>https://api.github.com/repos/game-helper/weixi...</td>\n",
       "      <td>[{'zhuweiyou': 137}, {'KilluaChen': 9}, {'xiao...</td>\n",
       "    </tr>\n",
       "    <tr>\n",
       "      <th>...</th>\n",
       "      <td>...</td>\n",
       "      <td>...</td>\n",
       "      <td>...</td>\n",
       "      <td>...</td>\n",
       "      <td>...</td>\n",
       "      <td>...</td>\n",
       "      <td>...</td>\n",
       "      <td>...</td>\n",
       "      <td>...</td>\n",
       "      <td>...</td>\n",
       "      <td>...</td>\n",
       "      <td>...</td>\n",
       "      <td>...</td>\n",
       "      <td>...</td>\n",
       "      <td>...</td>\n",
       "      <td>...</td>\n",
       "      <td>...</td>\n",
       "      <td>...</td>\n",
       "    </tr>\n",
       "    <tr>\n",
       "      <th>110303</th>\n",
       "      <td>110303</td>\n",
       "      <td>121091</td>\n",
       "      <td>gamescope-session</td>\n",
       "      <td>ChimeraOS/gamescope-session</td>\n",
       "      <td>https://github.com/ChimeraOS/gamescope-session</td>\n",
       "      <td>{'login': 'ChimeraOS', 'id': 75816437, 'node_i...</td>\n",
       "      <td>ChimeraOS session on Gamescope - Own personal ...</td>\n",
       "      <td>2021-04-25 22:41:15+00:00</td>\n",
       "      <td>2023-06-12 04:18:05+00:00</td>\n",
       "      <td>2023-06-16 10:04:20+00:00</td>\n",
       "      <td>56</td>\n",
       "      <td>Shell</td>\n",
       "      <td>14</td>\n",
       "      <td>['gamescope-session', 'Shell']</td>\n",
       "      <td>https://api.github.com/repos/ChimeraOS/gamesco...</td>\n",
       "      <td>{'key': 'mit', 'name': 'MIT License', 'spdx_id...</td>\n",
       "      <td>https://api.github.com/repos/ChimeraOS/gamesco...</td>\n",
       "      <td>None</td>\n",
       "    </tr>\n",
       "    <tr>\n",
       "      <th>110304</th>\n",
       "      <td>110304</td>\n",
       "      <td>121094</td>\n",
       "      <td>laravel-xlswriter</td>\n",
       "      <td>Lysice/laravel-xlswriter</td>\n",
       "      <td>https://github.com/Lysice/laravel-xlswriter</td>\n",
       "      <td>{'login': 'Lysice', 'id': 17869820, 'node_id':...</td>\n",
       "      <td>an excel export/import tool for laravel based ...</td>\n",
       "      <td>2021-04-25 03:47:13+00:00</td>\n",
       "      <td>2023-06-14 16:28:46+00:00</td>\n",
       "      <td>2021-10-25 06:39:11+00:00</td>\n",
       "      <td>55</td>\n",
       "      <td>PHP</td>\n",
       "      <td>2</td>\n",
       "      <td>['csv', 'excel', 'extension', 'laravel', 'lara...</td>\n",
       "      <td>https://api.github.com/repos/Lysice/laravel-xl...</td>\n",
       "      <td>No license</td>\n",
       "      <td>https://api.github.com/repos/Lysice/laravel-xl...</td>\n",
       "      <td>None</td>\n",
       "    </tr>\n",
       "    <tr>\n",
       "      <th>110305</th>\n",
       "      <td>110305</td>\n",
       "      <td>121095</td>\n",
       "      <td>sysgen</td>\n",
       "      <td>MVS-sysgen/sysgen</td>\n",
       "      <td>https://github.com/MVS-sysgen/sysgen</td>\n",
       "      <td>{'login': 'MVS-sysgen', 'id': 83150550, 'node_...</td>\n",
       "      <td>Jay Moseley MVS 3.8j sysgen automation</td>\n",
       "      <td>2021-04-25 17:33:27+00:00</td>\n",
       "      <td>2023-06-06 18:04:29+00:00</td>\n",
       "      <td>2023-04-13 23:23:32+00:00</td>\n",
       "      <td>55</td>\n",
       "      <td>JCL</td>\n",
       "      <td>18</td>\n",
       "      <td>['sysgen', 'JCL']</td>\n",
       "      <td>https://api.github.com/repos/MVS-sysgen/sysgen...</td>\n",
       "      <td>No license</td>\n",
       "      <td>https://api.github.com/repos/MVS-sysgen/sysgen...</td>\n",
       "      <td>None</td>\n",
       "    </tr>\n",
       "    <tr>\n",
       "      <th>110306</th>\n",
       "      <td>110306</td>\n",
       "      <td>121096</td>\n",
       "      <td>ugbasic</td>\n",
       "      <td>spotlessmind1975/ugbasic</td>\n",
       "      <td>https://github.com/spotlessmind1975/ugbasic</td>\n",
       "      <td>{'login': 'spotlessmind1975', 'id': 11718606, ...</td>\n",
       "      <td>An isomorphic BASIC language compiler for retr...</td>\n",
       "      <td>2021-04-25 21:09:29+00:00</td>\n",
       "      <td>2023-06-13 08:12:51+00:00</td>\n",
       "      <td>2023-06-16 11:50:13+00:00</td>\n",
       "      <td>54</td>\n",
       "      <td>C</td>\n",
       "      <td>9</td>\n",
       "      <td>['ugbasic', 'C']</td>\n",
       "      <td>https://api.github.com/repos/spotlessmind1975/...</td>\n",
       "      <td>{'key': 'apache-2.0', 'name': 'Apache License ...</td>\n",
       "      <td>https://api.github.com/repos/spotlessmind1975/...</td>\n",
       "      <td>None</td>\n",
       "    </tr>\n",
       "    <tr>\n",
       "      <th>110307</th>\n",
       "      <td>110307</td>\n",
       "      <td>121097</td>\n",
       "      <td>midwayjs-crud</td>\n",
       "      <td>developeryvan/midwayjs-crud</td>\n",
       "      <td>https://github.com/developeryvan/midwayjs-crud</td>\n",
       "      <td>{'login': 'developeryvan', 'id': 47513562, 'no...</td>\n",
       "      <td>基于 Typescript+MidwayJs+Nacos 的微服务开发架构</td>\n",
       "      <td>2021-04-25 02:19:59+00:00</td>\n",
       "      <td>2023-06-16 08:16:33+00:00</td>\n",
       "      <td>2022-07-29 09:57:58+00:00</td>\n",
       "      <td>53</td>\n",
       "      <td>TypeScript</td>\n",
       "      <td>14</td>\n",
       "      <td>['casbin', 'koa', 'midwayjs', 'mysql', 'nacos'...</td>\n",
       "      <td>https://api.github.com/repos/developeryvan/mid...</td>\n",
       "      <td>No license</td>\n",
       "      <td>https://api.github.com/repos/developeryvan/mid...</td>\n",
       "      <td>None</td>\n",
       "    </tr>\n",
       "  </tbody>\n",
       "</table>\n",
       "<p>110308 rows × 18 columns</p>\n",
       "</div>"
      ],
      "text/plain": [
       "        Unnamed: 0   index                       name  \\\n",
       "0                0       1  Deep-Learning-21-Examples   \n",
       "1                1       2                        lit   \n",
       "2                2       3             hdl_graph_slam   \n",
       "3                3       4             react-projects   \n",
       "4                4       5                     weixin   \n",
       "...            ...     ...                        ...   \n",
       "110303      110303  121091          gamescope-session   \n",
       "110304      110304  121094          laravel-xlswriter   \n",
       "110305      110305  121095                     sysgen   \n",
       "110306      110306  121096                    ugbasic   \n",
       "110307      110307  121097              midwayjs-crud   \n",
       "\n",
       "                              full_name  \\\n",
       "0       hzy46/Deep-Learning-21-Examples   \n",
       "1                             ajusa/lit   \n",
       "2                 koide3/hdl_graph_slam   \n",
       "3                 ajayns/react-projects   \n",
       "4                    game-helper/weixin   \n",
       "...                                 ...   \n",
       "110303      ChimeraOS/gamescope-session   \n",
       "110304         Lysice/laravel-xlswriter   \n",
       "110305                MVS-sysgen/sysgen   \n",
       "110306         spotlessmind1975/ugbasic   \n",
       "110307      developeryvan/midwayjs-crud   \n",
       "\n",
       "                                                 html_url  \\\n",
       "0       https://github.com/hzy46/Deep-Learning-21-Exam...   \n",
       "1                            https://github.com/ajusa/lit   \n",
       "2                https://github.com/koide3/hdl_graph_slam   \n",
       "3                https://github.com/ajayns/react-projects   \n",
       "4                   https://github.com/game-helper/weixin   \n",
       "...                                                   ...   \n",
       "110303     https://github.com/ChimeraOS/gamescope-session   \n",
       "110304        https://github.com/Lysice/laravel-xlswriter   \n",
       "110305               https://github.com/MVS-sysgen/sysgen   \n",
       "110306        https://github.com/spotlessmind1975/ugbasic   \n",
       "110307     https://github.com/developeryvan/midwayjs-crud   \n",
       "\n",
       "                                                    owner  \\\n",
       "0       {'login': 'hzy46', 'id': 7499023, 'node_id': '...   \n",
       "1       {'login': 'ajusa', 'id': 7073362, 'node_id': '...   \n",
       "2       {'login': 'koide3', 'id': 31344317, 'node_id':...   \n",
       "3       {'login': 'ajayns', 'id': 20743219, 'node_id':...   \n",
       "4       {'login': 'game-helper', 'id': 36100803, 'node...   \n",
       "...                                                   ...   \n",
       "110303  {'login': 'ChimeraOS', 'id': 75816437, 'node_i...   \n",
       "110304  {'login': 'Lysice', 'id': 17869820, 'node_id':...   \n",
       "110305  {'login': 'MVS-sysgen', 'id': 83150550, 'node_...   \n",
       "110306  {'login': 'spotlessmind1975', 'id': 11718606, ...   \n",
       "110307  {'login': 'developeryvan', 'id': 47513562, 'no...   \n",
       "\n",
       "                                              description  \\\n",
       "0                   《21个项目玩转深度学习———基于TensorFlow的实践详解》配套代码   \n",
       "1       World's smallest responsive 🔥 css framework (3...   \n",
       "2                               3D LIDAR-based Graph SLAM   \n",
       "3       A collection of projects built on the React li...   \n",
       "4       微信小游戏辅助合集（加减大师、包你懂我、大家来找茬腾讯版、头脑王者、好友画我、悦动音符、我最...   \n",
       "...                                                   ...   \n",
       "110303  ChimeraOS session on Gamescope - Own personal ...   \n",
       "110304  an excel export/import tool for laravel based ...   \n",
       "110305             Jay Moseley MVS 3.8j sysgen automation   \n",
       "110306  An isomorphic BASIC language compiler for retr...   \n",
       "110307              基于 Typescript+MidwayJs+Nacos 的微服务开发架构   \n",
       "\n",
       "                       created_at                 updated_at  \\\n",
       "0       2018-01-01 11:07:50+00:00  2023-06-15 01:40:09+00:00   \n",
       "1       2018-01-01 17:00:44+00:00  2023-06-07 04:50:02+00:00   \n",
       "2       2018-01-01 07:35:43+00:00  2023-06-16 01:45:47+00:00   \n",
       "3       2018-01-01 05:51:39+00:00  2023-06-16 07:18:32+00:00   \n",
       "4       2018-01-01 05:16:44+00:00  2023-06-15 15:39:12+00:00   \n",
       "...                           ...                        ...   \n",
       "110303  2021-04-25 22:41:15+00:00  2023-06-12 04:18:05+00:00   \n",
       "110304  2021-04-25 03:47:13+00:00  2023-06-14 16:28:46+00:00   \n",
       "110305  2021-04-25 17:33:27+00:00  2023-06-06 18:04:29+00:00   \n",
       "110306  2021-04-25 21:09:29+00:00  2023-06-13 08:12:51+00:00   \n",
       "110307  2021-04-25 02:19:59+00:00  2023-06-16 08:16:33+00:00   \n",
       "\n",
       "                        pushed_at  stargazers_count    language  forks_count  \\\n",
       "0       2019-03-18 12:27:24+00:00              4340      Python         1774   \n",
       "1       2022-12-11 14:16:51+00:00              1969         CSS           93   \n",
       "2       2023-02-28 09:14:43+00:00              1644         C++          693   \n",
       "3       2023-05-19 15:38:57+00:00              1362  JavaScript          607   \n",
       "4       2018-07-24 03:35:03+00:00              1307  JavaScript          394   \n",
       "...                           ...               ...         ...          ...   \n",
       "110303  2023-06-16 10:04:20+00:00                56       Shell           14   \n",
       "110304  2021-10-25 06:39:11+00:00                55         PHP            2   \n",
       "110305  2023-04-13 23:23:32+00:00                55         JCL           18   \n",
       "110306  2023-06-16 11:50:13+00:00                54           C            9   \n",
       "110307  2022-07-29 09:57:58+00:00                53  TypeScript           14   \n",
       "\n",
       "                                                   topics  \\\n",
       "0                 ['Deep-Learning-21-Examples', 'Python']   \n",
       "1       ['css', 'css-framework', 'flat', 'lit', 'micro...   \n",
       "2       ['hdl-graph-slam', 'lidar', 'point-cloud', 'ro...   \n",
       "3       ['jsx', 'projects', 'react', 'react-router', '...   \n",
       "4       ['anyproxy', 'charles', 'crawl', 'fiddler', 'g...   \n",
       "...                                                   ...   \n",
       "110303                     ['gamescope-session', 'Shell']   \n",
       "110304  ['csv', 'excel', 'extension', 'laravel', 'lara...   \n",
       "110305                                  ['sysgen', 'JCL']   \n",
       "110306                                   ['ugbasic', 'C']   \n",
       "110307  ['casbin', 'koa', 'midwayjs', 'mysql', 'nacos'...   \n",
       "\n",
       "                                         contributors_url  \\\n",
       "0       https://api.github.com/repos/hzy46/Deep-Learni...   \n",
       "1       https://api.github.com/repos/ajusa/lit/contrib...   \n",
       "2       https://api.github.com/repos/koide3/hdl_graph_...   \n",
       "3       https://api.github.com/repos/ajayns/react-proj...   \n",
       "4       https://api.github.com/repos/game-helper/weixi...   \n",
       "...                                                   ...   \n",
       "110303  https://api.github.com/repos/ChimeraOS/gamesco...   \n",
       "110304  https://api.github.com/repos/Lysice/laravel-xl...   \n",
       "110305  https://api.github.com/repos/MVS-sysgen/sysgen...   \n",
       "110306  https://api.github.com/repos/spotlessmind1975/...   \n",
       "110307  https://api.github.com/repos/developeryvan/mid...   \n",
       "\n",
       "                                                  license  \\\n",
       "0                                              No license   \n",
       "1       {'key': 'mit', 'name': 'MIT License', 'spdx_id...   \n",
       "2       {'key': 'bsd-2-clause', 'name': 'BSD 2-Clause ...   \n",
       "3                                              No license   \n",
       "4       {'key': 'gpl-3.0', 'name': 'GNU General Public...   \n",
       "...                                                   ...   \n",
       "110303  {'key': 'mit', 'name': 'MIT License', 'spdx_id...   \n",
       "110304                                         No license   \n",
       "110305                                         No license   \n",
       "110306  {'key': 'apache-2.0', 'name': 'Apache License ...   \n",
       "110307                                         No license   \n",
       "\n",
       "                                              commits_url  \\\n",
       "0       https://api.github.com/repos/hzy46/Deep-Learni...   \n",
       "1       https://api.github.com/repos/ajusa/lit/commits...   \n",
       "2       https://api.github.com/repos/koide3/hdl_graph_...   \n",
       "3       https://api.github.com/repos/ajayns/react-proj...   \n",
       "4       https://api.github.com/repos/game-helper/weixi...   \n",
       "...                                                   ...   \n",
       "110303  https://api.github.com/repos/ChimeraOS/gamesco...   \n",
       "110304  https://api.github.com/repos/Lysice/laravel-xl...   \n",
       "110305  https://api.github.com/repos/MVS-sysgen/sysgen...   \n",
       "110306  https://api.github.com/repos/spotlessmind1975/...   \n",
       "110307  https://api.github.com/repos/developeryvan/mid...   \n",
       "\n",
       "                                            contributions  \n",
       "0                                         [{'hzy46': 13}]  \n",
       "1       [{'ajusa': 186}, {'dependabot[bot]': 11}, {'st...  \n",
       "2       [{'koide3': 96}, {'kkoide3': 50}, {'TirelessDe...  \n",
       "3                [{'dependabot[bot]': 3}, {'ajayns': 40}]  \n",
       "4       [{'zhuweiyou': 137}, {'KilluaChen': 9}, {'xiao...  \n",
       "...                                                   ...  \n",
       "110303                                               None  \n",
       "110304                                               None  \n",
       "110305                                               None  \n",
       "110306                                               None  \n",
       "110307                                               None  \n",
       "\n",
       "[110308 rows x 18 columns]"
      ]
     },
     "execution_count": 25,
     "metadata": {},
     "output_type": "execute_result"
    }
   ],
   "source": [
    "df"
   ]
  },
  {
   "cell_type": "code",
   "execution_count": 64,
   "id": "660bdbe4",
   "metadata": {
    "scrolled": false
   },
   "outputs": [
    {
     "data": {
      "text/html": [
       "<div>\n",
       "<style scoped>\n",
       "    .dataframe tbody tr th:only-of-type {\n",
       "        vertical-align: middle;\n",
       "    }\n",
       "\n",
       "    .dataframe tbody tr th {\n",
       "        vertical-align: top;\n",
       "    }\n",
       "\n",
       "    .dataframe thead th {\n",
       "        text-align: right;\n",
       "    }\n",
       "</style>\n",
       "<table border=\"1\" class=\"dataframe\">\n",
       "  <thead>\n",
       "    <tr style=\"text-align: right;\">\n",
       "      <th></th>\n",
       "      <th>Unnamed: 0</th>\n",
       "      <th>index</th>\n",
       "      <th>name</th>\n",
       "      <th>full_name</th>\n",
       "      <th>html_url</th>\n",
       "      <th>owner</th>\n",
       "      <th>description</th>\n",
       "      <th>created_at</th>\n",
       "      <th>updated_at</th>\n",
       "      <th>pushed_at</th>\n",
       "      <th>stargazers_count</th>\n",
       "      <th>language</th>\n",
       "      <th>forks_count</th>\n",
       "      <th>topics</th>\n",
       "      <th>contributors_url</th>\n",
       "      <th>license</th>\n",
       "      <th>commits_url</th>\n",
       "    </tr>\n",
       "  </thead>\n",
       "  <tbody>\n",
       "    <tr>\n",
       "      <th>0</th>\n",
       "      <td>0</td>\n",
       "      <td>1</td>\n",
       "      <td>Deep-Learning-21-Examples</td>\n",
       "      <td>hzy46/Deep-Learning-21-Examples</td>\n",
       "      <td>https://github.com/hzy46/Deep-Learning-21-Exam...</td>\n",
       "      <td>{'login': 'hzy46', 'id': 7499023, 'node_id': '...</td>\n",
       "      <td>《21个项目玩转深度学习———基于TensorFlow的实践详解》配套代码</td>\n",
       "      <td>2018-01-01 11:07:50+00:00</td>\n",
       "      <td>2023-06-15 01:40:09+00:00</td>\n",
       "      <td>2019-03-18 12:27:24+00:00</td>\n",
       "      <td>4340</td>\n",
       "      <td>Python</td>\n",
       "      <td>1774</td>\n",
       "      <td>['Deep-Learning-21-Examples', 'Python']</td>\n",
       "      <td>https://api.github.com/repos/hzy46/Deep-Learni...</td>\n",
       "      <td>No license</td>\n",
       "      <td>https://api.github.com/repos/hzy46/Deep-Learni...</td>\n",
       "    </tr>\n",
       "    <tr>\n",
       "      <th>1</th>\n",
       "      <td>1</td>\n",
       "      <td>2</td>\n",
       "      <td>lit</td>\n",
       "      <td>ajusa/lit</td>\n",
       "      <td>https://github.com/ajusa/lit</td>\n",
       "      <td>{'login': 'ajusa', 'id': 7073362, 'node_id': '...</td>\n",
       "      <td>World's smallest responsive 🔥 css framework (3...</td>\n",
       "      <td>2018-01-01 17:00:44+00:00</td>\n",
       "      <td>2023-06-07 04:50:02+00:00</td>\n",
       "      <td>2022-12-11 14:16:51+00:00</td>\n",
       "      <td>1969</td>\n",
       "      <td>CSS</td>\n",
       "      <td>93</td>\n",
       "      <td>['css', 'css-framework', 'flat', 'lit', 'micro...</td>\n",
       "      <td>https://api.github.com/repos/ajusa/lit/contrib...</td>\n",
       "      <td>{'key': 'mit', 'name': 'MIT License', 'spdx_id...</td>\n",
       "      <td>https://api.github.com/repos/ajusa/lit/commits...</td>\n",
       "    </tr>\n",
       "    <tr>\n",
       "      <th>2</th>\n",
       "      <td>2</td>\n",
       "      <td>3</td>\n",
       "      <td>hdl_graph_slam</td>\n",
       "      <td>koide3/hdl_graph_slam</td>\n",
       "      <td>https://github.com/koide3/hdl_graph_slam</td>\n",
       "      <td>{'login': 'koide3', 'id': 31344317, 'node_id':...</td>\n",
       "      <td>3D LIDAR-based Graph SLAM</td>\n",
       "      <td>2018-01-01 07:35:43+00:00</td>\n",
       "      <td>2023-06-16 01:45:47+00:00</td>\n",
       "      <td>2023-02-28 09:14:43+00:00</td>\n",
       "      <td>1644</td>\n",
       "      <td>C++</td>\n",
       "      <td>693</td>\n",
       "      <td>['hdl-graph-slam', 'lidar', 'point-cloud', 'ro...</td>\n",
       "      <td>https://api.github.com/repos/koide3/hdl_graph_...</td>\n",
       "      <td>{'key': 'bsd-2-clause', 'name': 'BSD 2-Clause ...</td>\n",
       "      <td>https://api.github.com/repos/koide3/hdl_graph_...</td>\n",
       "    </tr>\n",
       "    <tr>\n",
       "      <th>3</th>\n",
       "      <td>3</td>\n",
       "      <td>4</td>\n",
       "      <td>react-projects</td>\n",
       "      <td>ajayns/react-projects</td>\n",
       "      <td>https://github.com/ajayns/react-projects</td>\n",
       "      <td>{'login': 'ajayns', 'id': 20743219, 'node_id':...</td>\n",
       "      <td>A collection of projects built on the React li...</td>\n",
       "      <td>2018-01-01 05:51:39+00:00</td>\n",
       "      <td>2023-06-16 07:18:32+00:00</td>\n",
       "      <td>2023-05-19 15:38:57+00:00</td>\n",
       "      <td>1362</td>\n",
       "      <td>JavaScript</td>\n",
       "      <td>607</td>\n",
       "      <td>['jsx', 'projects', 'react', 'react-router', '...</td>\n",
       "      <td>https://api.github.com/repos/ajayns/react-proj...</td>\n",
       "      <td>No license</td>\n",
       "      <td>https://api.github.com/repos/ajayns/react-proj...</td>\n",
       "    </tr>\n",
       "    <tr>\n",
       "      <th>4</th>\n",
       "      <td>4</td>\n",
       "      <td>5</td>\n",
       "      <td>weixin</td>\n",
       "      <td>game-helper/weixin</td>\n",
       "      <td>https://github.com/game-helper/weixin</td>\n",
       "      <td>{'login': 'game-helper', 'id': 36100803, 'node...</td>\n",
       "      <td>微信小游戏辅助合集（加减大师、包你懂我、大家来找茬腾讯版、头脑王者、好友画我、悦动音符、我最...</td>\n",
       "      <td>2018-01-01 05:16:44+00:00</td>\n",
       "      <td>2023-06-15 15:39:12+00:00</td>\n",
       "      <td>2018-07-24 03:35:03+00:00</td>\n",
       "      <td>1307</td>\n",
       "      <td>JavaScript</td>\n",
       "      <td>394</td>\n",
       "      <td>['anyproxy', 'charles', 'crawl', 'fiddler', 'g...</td>\n",
       "      <td>https://api.github.com/repos/game-helper/weixi...</td>\n",
       "      <td>{'key': 'gpl-3.0', 'name': 'GNU General Public...</td>\n",
       "      <td>https://api.github.com/repos/game-helper/weixi...</td>\n",
       "    </tr>\n",
       "    <tr>\n",
       "      <th>...</th>\n",
       "      <td>...</td>\n",
       "      <td>...</td>\n",
       "      <td>...</td>\n",
       "      <td>...</td>\n",
       "      <td>...</td>\n",
       "      <td>...</td>\n",
       "      <td>...</td>\n",
       "      <td>...</td>\n",
       "      <td>...</td>\n",
       "      <td>...</td>\n",
       "      <td>...</td>\n",
       "      <td>...</td>\n",
       "      <td>...</td>\n",
       "      <td>...</td>\n",
       "      <td>...</td>\n",
       "      <td>...</td>\n",
       "      <td>...</td>\n",
       "    </tr>\n",
       "    <tr>\n",
       "      <th>19995</th>\n",
       "      <td>19995</td>\n",
       "      <td>21668</td>\n",
       "      <td>aws-amplify-workshop-web</td>\n",
       "      <td>dabit3/aws-amplify-workshop-web</td>\n",
       "      <td>https://github.com/dabit3/aws-amplify-workshop...</td>\n",
       "      <td>{'login': 'dabit3', 'id': 1857282, 'node_id': ...</td>\n",
       "      <td>Building web applications with React &amp; AWS Amp...</td>\n",
       "      <td>2018-08-05 21:04:07+00:00</td>\n",
       "      <td>2023-04-20 22:26:31+00:00</td>\n",
       "      <td>2021-05-27 18:29:06+00:00</td>\n",
       "      <td>89</td>\n",
       "      <td>JavaScript</td>\n",
       "      <td>20</td>\n",
       "      <td>['aws-amplify-workshop-web', 'JavaScript']</td>\n",
       "      <td>https://api.github.com/repos/dabit3/aws-amplif...</td>\n",
       "      <td>No license</td>\n",
       "      <td>https://api.github.com/repos/dabit3/aws-amplif...</td>\n",
       "    </tr>\n",
       "    <tr>\n",
       "      <th>19996</th>\n",
       "      <td>19996</td>\n",
       "      <td>21669</td>\n",
       "      <td>rux</td>\n",
       "      <td>gookit/rux</td>\n",
       "      <td>https://github.com/gookit/rux</td>\n",
       "      <td>{'login': 'gookit', 'id': 40689636, 'node_id':...</td>\n",
       "      <td>⚡ Rux is an simple and fast web framework. sup...</td>\n",
       "      <td>2018-08-05 06:13:57+00:00</td>\n",
       "      <td>2023-03-04 12:52:47+00:00</td>\n",
       "      <td>2023-06-12 04:56:59+00:00</td>\n",
       "      <td>89</td>\n",
       "      <td>Go</td>\n",
       "      <td>14</td>\n",
       "      <td>['go', 'http-handler', 'http-middleware', 'htt...</td>\n",
       "      <td>https://api.github.com/repos/gookit/rux/contri...</td>\n",
       "      <td>{'key': 'mit', 'name': 'MIT License', 'spdx_id...</td>\n",
       "      <td>https://api.github.com/repos/gookit/rux/commit...</td>\n",
       "    </tr>\n",
       "    <tr>\n",
       "      <th>19997</th>\n",
       "      <td>19997</td>\n",
       "      <td>21670</td>\n",
       "      <td>brickcontroller2</td>\n",
       "      <td>imurvai/brickcontroller2</td>\n",
       "      <td>https://github.com/imurvai/brickcontroller2</td>\n",
       "      <td>{'login': 'imurvai', 'id': 16706969, 'node_id'...</td>\n",
       "      <td>Cross platform application for controlling Leg...</td>\n",
       "      <td>2018-08-05 12:21:36+00:00</td>\n",
       "      <td>2023-06-13 05:34:29+00:00</td>\n",
       "      <td>2022-12-31 10:12:24+00:00</td>\n",
       "      <td>87</td>\n",
       "      <td>C#</td>\n",
       "      <td>23</td>\n",
       "      <td>['brickcontroller2', 'C#']</td>\n",
       "      <td>https://api.github.com/repos/imurvai/brickcont...</td>\n",
       "      <td>No license</td>\n",
       "      <td>https://api.github.com/repos/imurvai/brickcont...</td>\n",
       "    </tr>\n",
       "    <tr>\n",
       "      <th>19998</th>\n",
       "      <td>19998</td>\n",
       "      <td>21671</td>\n",
       "      <td>awesome-python-cheatsheets</td>\n",
       "      <td>akashp1712/awesome-python-cheatsheets</td>\n",
       "      <td>https://github.com/akashp1712/awesome-python-c...</td>\n",
       "      <td>{'login': 'akashp1712', 'id': 11018283, 'node_...</td>\n",
       "      <td>A reference cheat sheet for Java developers wh...</td>\n",
       "      <td>2018-08-05 12:30:21+00:00</td>\n",
       "      <td>2023-06-04 01:10:03+00:00</td>\n",
       "      <td>2023-01-16 07:31:43+00:00</td>\n",
       "      <td>86</td>\n",
       "      <td>TeX</td>\n",
       "      <td>14</td>\n",
       "      <td>['cheatsheet', 'programming', 'python', 'pytho...</td>\n",
       "      <td>https://api.github.com/repos/akashp1712/awesom...</td>\n",
       "      <td>No license</td>\n",
       "      <td>https://api.github.com/repos/akashp1712/awesom...</td>\n",
       "    </tr>\n",
       "    <tr>\n",
       "      <th>19999</th>\n",
       "      <td>19999</td>\n",
       "      <td>21672</td>\n",
       "      <td>blockchain-kotlin</td>\n",
       "      <td>MaiJiantian/blockchain-kotlin</td>\n",
       "      <td>https://github.com/MaiJiantian/blockchain-kotlin</td>\n",
       "      <td>{'login': 'MaiJiantian', 'id': 35630335, 'node...</td>\n",
       "      <td>这是kotlin版的简化示例区块链demo；另外还有java版的；这个小demo能让你了解区...</td>\n",
       "      <td>2018-08-05 08:09:10+00:00</td>\n",
       "      <td>2020-10-09 06:57:46+00:00</td>\n",
       "      <td>2018-08-05 08:09:48+00:00</td>\n",
       "      <td>85</td>\n",
       "      <td>Kotlin</td>\n",
       "      <td>11</td>\n",
       "      <td>['blockchain', 'kotlin', 'websocket']</td>\n",
       "      <td>https://api.github.com/repos/MaiJiantian/block...</td>\n",
       "      <td>No license</td>\n",
       "      <td>https://api.github.com/repos/MaiJiantian/block...</td>\n",
       "    </tr>\n",
       "  </tbody>\n",
       "</table>\n",
       "<p>20000 rows × 17 columns</p>\n",
       "</div>"
      ],
      "text/plain": [
       "       Unnamed: 0  index                        name  \\\n",
       "0               0      1   Deep-Learning-21-Examples   \n",
       "1               1      2                         lit   \n",
       "2               2      3              hdl_graph_slam   \n",
       "3               3      4              react-projects   \n",
       "4               4      5                      weixin   \n",
       "...           ...    ...                         ...   \n",
       "19995       19995  21668    aws-amplify-workshop-web   \n",
       "19996       19996  21669                         rux   \n",
       "19997       19997  21670            brickcontroller2   \n",
       "19998       19998  21671  awesome-python-cheatsheets   \n",
       "19999       19999  21672           blockchain-kotlin   \n",
       "\n",
       "                                   full_name  \\\n",
       "0            hzy46/Deep-Learning-21-Examples   \n",
       "1                                  ajusa/lit   \n",
       "2                      koide3/hdl_graph_slam   \n",
       "3                      ajayns/react-projects   \n",
       "4                         game-helper/weixin   \n",
       "...                                      ...   \n",
       "19995        dabit3/aws-amplify-workshop-web   \n",
       "19996                             gookit/rux   \n",
       "19997               imurvai/brickcontroller2   \n",
       "19998  akashp1712/awesome-python-cheatsheets   \n",
       "19999          MaiJiantian/blockchain-kotlin   \n",
       "\n",
       "                                                html_url  \\\n",
       "0      https://github.com/hzy46/Deep-Learning-21-Exam...   \n",
       "1                           https://github.com/ajusa/lit   \n",
       "2               https://github.com/koide3/hdl_graph_slam   \n",
       "3               https://github.com/ajayns/react-projects   \n",
       "4                  https://github.com/game-helper/weixin   \n",
       "...                                                  ...   \n",
       "19995  https://github.com/dabit3/aws-amplify-workshop...   \n",
       "19996                      https://github.com/gookit/rux   \n",
       "19997        https://github.com/imurvai/brickcontroller2   \n",
       "19998  https://github.com/akashp1712/awesome-python-c...   \n",
       "19999   https://github.com/MaiJiantian/blockchain-kotlin   \n",
       "\n",
       "                                                   owner  \\\n",
       "0      {'login': 'hzy46', 'id': 7499023, 'node_id': '...   \n",
       "1      {'login': 'ajusa', 'id': 7073362, 'node_id': '...   \n",
       "2      {'login': 'koide3', 'id': 31344317, 'node_id':...   \n",
       "3      {'login': 'ajayns', 'id': 20743219, 'node_id':...   \n",
       "4      {'login': 'game-helper', 'id': 36100803, 'node...   \n",
       "...                                                  ...   \n",
       "19995  {'login': 'dabit3', 'id': 1857282, 'node_id': ...   \n",
       "19996  {'login': 'gookit', 'id': 40689636, 'node_id':...   \n",
       "19997  {'login': 'imurvai', 'id': 16706969, 'node_id'...   \n",
       "19998  {'login': 'akashp1712', 'id': 11018283, 'node_...   \n",
       "19999  {'login': 'MaiJiantian', 'id': 35630335, 'node...   \n",
       "\n",
       "                                             description  \\\n",
       "0                  《21个项目玩转深度学习———基于TensorFlow的实践详解》配套代码   \n",
       "1      World's smallest responsive 🔥 css framework (3...   \n",
       "2                              3D LIDAR-based Graph SLAM   \n",
       "3      A collection of projects built on the React li...   \n",
       "4      微信小游戏辅助合集（加减大师、包你懂我、大家来找茬腾讯版、头脑王者、好友画我、悦动音符、我最...   \n",
       "...                                                  ...   \n",
       "19995  Building web applications with React & AWS Amp...   \n",
       "19996  ⚡ Rux is an simple and fast web framework. sup...   \n",
       "19997  Cross platform application for controlling Leg...   \n",
       "19998  A reference cheat sheet for Java developers wh...   \n",
       "19999  这是kotlin版的简化示例区块链demo；另外还有java版的；这个小demo能让你了解区...   \n",
       "\n",
       "                      created_at                 updated_at  \\\n",
       "0      2018-01-01 11:07:50+00:00  2023-06-15 01:40:09+00:00   \n",
       "1      2018-01-01 17:00:44+00:00  2023-06-07 04:50:02+00:00   \n",
       "2      2018-01-01 07:35:43+00:00  2023-06-16 01:45:47+00:00   \n",
       "3      2018-01-01 05:51:39+00:00  2023-06-16 07:18:32+00:00   \n",
       "4      2018-01-01 05:16:44+00:00  2023-06-15 15:39:12+00:00   \n",
       "...                          ...                        ...   \n",
       "19995  2018-08-05 21:04:07+00:00  2023-04-20 22:26:31+00:00   \n",
       "19996  2018-08-05 06:13:57+00:00  2023-03-04 12:52:47+00:00   \n",
       "19997  2018-08-05 12:21:36+00:00  2023-06-13 05:34:29+00:00   \n",
       "19998  2018-08-05 12:30:21+00:00  2023-06-04 01:10:03+00:00   \n",
       "19999  2018-08-05 08:09:10+00:00  2020-10-09 06:57:46+00:00   \n",
       "\n",
       "                       pushed_at  stargazers_count    language  forks_count  \\\n",
       "0      2019-03-18 12:27:24+00:00              4340      Python         1774   \n",
       "1      2022-12-11 14:16:51+00:00              1969         CSS           93   \n",
       "2      2023-02-28 09:14:43+00:00              1644         C++          693   \n",
       "3      2023-05-19 15:38:57+00:00              1362  JavaScript          607   \n",
       "4      2018-07-24 03:35:03+00:00              1307  JavaScript          394   \n",
       "...                          ...               ...         ...          ...   \n",
       "19995  2021-05-27 18:29:06+00:00                89  JavaScript           20   \n",
       "19996  2023-06-12 04:56:59+00:00                89          Go           14   \n",
       "19997  2022-12-31 10:12:24+00:00                87          C#           23   \n",
       "19998  2023-01-16 07:31:43+00:00                86         TeX           14   \n",
       "19999  2018-08-05 08:09:48+00:00                85      Kotlin           11   \n",
       "\n",
       "                                                  topics  \\\n",
       "0                ['Deep-Learning-21-Examples', 'Python']   \n",
       "1      ['css', 'css-framework', 'flat', 'lit', 'micro...   \n",
       "2      ['hdl-graph-slam', 'lidar', 'point-cloud', 'ro...   \n",
       "3      ['jsx', 'projects', 'react', 'react-router', '...   \n",
       "4      ['anyproxy', 'charles', 'crawl', 'fiddler', 'g...   \n",
       "...                                                  ...   \n",
       "19995         ['aws-amplify-workshop-web', 'JavaScript']   \n",
       "19996  ['go', 'http-handler', 'http-middleware', 'htt...   \n",
       "19997                         ['brickcontroller2', 'C#']   \n",
       "19998  ['cheatsheet', 'programming', 'python', 'pytho...   \n",
       "19999              ['blockchain', 'kotlin', 'websocket']   \n",
       "\n",
       "                                        contributors_url  \\\n",
       "0      https://api.github.com/repos/hzy46/Deep-Learni...   \n",
       "1      https://api.github.com/repos/ajusa/lit/contrib...   \n",
       "2      https://api.github.com/repos/koide3/hdl_graph_...   \n",
       "3      https://api.github.com/repos/ajayns/react-proj...   \n",
       "4      https://api.github.com/repos/game-helper/weixi...   \n",
       "...                                                  ...   \n",
       "19995  https://api.github.com/repos/dabit3/aws-amplif...   \n",
       "19996  https://api.github.com/repos/gookit/rux/contri...   \n",
       "19997  https://api.github.com/repos/imurvai/brickcont...   \n",
       "19998  https://api.github.com/repos/akashp1712/awesom...   \n",
       "19999  https://api.github.com/repos/MaiJiantian/block...   \n",
       "\n",
       "                                                 license  \\\n",
       "0                                             No license   \n",
       "1      {'key': 'mit', 'name': 'MIT License', 'spdx_id...   \n",
       "2      {'key': 'bsd-2-clause', 'name': 'BSD 2-Clause ...   \n",
       "3                                             No license   \n",
       "4      {'key': 'gpl-3.0', 'name': 'GNU General Public...   \n",
       "...                                                  ...   \n",
       "19995                                         No license   \n",
       "19996  {'key': 'mit', 'name': 'MIT License', 'spdx_id...   \n",
       "19997                                         No license   \n",
       "19998                                         No license   \n",
       "19999                                         No license   \n",
       "\n",
       "                                             commits_url  \n",
       "0      https://api.github.com/repos/hzy46/Deep-Learni...  \n",
       "1      https://api.github.com/repos/ajusa/lit/commits...  \n",
       "2      https://api.github.com/repos/koide3/hdl_graph_...  \n",
       "3      https://api.github.com/repos/ajayns/react-proj...  \n",
       "4      https://api.github.com/repos/game-helper/weixi...  \n",
       "...                                                  ...  \n",
       "19995  https://api.github.com/repos/dabit3/aws-amplif...  \n",
       "19996  https://api.github.com/repos/gookit/rux/commit...  \n",
       "19997  https://api.github.com/repos/imurvai/brickcont...  \n",
       "19998  https://api.github.com/repos/akashp1712/awesom...  \n",
       "19999  https://api.github.com/repos/MaiJiantian/block...  \n",
       "\n",
       "[20000 rows x 17 columns]"
      ]
     },
     "execution_count": 64,
     "metadata": {},
     "output_type": "execute_result"
    }
   ],
   "source": [
    "df"
   ]
  },
  {
   "cell_type": "code",
   "execution_count": null,
   "id": "f196ba5a",
   "metadata": {},
   "outputs": [],
   "source": [
    "import plotly.graph_objs as go\n",
    "\n",
    "# Créer une liste avec les noms de chaque contributeur\n",
    "contributor_names = [contributor['login'] for contributor in list_contributions]\n",
    "\n",
    "# Créer une liste avec le nombre de contributions de chaque contributeur\n",
    "contributor_contributions = [contributor['contributions'] for contributor in list_contributions]\n",
    "\n",
    "# Trier les listes par ordre décroissant du nombre de contributions\n",
    "sorted_contributions = sorted(zip(contributor_names, contributor_contributions), key=lambda x: x[1], reverse=True)\n",
    "contributor_names, contributor_contributions = zip(*sorted_contributions)\n",
    "\n",
    "# Créer la trace avec les données de contribution pour chaque contributeur triées\n",
    "trace = go.Bar(x=contributor_names, y=contributor_contributions, name='Contributions', marker_color=px.colors.sequential.Viridis)\n",
    "\n",
    "# Créer la figure avec la trace\n",
    "fig = go.Figure(data=trace)\n",
    "\n",
    "# Définir les étiquettes pour les axes x et y\n",
    "fig.update_layout(xaxis_title='Contributor Name', yaxis_title='Number of Contributions')\n",
    "\n",
    "# Afficher le diagramme\n",
    "fig.show()"
   ]
  },
  {
   "cell_type": "code",
   "execution_count": null,
   "id": "a1d0b98d",
   "metadata": {},
   "outputs": [],
   "source": []
  },
  {
   "cell_type": "code",
   "execution_count": 87,
   "id": "d9c5b244",
   "metadata": {},
   "outputs": [
    {
     "name": "stdout",
     "output_type": "stream",
     "text": [
      "hzy46 13\n",
      "ajusa 186\n",
      "dependabot[bot] 11\n",
      "styfle 4\n",
      "JPeer264 3\n",
      "0xflotus 1\n",
      "djnetherton 1\n",
      "jamen 1\n",
      "JuhQ 1\n",
      "fridzema 1\n",
      "archae0pteryx 1\n",
      "koide3 96\n",
      "kkoide3 50\n",
      "TirelessDev 10\n",
      "AchmadFathoni 6\n",
      "Timple 4\n",
      "jitrc 3\n",
      "robustify 2\n",
      "err4o4 1\n",
      "jihoonl 1\n",
      "krisklau 1\n",
      "naoki-mizuno 1\n",
      "sonphambk 1\n",
      "tim-fan 1\n",
      "yukkysaito 1\n",
      "Tutorgaming 1\n",
      "tkkim-robot 1\n",
      "ll7 1\n",
      "ajayns 40\n",
      "dependabot[bot] 3\n",
      "zhuweiyou 137\n",
      "KilluaChen 9\n",
      "xiaohuanshu 2\n",
      "voldikss 1\n",
      "huangdenghe 1\n",
      "ankurk91 204\n",
      "menghany 2\n",
      "abdullahtariq1171 1\n",
      "PMK 1\n",
      "reslear 1\n",
      "dxg-aceinna 229\n",
      "dxglaw 3\n",
      "OscarLundstrom 1\n",
      "theophilec 1\n",
      "dinglezhang 1\n",
      "hovavalon 1\n",
      "stolpa4 1\n",
      "Wasim37 36\n",
      "soapisnotfat 28\n",
      "AstarLight 26\n",
      "yu4u 57\n",
      "wakame1367 2\n",
      "xsthunder 1\n",
      "koide3 26\n",
      "kkoide3 15\n",
      "h-ohta 3\n",
      "KeisukeShima 3\n",
      "AchmadFathoni 1\n",
      "kmiya 1\n",
      "kenji-miyake 1\n",
      "epsilonkei 1\n",
      "lixin-Lee 1\n",
      "markuspi 1\n",
      "pjreed 1\n",
      "kminoda 1\n",
      "marbosjo 1\n",
      "lesnuages 21\n",
      "Marshall-Hallenbeck 1\n",
      "mercyblitz 141\n",
      "daacheng 678\n",
      "EdOverflow 36\n",
      "yasinS 26\n",
      "cablej 1\n",
      "brarcher 353\n",
      "bhuvnesh123 19\n",
      "TacoTheDank 4\n",
      "licaon-kter 1\n",
      "Poussinou 1\n",
      "Skuldur 12\n",
      "danidee10 28\n",
      "ihtiht 4\n",
      "sskodje 577\n",
      "hakito 22\n",
      "Mapiarz 9\n",
      "kmaki565 8\n",
      "FoxPride 1\n",
      "jairbubbles 1\n",
      "Hondarer 1\n",
      "ZeeNastalski 1\n",
      "jgreenemi 62\n",
      "volker48 1\n",
      "thekirankumar 116\n",
      "shmykelsa 14\n",
      "JSibelo 3\n",
      "lukasmesicek 3\n",
      "chadjoan 3\n",
      "inialsien 3\n",
      "danielstuart14 2\n",
      "BojanJ 1\n",
      "cmeka 1\n",
      "Marcsoup 1\n",
      "peterpoetzi 1\n",
      "adoula1989 1\n",
      "bobybc 1\n",
      "magna413 1\n",
      "alexdebrie 62\n",
      "corollari 1\n",
      "Jamim 1\n",
      "itizarsa 1\n",
      "dimiro1 1\n",
      "kandros 1\n",
      "JonasHeylen 1\n",
      "krvajal 1\n",
      "preshetin 1\n",
      "nowamasa 1\n",
      "pjlangley 1\n",
      "davedelong 119\n",
      "netchampfaris 247\n",
      "rmehta 97\n",
      "18alantom 64\n",
      "nextchamp-saqib 22\n",
      "achillesrasquinha 18\n",
      "surajshetty3416 18\n",
      "pratu16x7 16\n",
      "shridarpatil 13\n",
      "sahil28297 9\n",
      "piyushsinghania 5\n",
      "ankitsinghaniyaz 4\n",
      "anto-christo 3\n",
      "revant 3\n",
      "accakks 1\n",
      "Franklin0702 1\n",
      "inishchith 1\n",
      "prssanna 1\n",
      "ckosiegbu 1\n",
      "dependabot[bot] 1\n",
      "subhamsarangi 1\n",
      "luoweifu 133\n",
      "HarryR 39\n",
      "kilic 4\n",
      "drewstone 3\n",
      "seresistvanandras 1\n",
      "luke-park 70\n",
      "Alexendoo 1\n",
      "dblazeski 1\n",
      "codeweb 1\n",
      "henry-gower-glenn 1\n",
      "onury 1\n",
      "sherwind 1\n",
      "aSmig 5\n",
      "rolandriegel 158\n",
      "nicolasparada 634\n",
      "dependabot[bot] 7\n",
      "RaphGL 1\n",
      "davydovanton 117\n",
      "berniechiu 11\n",
      "ilyasovd 3\n",
      "valikos 2\n",
      "renius 2\n",
      "monkeywithacupcake 1\n",
      "zhukovpe 1\n",
      "RomanSerikov 1\n",
      "vladislav-yashin 1\n",
      "HolyWalley 1\n",
      "dependabot[bot] 1\n",
      "renovate[bot] 226\n",
      "pvdlg 48\n",
      "greenkeeper[bot] 48\n",
      "fgreinacher 18\n",
      "JonasSchubert 11\n",
      "dependabot[bot] 6\n",
      "gr2m 5\n",
      "Babbafett 2\n",
      "travi 2\n",
      "awcjack 2\n",
      "b3nk3 1\n",
      "vxcamiloxv 1\n",
      "greg0ire 1\n",
      "Nargonath 1\n",
      "revolunet 1\n",
      "kaerbr 1\n",
      "lukashass 1\n",
      "mjasion 1\n",
      "mat813 1\n",
      "milo526 1\n",
      "DewarM 1\n",
      "nfriend 1\n",
      "oscard0m 1\n",
      "pmarchini 1\n",
      "rjferguson21 1\n",
      "rdaniels6813 1\n",
      "yxonic 1\n",
      "autotmp 1\n",
      "constantology 1\n",
      "fabfianda 1\n",
      "bxparks 211\n",
      "korotkevics 6\n",
      "jtschichold 6\n",
      "abroglesc 3\n",
      "jonwarghed 2\n",
      "kdeggelman 2\n",
      "de-code 1\n",
      "riccardomc 1\n",
      "ZiggerZZ 1\n",
      "chrispahm 156\n",
      "thelim3y 4\n",
      "charlie-haley 3\n",
      "jeancharles-roger 3\n",
      "juanifit 1\n",
      "wladimiiir 1\n",
      "artus9033 1\n",
      "dependabot[bot] 1\n",
      "ChristopherChudzicki 967\n",
      "stardust66 29\n",
      "dependabot[bot] 10\n",
      "sritchie 9\n",
      "nicegamer7 5\n",
      "nedisy 2\n",
      "timhutton 21\n",
      "khenidak 123\n",
      "andyzhangx 26\n",
      "ehotinger 13\n",
      "ritazh 12\n",
      "johanburati 2\n",
      "bwarden 1\n",
      "jstoker 1\n",
      "miguelinux 1\n",
      "mwieczorek 1\n",
      "wsk1103 111\n",
      "evanchiu 42\n",
      "pr3sidentspence 1\n",
      "framiere 82\n",
      "jeanlouisboudart 11\n",
      "vdesabou 5\n",
      "dependabot[bot] 4\n",
      "bodymovin 36\n",
      "dependabot[bot] 4\n",
      "Dan-Shields 2\n",
      "phillbaker 1\n",
      "nightink 1\n",
      "AzureMarker 625\n",
      "rrobgill 69\n",
      "DL6ER 3\n",
      "dschaper 2\n",
      "PeterDaveHello 1\n",
      "ehsunshine 29\n",
      "roddone 226\n",
      "BionicCode 39\n",
      "thoemmi 14\n",
      "nathanpovo 5\n",
      "dsherret 4\n",
      "Dainius14 2\n",
      "mjwsteenbergen 1\n",
      "p-monteiro 1\n",
      "hangy 1\n",
      "namkazt 124\n",
      "Uupo03 10\n",
      "Nekuake 5\n",
      "Thevoododoctor 3\n",
      "Mauville 1\n",
      "thefinn93 869\n",
      "inthewaves 29\n",
      "sumnerevans 27\n",
      "tulir 13\n",
      "lwesterhof 5\n",
      "tobymurray 4\n",
      "maltee1 3\n",
      "nickcatal 3\n",
      "aguestuser 3\n",
      "cketti 3\n",
      "parazyd 3\n",
      "lawrencegripper 2\n",
      "sehaas 2\n",
      "skorokithakis 2\n",
      "demure 2\n",
      "ioistired 2\n",
      "pupper68k 1\n",
      "Strykar 1\n",
      "rex4539 1\n",
      "ftyers 1\n",
      "frederictobiasc 1\n",
      "Mortein 1\n",
      "kmcopper 1\n",
      "LoveIsGrief 1\n",
      "truenicoco 1\n",
      "rwky 1\n",
      "ekpneo 1\n",
      "Centzilius 1\n",
      "thii 12\n",
      "jlongtine 10\n",
      "Pisich 1\n",
      "dls314 1\n",
      "alessandrobologna 1\n",
      "w568w 5\n",
      "dreamgonfly 9\n",
      "hwkim94 2\n",
      "friendshipkim 2\n",
      "Jooong 2\n",
      "hyerim1048 1\n",
      "Rfrixy 18\n",
      "CunningLogic 31\n",
      "MAVProxyUser 2\n",
      "45clouds 1\n",
      "KonradIT 1\n",
      "hminaya 4\n",
      "amhed 2\n",
      "DanielRuf 1\n",
      "yunshuipiao 99\n",
      "justinmeiners 316\n",
      "increscent 7\n",
      "aztennenbaum 89\n",
      "ThatcherC 9\n",
      "khanu263 1\n",
      "timhul 1700\n",
      "jokal2 69\n",
      "Skygg3 10\n",
      "yellowmia11 9\n",
      "steffen678 6\n",
      "kmmiles 4\n",
      "f90 3\n",
      "LawrenceMz 3\n",
      "hmcgonig 3\n",
      "podnov 2\n",
      "Eyegleam 2\n",
      "quinnallman 2\n",
      "Jinnai 2\n",
      "Mizzajl 2\n",
      "RyanFehr 2\n",
      "ayssia 2\n",
      "punchmonster 2\n",
      "weylint 1\n",
      "ben-earl-tfs 1\n",
      "cmtrc 1\n",
      "SJK132 1\n",
      "IsaacSmith13 1\n",
      "Milchfee 1\n",
      "kraffslol 1\n",
      "wentsa 1\n",
      "amotosouoc 1\n",
      "bannedlol 1\n",
      "dieck 1\n",
      "hyspace 1\n",
      "jki14 1\n",
      "alangarf 110\n",
      "trcwm 58\n",
      "olofk 4\n",
      "mmicko 3\n",
      "ironsteel 3\n",
      "al177 2\n",
      "lawrie 2\n",
      "piso77 1\n",
      "etherton 1\n",
      "mikito 16\n",
      "questocat 23\n",
      "Havenstd06 2\n",
      "alphapapa 74\n",
      "ashinzekene 53\n",
      "dreamdevil00 3\n",
      "ahmedNY 2\n",
      "Baoyx007 1\n",
      "lupu60 1\n",
      "wbhob 1\n",
      "jnimmo 63\n",
      "rsnodgrass 10\n",
      "arretx 5\n",
      "chaptergy 5\n",
      "zonque 3\n",
      "mvandenabeele 3\n",
      "bartfeenstra 2\n",
      "jjhuff 1\n",
      "OptimusGREEN 1\n",
      "pascalhuerst 1\n",
      "TimothyLeeAdams 1\n",
      "kic68 1\n",
      "blaise-code 1\n",
      "filmgarage 1\n",
      "xfhy 4\n",
      "jwlin 19\n",
      "behappycc 1\n",
      "yuzushioh 77\n",
      "bodekjan 9\n",
      "KINGSABRI 75\n",
      "dependabot[bot] 1\n",
      "ObyeBoss 60\n",
      "Zackptg5 22\n",
      "ebanner 326\n",
      "lesteve 1\n",
      "purcell 1\n",
      "TheZeroSlave 26\n",
      "kerkerj 4\n",
      "arpando 2\n",
      "odannyc 2\n",
      "SladeThe 2\n",
      "ksurent 1\n",
      "jeandeaual 1\n",
      "SupaHam 1\n",
      "andresmrm 1\n",
      "HASHIMOTO-Takafumi 1\n",
      "IlianIliev 1\n",
      "grongor 1\n",
      "maokomioko 1\n",
      "baez90 1\n",
      "23doors 1\n",
      "dependabot[bot] 1\n",
      "pnutmath 1\n",
      "justsml 90\n",
      "kimschles 1\n",
      "lebeerman 1\n",
      "andy-kheng 14\n",
      "nbfujx 74\n",
      "bryandmartin 406\n",
      "david-barnett 6\n",
      "adw96 2\n",
      "nickp60 2\n",
      "gcuster1991 1\n",
      "kecsap 53\n",
      "janjongboom 1\n",
      "PatWie 1\n",
      "hli1221 51\n",
      "meekee7 407\n",
      "GamerDude27 69\n",
      "russellsteadman 90\n",
      "dependabot[bot] 12\n",
      "friedy10 100\n",
      "zephyr1x 1\n",
      "na-g 1\n",
      "rythei 2\n",
      "lhyt 60\n",
      "afc163 4\n",
      "linbudu599 2\n",
      "crazyair 1\n",
      "michaeldorman 84\n",
      "rushgeo 3\n",
      "a-benini 3\n",
      "ihough 2\n",
      "Fjellrev 1\n",
      "ranghetti 1\n",
      "MatthieuStigler 1\n",
      "ezrac 12\n",
      "realgam3 3\n",
      "wsdjeg 31\n",
      "johncf 7\n",
      "thawk 4\n",
      "rxwen 4\n",
      "zzdts 1\n",
      "azltx 1\n",
      "gllera 1\n",
      "schukin 4\n",
      "sigalor 79\n",
      "quad 30\n",
      "dependabot[bot] 18\n",
      "J4YF7O 9\n",
      "tulir 7\n",
      "valga 6\n",
      "tiwarishrijan 6\n",
      "hossinasaadi 2\n",
      "SuperSandro2000 2\n",
      "abdurrahmanekr 1\n",
      "adiwajshing 1\n",
      "alvarofe 1\n",
      "arbaaz 1\n",
      "coolnickname 1\n",
      "wiomoc 1\n",
      "LaloHao 1\n",
      "elonsalfati 1\n",
      "nikneym 1\n",
      "joBr99 1\n",
      "Rhymen 1\n",
      "Makhlab 1\n",
      "ndunks 1\n",
      "nvanderburg 1\n",
      "OmerFI 1\n",
      "jangid 1\n",
      "robtec 1\n",
      "vadolasi 1\n",
      "vjyanand 1\n",
      "imgbot[bot] 1\n",
      "bukosabino 514\n",
      "twopirllc 32\n",
      "lit26 11\n",
      "d5lewis 7\n",
      "christian-janiake-movile 5\n",
      "coire 5\n",
      "cobrobrown 3\n",
      "mprivat 3\n",
      "innaky 2\n",
      "sblackstone 2\n",
      "monism123 2\n",
      "alexgorbachev 1\n",
      "BastianZim 1\n",
      "bbriegel 1\n",
      "bpradana 1\n",
      "codyharris-circle 1\n",
      "codeninja 1\n",
      "riless 1\n",
      "mcmartins 1\n",
      "yarimiz 1\n",
      "sam-kleiner 1\n",
      "cjaniake 1\n",
      "mnr73 1\n",
      "pvizeli 1041\n",
      "agners 649\n",
      "rbray89 24\n",
      "jens-maus 17\n",
      "fabaff 14\n",
      "dependabot[bot] 12\n",
      "tmm1 10\n",
      "jvanderneutstulen 8\n",
      "frenck 7\n",
      "cogneato 6\n",
      "ioctl2 4\n",
      "infamy 4\n",
      "jtru 4\n",
      "mdegat01 3\n",
      "sholzmayer 3\n",
      "sbyx 3\n",
      "capstan1 3\n",
      "ludeeus 3\n",
      "ANDuff 2\n",
      "Adorem 2\n",
      "deece 2\n",
      "alexreinert 2\n",
      "bramkragten 2\n",
      "DubhAd 2\n",
      "cr0wbar 2\n",
      "mhaas 2\n",
      "rvdm82 2\n",
      "reharmsen 2\n",
      "sopelt 2\n",
      "TonyApuzzo 2\n",
      "paragonie-security 420\n",
      "paragonie-scott 49\n",
      "aidantwoods 45\n",
      "Etherealflux 17\n",
      "Slamdunk 10\n",
      "frederikbosch 7\n",
      "KellerFuchs 6\n",
      "panva 3\n",
      "mjpieters 2\n",
      "mstaack 2\n",
      "carnage 2\n",
      "cab 1\n",
      "djmarland 1\n",
      "dconnolly 1\n",
      "DennisBirkholz 1\n",
      "dustinsoftware 1\n",
      "fkooman 1\n",
      "carusogabriel 1\n",
      "hansott 1\n",
      "oojacoboo 1\n",
      "o1egl 1\n",
      "peter-evans 1\n",
      "rlittlefield 1\n",
      "shuLhan 1\n",
      "spantaleev 1\n",
      "bluetechy 1\n",
      "minus7 1\n",
      "Tai7sy 67\n",
      "BiliPrk 9\n",
      "dependabot[bot] 5\n",
      "ilay1678 3\n",
      "zfbjk 3\n",
      "lzkgbld 1\n",
      "sunseekers 64\n",
      "staylor 106\n",
      "andipaetzold 6\n",
      "blittle 5\n",
      "justinph 5\n",
      "JakeGinnivan 2\n",
      "forabi 2\n",
      "woodb 1\n",
      "ldegen 1\n",
      "mharj 1\n",
      "matteo-hertel 1\n",
      "visormatt 1\n",
      "mxstbr 1\n",
      "michenly 1\n",
      "sleepycat 1\n",
      "NMinhNguyen 1\n",
      "kitten 1\n",
      "sergei-zelinsky 1\n",
      "slorber 1\n",
      "vxna 1\n",
      "wojtekmaj 1\n",
      "yowakita 1\n",
      "chenxsan 1\n",
      "yokinist 1\n",
      "jozanza 23\n",
      "nikpundik 1\n",
      "syt123450 369\n",
      "manymeeting 53\n",
      "BoTime 42\n",
      "zchholmes 13\n",
      "AlexisAnzieu 4\n",
      "siriustom 2\n",
      "bouyuc 1\n",
      "leonsaber 1\n",
      "vavgustov 314\n",
      "GWillmann 4\n",
      "greysteil 2\n",
      "dependabot[bot] 2\n",
      "coderliu 1\n",
      "liamdawson 1\n",
      "umpox 12\n",
      "gushmazuko 52\n",
      "dedshit 3\n",
      "krisdowis 2\n",
      "antonkomarev 229\n",
      "jfunulab 1\n",
      "raniesantos 1\n",
      "sburkett 1\n",
      "squigg 1\n",
      "ujackson 1\n",
      "chiliec 1\n",
      "acidjazz 1\n",
      "piotr-s-brainhub 650\n",
      "Lukasz-pluszczewski 98\n",
      "RobertHebel 91\n",
      "renovate-bot 69\n",
      "dependabot[bot] 22\n",
      "bunysae 17\n",
      "sinchang 16\n",
      "jamsinclair 13\n",
      "udaypydi 12\n",
      "CHaNGeTe 8\n",
      "mikeechen 8\n",
      "danedavid 6\n",
      "mdrazyk 6\n",
      "sebastiansojka 6\n",
      "semantic-release-bot 5\n",
      "adamrapala 4\n",
      "PatrykBrainhub 4\n",
      "Romcol 4\n",
      "redzumi 3\n",
      "iogreggg 3\n",
      "microbit-matt-hillsdon 3\n",
      "max-arias 3\n",
      "Leksat 2\n",
      "jackall3n 2\n",
      "mateusz-brainhub 2\n",
      "barbsan 2\n",
      "damian-szulc 2\n",
      "ernestognw 2\n",
      "jefferymills 2\n",
      "bojan88 1\n",
      "burningcl 30\n",
      "arenaswan 1\n",
      "Dragon-Boat 1\n",
      "jorge07 204\n",
      "cv65kr 36\n",
      "Lutacon 22\n",
      "dependabot[bot] 11\n",
      "allcontributors[bot] 10\n",
      "patrykwozinski 9\n",
      "jon-ht 6\n",
      "kowalk 3\n",
      "warguns 2\n",
      "andrew-demb 1\n",
      "ipehov 1\n",
      "cobak78 1\n",
      "Aliance 1\n",
      "n-e-m-a-nj-a 1\n",
      "pascal08 1\n",
      "maldevel 80\n",
      "xen0vas 22\n",
      "ndamoulianos 4\n",
      "sahilsarpal15 1\n",
      "lizrice 52\n",
      "oranmoshai 4\n",
      "jmichealson 3\n",
      "PeterDaveHello 2\n",
      "eranbibi 1\n",
      "michizhou 1\n",
      "MohanSha 1\n",
      "StrikerRUS 1\n",
      "xritzx 1\n",
      "jerbia 1\n",
      "mooz 99\n",
      "rbreaves 11\n",
      "ellakk 6\n",
      "zhanghai 6\n",
      "tangxinfa 5\n",
      "Lenbok 4\n",
      "terop 3\n",
      "yuya373 3\n",
      "nlfiasel 3\n",
      "kevinslashslash 2\n",
      "amaya382 2\n",
      "zw963 1\n",
      "jvasile 1\n",
      "mbachry 1\n",
      "nobuto-m 1\n",
      "watawuwu 1\n",
      "wkwkw 1\n",
      "bkerler 40\n",
      "lonnywong 3\n",
      "hazardousparticle 1\n",
      "szczepanmasny 523\n",
      "dependabot[bot] 13\n",
      "jpinnix 1\n",
      "yajuve 1\n",
      "Thalesrup 1\n",
      "a2u 1\n",
      "haneefdm 731\n",
      "Marus 419\n",
      "WebFreak001 147\n",
      "dependabot[bot] 18\n",
      "john5f35 10\n",
      "gentoo90 10\n",
      "PhilippHaefele 8\n",
      "bbenoist 8\n",
      "ndk4 5\n",
      "trond-snekvik 5\n",
      "KaDw 4\n",
      "hwmaier 4\n",
      "diegoherranz 3\n",
      "Mrmaxmeier 3\n",
      "ryanplusplus 3\n",
      "sebastian-bartkowiak 3\n",
      "DepthDeluxe 3\n",
      "alexclewontin 2\n",
      "rookwood101 2\n",
      "TangCheng 2\n",
      "pearson 2\n",
      "manuargue 2\n",
      "andrej-mk 2\n",
      "kohada-t2 2\n",
      "benmcmorran 2\n",
      "adamkulpa 1\n",
      "andyneff 1\n",
      "bencefr 1\n",
      "bergus 1\n",
      "Wosi 1\n",
      "nzc 8\n",
      "klboke 35\n",
      "gitchenjh 9\n",
      "wanglaomo 6\n",
      "titu1994 37\n",
      "erensezener 1\n",
      "sbrugman 1\n",
      "panpan2 1\n",
      "SgtSilvio 1164\n",
      "christianhoff 91\n",
      "david-katz 53\n",
      "YannickWeber 26\n",
      "clive-jevons 11\n",
      "MicWalter 9\n",
      "dajudge 8\n",
      "pglombardo 7\n",
      "xxSlashxx 4\n",
      "alsanrum 3\n",
      "J-N-K 1\n",
      "MagiErber 1\n",
      "dobermai 1\n",
      "hctemmel 1\n",
      "screetsec 43\n",
      "harsxv 1\n",
      "M-Kinley 1\n",
      "eboasson 1350\n",
      "dpotman 575\n",
      "k0ekk0ek 239\n",
      "reicheratwork 91\n",
      "MatthiasKillat 88\n",
      "thijsmie 67\n",
      "MarcelJordense 30\n",
      "clalancette 26\n",
      "rotu 23\n",
      "mvandenhoek 16\n",
      "sumanth-nirmal 15\n",
      "ThijsSassen 15\n",
      "evshary 14\n",
      "Splinter1984 11\n",
      "cottsay 10\n",
      "PatrickM-ZS 10\n",
      "noxpardalis 10\n",
      "roehling 8\n",
      "e-hndrks 8\n",
      "FirasSahliADLinktech 7\n",
      "FransFaase 7\n",
      "kurtuluso 6\n",
      "dkroenke 5\n",
      "PeterCadogan 5\n",
      "trittsv 4\n",
      "martinbremmer 4\n",
      "EttoreVidotto 4\n",
      "christophebedard 3\n",
      "joespeed 3\n",
      "jobol 3\n",
      "0xbharath 18\n",
      "hazcod 1\n",
      "merge 465\n",
      "Thrilleratplay 5\n",
      "X3NOOO 5\n",
      "ncorder 4\n",
      "Gusher123 3\n",
      "emacsomancer 2\n",
      "yubiuser 2\n",
      "fhvyhjriur 2\n",
      "stillundecided 2\n",
      "alexjj 1\n",
      "0xbb 1\n",
      "infrastation 1\n",
      "TheWanderer1983 1\n",
      "jyvet 1\n",
      "pahakalle 1\n",
      "malbarbo 1\n",
      "u014427391 195\n",
      "venturechan 5\n",
      "r0l1 25\n",
      "skaldesh 11\n",
      "Matir 1\n",
      "moloch-- 1\n",
      "K4rian 1\n",
      "activey 1\n",
      "IdlePhysicist 1\n",
      "sejust 1\n",
      "boazbk 367\n",
      "wfus 23\n",
      "abewieland 22\n",
      "BenjiKan 19\n",
      "ColeFrench 16\n",
      "rxu18 13\n",
      "raylin1000 12\n",
      "ZiangChen 11\n",
      "wilsonqin 11\n",
      "kevinzluo 7\n",
      "zeronek501 7\n",
      "pbt17 6\n",
      "ZuzannaS 6\n",
      "semaj 4\n",
      "simfis 4\n",
      "TPiazza21 4\n",
      "ceolson 4\n",
      "eplotnick 4\n",
      "zachratliff 4\n",
      "benjamrio 3\n",
      "silviacasac 3\n",
      "zeu5 2\n",
      "jz-lu 2\n",
      "kev-liao 2\n",
      "skywalker212 1\n",
      "dest4 1\n",
      "Amitbergman 1\n",
      "catyeo18 1\n",
      "daninge98 1\n",
      "hunter-heidenreich 1\n",
      "khanhnamle1994 100\n",
      "scttcper 278\n",
      "renovate-bot 148\n",
      "renovate[bot] 23\n",
      "arturovt 12\n",
      "DanielKucal 11\n",
      "s-moran 4\n",
      "Endrzei 1\n",
      "angular-cli 1\n",
      "brankostancevic 1\n",
      "cslecours 1\n",
      "wobkenh 1\n",
      "cakeinpanic 1\n",
      "mlapaglia 1\n",
      "mattlewis92 1\n",
      "BioPhoton 1\n",
      "soundlake 1\n",
      "urish 1\n",
      "agiangrant 1\n",
      "floAtEbcont 1\n",
      "lentschi 1\n",
      "tomfriwel 44\n",
      "kiccer 3\n",
      "hrj 337\n",
      "rr83019 113\n",
      "scala-steward 81\n",
      "SanBlig 9\n",
      "PrajwalGoudar 6\n",
      "Korkman 4\n",
      "vinceh121 3\n",
      "gheorghiuradu 2\n",
      "blackmagic0 2\n",
      "amcdnl 91\n",
      "sandangel 8\n",
      "albyrock87 3\n",
      "BigGillyStyle 3\n",
      "isaacplmann 1\n",
      "ocombe 1\n",
      "yanone 8\n",
      "BlackFoundry 5\n",
      "sebastiansIT 5\n",
      "bbailleux 1\n",
      "JeremieHornus 1\n",
      "KissPeter 320\n",
      "PeterKiss-Sophos 5\n",
      "LyashenkoGS 4\n",
      "lobax 3\n",
      "dependabot[bot] 3\n",
      "aaronhmiller 2\n",
      "rmaskell 2\n",
      "dgrudinin 1\n",
      "codacy-badger 1\n",
      "gitter-badger 1\n",
      "pow-devops2020 8794\n",
      "jenkins-x-bot 6862\n",
      "jstrachan 252\n",
      "rawlingsj 230\n",
      "garethjevans 46\n",
      "pmuir 32\n",
      "abayer 23\n",
      "ccojocar 18\n",
      "jenkins-x-bot-test 16\n",
      "hekonsek 7\n",
      "msvticket 7\n",
      "romainverduci 6\n",
      "warrenbailey 6\n",
      "jtnord 4\n",
      "tdcox 4\n",
      "amoussawi 3\n",
      "bardec 3\n",
      "ankitm123 3\n",
      "carlossg 3\n",
      "greenjm 2\n",
      "macox 2\n",
      "mdiez19 2\n",
      "rajdavies 2\n",
      "almerico 1\n",
      "andreabettich 1\n",
      "andrewdutton 1\n",
      "benvandenberg 1\n",
      "cagiti 1\n",
      "babadofar 1\n",
      "Minipada 1\n",
      "kakopappa 116\n",
      "thegoliathgeek 17\n",
      "SamueldaCostaAraujoNunes 4\n",
      "mmphego 3\n",
      "fabian57fabian 3\n",
      "sivar2311 3\n",
      "totolook 1\n",
      "NandyBa 1\n",
      "gizmocuz 1\n",
      "sylhare 20\n",
      "m1ghtym0 3\n",
      "dhanvi 2\n",
      "gsingh93 1\n",
      "dupski 65\n",
      "vkolgi 16\n",
      "joeflack4 7\n",
      "renovate[bot] 5\n",
      "terion-name 4\n",
      "brethubbard 3\n",
      "MorganDbs 3\n",
      "wellguimaraes 3\n",
      "vkolagi 3\n",
      "bconnorwhite 2\n",
      "dependabot[bot] 2\n",
      "peng-huang-ch 1\n",
      "abdullah2993 1\n",
      "blaky 1\n",
      "douglaseggleton 1\n",
      "esetnik 1\n",
      "plmercereau 1\n",
      "xushanmeng 39\n",
      "EdOverflow 39\n",
      "jakewarren 3\n",
      "0xmilan 2\n",
      "BeanBagKing 1\n",
      "graytowne 17\n",
      "Laiw1996 1\n",
      "daedreth 77\n",
      "PSJ-Sokolov 1\n",
      "luqinmao 38\n",
      "Notzuonotdied 2\n",
      "cd-dongzi 27\n",
      "Bitwise-01 10\n",
      "gihad 5\n",
      "troykelly 1\n",
      "lizhaoxuan 30\n",
      "XanthosisJYW 1\n",
      "Khang-NT 390\n",
      "simonpham 168\n",
      "weblate 1\n",
      "railsmechanic 52\n",
      "alecho 7\n",
      "c4710n 2\n",
      "ai 1\n",
      "frm 1\n",
      "nietaki 1\n",
      "maratgaliev 1\n",
      "themsaid 452\n",
      "taylorotwell 444\n",
      "epreston 54\n",
      "browner12 36\n",
      "rway7 19\n",
      "Max13 14\n",
      "sdebacker 7\n",
      "bryanjamesmiller 6\n",
      "furey 6\n",
      "almeidafranci 6\n",
      "Prepager 5\n",
      "marcnewton 5\n",
      "benmag 4\n",
      "dannydjones1994 4\n",
      "svyandun 4\n",
      "vmitchell85 4\n",
      "nerdalertdk 4\n",
      "djekl 3\n",
      "brandonmbanks 3\n",
      "dmyers 3\n",
      "mkarnicki 3\n",
      "nlocascio 3\n",
      "piotrmocko 3\n",
      "renekorss 3\n",
      "SimonJ 3\n",
      "Braunson 3\n",
      "A5hleyRich 2\n",
      "BruceLampson 2\n",
      "calebporzio 2\n",
      "caseysprague 2\n",
      "AAWayne 34\n",
      "villares 4717\n",
      "xiaoguzhu 30\n",
      "mingxxming 3\n",
      "xiongyouliang 2\n",
      "sven721 1\n",
      "DropSnorz 648\n",
      "dependabot[bot] 15\n",
      "the-simian 1\n",
      "huststl 16\n",
      "wuyanwuyan 29\n",
      "sylefeb 28\n",
      "chaosink 2\n",
      "sjackman 1440\n",
      "ilovezfs 1024\n",
      "LinuxbrewTestBot 835\n",
      "ianml 490\n",
      "dpo 449\n",
      "iMichka 272\n",
      "jonchang 243\n",
      "tseemann 220\n",
      "jacknagel 168\n",
      "fxcoudert 143\n",
      "tdsmith 130\n",
      "adamv 126\n",
      "vszakats 124\n",
      "Sharpie 83\n",
      "samueljohn 68\n",
      "MikeMcQuaid 60\n",
      "davydden 59\n",
      "pditommaso 57\n",
      "saketkc 50\n",
      "tmozgach 49\n",
      "tschoonj 42\n",
      "dunn 39\n",
      "schoeps 39\n",
      "chapmanb 38\n",
      "goxberry 37\n",
      "CarlosBorroto 35\n",
      "brettkoonce 32\n",
      "bfontaine 29\n",
      "jcupitt 28\n",
      "mistydemeo 24\n",
      "smeso 1\n",
      "mbhave 2\n",
      "trevormarshall 2\n",
      "yohangz 1079\n",
      "lahiruz 219\n",
      "aravindakr95 99\n",
      "samudithaw 85\n",
      "cagline 32\n",
      "thaveeshagamage 4\n",
      "sanuradhag 1\n",
      "Arty26 1\n",
      "Starotitorov 61\n",
      "artyomd 151\n",
      "dependabot-support 27\n",
      "dependabot-preview[bot] 23\n",
      "jbeguna04 3\n",
      "Cililing 1\n",
      "jileshl 1\n",
      "codacy-badger 1\n",
      "hepesu 14\n",
      "wsyxbcl 1\n",
      "stolinski 11\n",
      "newswim 2\n",
      "kiletw 38\n",
      "mitchtabian 5\n",
      "willSapgreen 29\n",
      "juhosg 4521\n",
      "ffainelli 3432\n",
      "jow- 2055\n",
      "kaloz 1474\n",
      "embeem 655\n",
      "sbyx 629\n",
      "KanjiMonster 601\n",
      "lperkov 568\n",
      "rmilecki 408\n",
      "acoul 315\n",
      "wigyori 271\n",
      "larsclausen 252\n",
      "rwhitby 137\n",
      "teknoraver 121\n",
      "claudyus 87\n",
      "pnd10 57\n",
      "ecsv 47\n",
      "glevand 38\n",
      "cultcom 29\n",
      "grozzie2 24\n",
      "ryd 16\n",
      "ldir-EDB0 15\n",
      "hauke 8\n",
      "NeoRaider 6\n",
      "nbd168 4\n",
      "jk-ozlabs 4\n",
      "blogic 4\n",
      "mkrkn 4\n",
      "dedeckeh 3\n",
      "nakarotori 2\n",
      "sebastian-lenz 268\n",
      "timkelty 5\n",
      "internetztube 3\n",
      "mitch-rickman 3\n",
      "d--j 2\n",
      "JorgeAnzola 2\n",
      "pascalminator 2\n",
      "arthur-akufen 1\n",
      "bartrylant 1\n",
      "boboldehampsink 1\n",
      "angrybrad 1\n",
      "r0615219 1\n",
      "ctangney-tulip 1\n",
      "holmey 1\n",
      "JeroenOnstuimig 1\n",
      "KevinBeckers 1\n",
      "leecrosdale 1\n",
      "nfourtythree 1\n",
      "sanderpotjer 1\n",
      "apt-thomas 1\n",
      "jeroenlammerts 1\n",
      "michtio 1\n",
      "mia-tpa 1\n",
      "nstCactus 1\n",
      "vsLoong 43\n",
      "Dozed12 75\n",
      "canisminor1990 26\n",
      "zacyu 1\n",
      "walterra 220\n",
      "dependabot[bot] 7\n",
      "superpikar 1\n",
      "jcsrb 1\n",
      "avborhanian 1\n",
      "you3h 1\n",
      "juhot 30\n",
      "Keelar 18\n",
      "Wireless4024 4\n",
      "sadellie 1\n",
      "tblakers 1\n",
      "dependabot[bot] 1\n",
      "larkob 12\n",
      "sudharsan13296 2\n",
      "jimmyday12 560\n",
      "cfranklin11 53\n",
      "OscarLane 32\n",
      "JaseZiv 11\n",
      "Fryzigg 8\n",
      "Lingtax 5\n",
      "jlholden26 5\n",
      "anoafl 3\n",
      "merbla 3\n",
      "tylerlittlefield 3\n",
      "hadley 2\n",
      "bairdj 2\n",
      "hamgamb 1\n",
      "AntoineCharton 323\n",
      "nupsi 15\n",
      "sinsoku 43\n",
      "BanzaiMan 1\n",
      "okuramasafumi 1\n",
      "RickCSong 1\n",
      "shuuuuun 1\n",
      "xuningjack 1\n",
      "bunnei 7146\n",
      "lioncash 3359\n",
      "ReinUsesLisp 2128\n",
      "FernandoS27 1275\n",
      "Morph1984 991\n",
      "liamwhite 813\n",
      "Subv 804\n",
      "yuriks 781\n",
      "zachhilman 693\n",
      "ameerj 691\n",
      "german77 655\n",
      "ogniK5377 498\n",
      "lat9nq 381\n",
      "t895 296\n",
      "neobrain 287\n",
      "wwylele 270\n",
      "MerryMage 219\n",
      "FearlessTobi 199\n",
      "archshift 193\n",
      "jroweboy 187\n",
      "linkmauve 125\n",
      "mailwl 93\n",
      "vonchenplus 90\n",
      "namkazt 85\n",
      "Kelebek1 84\n",
      "JayFoxRox 81\n",
      "merryhime 71\n",
      "degasus 70\n",
      "shizzy1 70\n",
      "VolcaEM 66\n",
      "SteveSandersonMS 610\n",
      "rynowak 91\n",
      "pranavkm 64\n",
      "dougbu 46\n",
      "dotnet-maestro[bot] 45\n",
      "danroth27 34\n",
      "wtgodbe 33\n",
      "natemcmaster 13\n",
      "javiercn 9\n",
      "captainsafia 9\n",
      "mkArtakMSFT 7\n",
      "Suchiman 6\n",
      "Eilon 5\n",
      "mmitche 5\n",
      "flash2048 5\n",
      "ebekker 4\n",
      "LunicLynx 4\n",
      "zbecknell 4\n",
      "msftbot[bot] 3\n",
      "alexgav 3\n",
      "analogrelay 2\n",
      "attilah 2\n",
      "vertonghenb 2\n",
      "guardrex 2\n",
      "markgaze 2\n",
      "Meir017 2\n",
      "ryanbrandenburg 2\n",
      "uazo 2\n",
      "RyoukoKonpaku 2\n",
      "dotnet-bot 2\n",
      "misc0110 48\n",
      "paboldin 9\n",
      "dgruss 9\n",
      "mlq 3\n",
      "raphaelsc 3\n",
      "teknoraver 2\n",
      "asgh 2\n",
      "edrdo 1\n",
      "egormanga 1\n",
      "jwilk 1\n",
      "jasondavies 1\n",
      "lukaszgryglicki 1\n",
      "styfle 1\n",
      "vamsi3 1\n",
      "pierwill 1\n",
      "ysiyer 1\n",
      "Mygod 1790\n",
      "bluehomewu 5\n",
      "Kaitul 2\n",
      "dwuku 1\n",
      "ferhadnecef 1\n",
      "xicciodj 1\n",
      "TimonPost 362\n",
      "zrzka 53\n",
      "Kestrer 12\n",
      "Canop 9\n",
      "sigmaSd 8\n",
      "sharnoff 6\n",
      "pianohacker 4\n",
      "andy128k 3\n",
      "cowboy8625 3\n",
      "yyogo 3\n",
      "the-mikedavis 3\n",
      "MichaelMcDonnell 3\n",
      "Lucretiel 3\n",
      "AhoyISki 3\n",
      "mgunyho 3\n",
      "svartalf 3\n",
      "groves 3\n",
      "PurpleBooth 2\n",
      "cedric-h 2\n",
      "CenTdemeern1 2\n",
      "dannyfritz 2\n",
      "dsherret 2\n",
      "ignatenkobrain 2\n",
      "Rukenshia 2\n",
      "Jezza 2\n",
      "udoprog 2\n",
      "kesslern 2\n",
      "twe4ked 2\n",
      "Riey 2\n",
      "Byron 2\n",
      "liyinan926 496\n",
      "yuchaoran2011 73\n",
      "mrow4a 13\n",
      "jkleckner 8\n",
      "ImpSy 8\n",
      "akhurana001 8\n",
      "TommyLike 7\n",
      "grzegorzlyczba 6\n",
      "nicholas-fwang 6\n",
      "AliGouta 5\n",
      "TomHellier 5\n",
      "scotthew1 5\n",
      "jinxingwang 5\n",
      "sarjeet2013 5\n",
      "aneagoe 4\n",
      "dharmeshkakadia 4\n",
      "hagaibarel 4\n",
      "andrewgdavis 4\n",
      "stpabhi 3\n",
      "chaudhryfaisal 3\n",
      "HHK1 3\n",
      "Jeffwan 3\n",
      "jlpedrosa 3\n",
      "sairamankumar2 3\n",
      "avnerl 3\n",
      "ordukhanian 3\n",
      "tkanng 3\n",
      "huskysun 3\n",
      "Aakcht 2\n",
      "jgardner04 2\n",
      "kelingjie1 17\n",
      "status302 3\n",
      "sablib 1\n",
      "scwang90 33\n",
      "xxjy 1\n",
      "rnystrom 27\n",
      "BasThomas 8\n",
      "nathantannar4 3\n",
      "Fogh 2\n",
      "benasher44 1\n",
      "jasonaibrahim 1\n",
      "JulienKode 1\n",
      "lenkaiser 1\n",
      "mohsinalimat 1\n",
      "rizwankce 1\n",
      "SD10 1\n",
      "viktorasl 1\n",
      "shimh-develop 7\n",
      "jeffpeterson 249\n",
      "mjtognetti 145\n",
      "jimpick 129\n",
      "orionz 79\n",
      "pvh 67\n",
      "anotherjesse 2\n",
      "johnptoohey 2\n",
      "jmventura 1\n",
      "rnystrom 47\n",
      "davidcyman-omicron 6\n",
      "ocrickard 5\n",
      "marcuswu0814 4\n",
      "BasThomas 2\n",
      "josepmedrano 2\n",
      "ryohey 2\n",
      "davelyon 1\n",
      "shobrook 404\n",
      "alichtman 320\n",
      "chrkaatz 2\n",
      "0xflotus 1\n",
      "karl-run 1\n",
      "leo9960 33\n",
      "loboris 78\n",
      "mkuczera 71\n",
      "adkenyon 10\n",
      "rushatgabhane 7\n",
      "rverbytskyi 4\n",
      "j-piasecki 3\n",
      "pontusab 2\n",
      "plaa 2\n",
      "kanzitelli 1\n",
      "elmirsmylv 1\n",
      "esilverberg 1\n",
      "gwmccull 1\n",
      "igorlira 1\n",
      "jfrolich 1\n",
      "fishkingsin 1\n",
      "jeremybarbet 1\n",
      "uutarou10 1\n",
      "kylerjensen 1\n",
      "mrousavy 1\n",
      "marcosrdz 1\n",
      "matiaskorhonen 1\n",
      "Prashoon123 1\n",
      "remoblaser 1\n",
      "Romick2005 1\n",
      "stefanmomm 1\n",
      "stebogit 1\n",
      "SteffeyDev 1\n",
      "MrLoh 1\n",
      "WoLewicki 1\n",
      "lightlii 1\n",
      "kasajei 1\n",
      "DrEmpiricism 858\n",
      "hanacchi 1\n",
      "Zandor300 20\n",
      "futuretap 12\n",
      "rcasula 3\n",
      "RomanPodymov 3\n",
      "tomlokhorst 3\n",
      "awprj 1\n",
      "rolandleth 1\n",
      "bootstrapdash-team 14\n",
      "fabulumar 2\n",
      "fathimalinsak 2\n",
      "webtoffee-git 1\n",
      "verfasor 1\n",
      "JeffreyWay 130\n",
      "jonsugar 16\n",
      "BSN4 10\n",
      "MattMangoni 8\n",
      "m1guelpf 7\n",
      "Douglasdc3 7\n",
      "laravel-shift 6\n",
      "Indemnity83 4\n",
      "rumansaleem 4\n",
      "DarkaOnLine 3\n",
      "arifkhn46 3\n",
      "adammatysiak 2\n",
      "JamesFreeman 2\n",
      "GhiMax 2\n",
      "toniperic 2\n",
      "eXorus 2\n",
      "wilburpowery 2\n",
      "nuernbergerA 1\n",
      "Alymosul 1\n",
      "ntavelis 1\n",
      "tykus 1\n",
      "cwang22 1\n",
      "mazedlx 1\n",
      "danwall 1\n",
      "deframe 1\n",
      "diogogomeswww 1\n",
      "vsnai 1\n",
      "freekmurze 1\n",
      "GhazanfarMir 1\n",
      "hpiaia 1\n",
      "android-notes 10\n",
      "cowchimp 9\n"
     ]
    }
   ],
   "source": [
    "import pandas as pd\n",
    "\n",
    "# Créer un DataFrame à partir de la liste de contributions\n",
    "df = pd.DataFrame(list_contributions)\n",
    "\n",
    "# Exporter les données dans un fichier CSV nommé 'contributions.csv'\n",
    "df.to_csv('contributions.csv', index=False)\n",
    "\n",
    "# Afficher la liste de toutes les contributions des repositories\n",
    "for contribution in list_contributions:\n",
    "    print(contribution['login'], contribution['contributions'])"
   ]
  },
  {
   "cell_type": "code",
   "execution_count": 89,
   "id": "e206a98e",
   "metadata": {},
   "outputs": [],
   "source": [
    "# Créer un DataFrame Pandas à partir de la liste de contributions\n",
    "df = pd.read_csv('contributions.csv')"
   ]
  },
  {
   "cell_type": "code",
   "execution_count": 91,
   "id": "83c0a1c6",
   "metadata": {},
   "outputs": [
    {
     "name": "stderr",
     "output_type": "stream",
     "text": [
      "C:\\Users\\Youcode\\AppData\\Local\\Temp\\ipykernel_52220\\1697656005.py:6: FutureWarning:\n",
      "\n",
      "The default value of numeric_only in DataFrameGroupBy.sum is deprecated. In a future version, numeric_only will default to False. Either specify numeric_only or select only columns which should be valid for the function.\n",
      "\n"
     ]
    },
    {
     "data": {
      "application/vnd.plotly.v1+json": {
       "config": {
        "plotlyServerURL": "https://plot.ly"
       },
       "data": [
        {
         "marker": {
          "color": "#1f77b4"
         },
         "orientation": "h",
         "text": [
          "1. 1790",
          "2. 2055",
          "3. 2128",
          "4. 3359",
          "5. 3432",
          "6. 4521",
          "7. 4717",
          "8. 6862",
          "9. 7146",
          "10. 8794"
         ],
         "type": "bar",
         "x": [
          1790,
          2055,
          2128,
          3359,
          3432,
          4521,
          4717,
          6862,
          7146,
          8794
         ],
         "y": [
          "Mygod",
          "jow-",
          "ReinUsesLisp",
          "lioncash",
          "ffainelli",
          "juhosg",
          "villares",
          "jenkins-x-bot",
          "bunnei",
          "pow-devops2020"
         ]
        }
       ],
       "layout": {
        "template": {
         "data": {
          "bar": [
           {
            "error_x": {
             "color": "#2a3f5f"
            },
            "error_y": {
             "color": "#2a3f5f"
            },
            "marker": {
             "line": {
              "color": "#E5ECF6",
              "width": 0.5
             },
             "pattern": {
              "fillmode": "overlay",
              "size": 10,
              "solidity": 0.2
             }
            },
            "type": "bar"
           }
          ],
          "barpolar": [
           {
            "marker": {
             "line": {
              "color": "#E5ECF6",
              "width": 0.5
             },
             "pattern": {
              "fillmode": "overlay",
              "size": 10,
              "solidity": 0.2
             }
            },
            "type": "barpolar"
           }
          ],
          "carpet": [
           {
            "aaxis": {
             "endlinecolor": "#2a3f5f",
             "gridcolor": "white",
             "linecolor": "white",
             "minorgridcolor": "white",
             "startlinecolor": "#2a3f5f"
            },
            "baxis": {
             "endlinecolor": "#2a3f5f",
             "gridcolor": "white",
             "linecolor": "white",
             "minorgridcolor": "white",
             "startlinecolor": "#2a3f5f"
            },
            "type": "carpet"
           }
          ],
          "choropleth": [
           {
            "colorbar": {
             "outlinewidth": 0,
             "ticks": ""
            },
            "type": "choropleth"
           }
          ],
          "contour": [
           {
            "colorbar": {
             "outlinewidth": 0,
             "ticks": ""
            },
            "colorscale": [
             [
              0,
              "#0d0887"
             ],
             [
              0.1111111111111111,
              "#46039f"
             ],
             [
              0.2222222222222222,
              "#7201a8"
             ],
             [
              0.3333333333333333,
              "#9c179e"
             ],
             [
              0.4444444444444444,
              "#bd3786"
             ],
             [
              0.5555555555555556,
              "#d8576b"
             ],
             [
              0.6666666666666666,
              "#ed7953"
             ],
             [
              0.7777777777777778,
              "#fb9f3a"
             ],
             [
              0.8888888888888888,
              "#fdca26"
             ],
             [
              1,
              "#f0f921"
             ]
            ],
            "type": "contour"
           }
          ],
          "contourcarpet": [
           {
            "colorbar": {
             "outlinewidth": 0,
             "ticks": ""
            },
            "type": "contourcarpet"
           }
          ],
          "heatmap": [
           {
            "colorbar": {
             "outlinewidth": 0,
             "ticks": ""
            },
            "colorscale": [
             [
              0,
              "#0d0887"
             ],
             [
              0.1111111111111111,
              "#46039f"
             ],
             [
              0.2222222222222222,
              "#7201a8"
             ],
             [
              0.3333333333333333,
              "#9c179e"
             ],
             [
              0.4444444444444444,
              "#bd3786"
             ],
             [
              0.5555555555555556,
              "#d8576b"
             ],
             [
              0.6666666666666666,
              "#ed7953"
             ],
             [
              0.7777777777777778,
              "#fb9f3a"
             ],
             [
              0.8888888888888888,
              "#fdca26"
             ],
             [
              1,
              "#f0f921"
             ]
            ],
            "type": "heatmap"
           }
          ],
          "heatmapgl": [
           {
            "colorbar": {
             "outlinewidth": 0,
             "ticks": ""
            },
            "colorscale": [
             [
              0,
              "#0d0887"
             ],
             [
              0.1111111111111111,
              "#46039f"
             ],
             [
              0.2222222222222222,
              "#7201a8"
             ],
             [
              0.3333333333333333,
              "#9c179e"
             ],
             [
              0.4444444444444444,
              "#bd3786"
             ],
             [
              0.5555555555555556,
              "#d8576b"
             ],
             [
              0.6666666666666666,
              "#ed7953"
             ],
             [
              0.7777777777777778,
              "#fb9f3a"
             ],
             [
              0.8888888888888888,
              "#fdca26"
             ],
             [
              1,
              "#f0f921"
             ]
            ],
            "type": "heatmapgl"
           }
          ],
          "histogram": [
           {
            "marker": {
             "pattern": {
              "fillmode": "overlay",
              "size": 10,
              "solidity": 0.2
             }
            },
            "type": "histogram"
           }
          ],
          "histogram2d": [
           {
            "colorbar": {
             "outlinewidth": 0,
             "ticks": ""
            },
            "colorscale": [
             [
              0,
              "#0d0887"
             ],
             [
              0.1111111111111111,
              "#46039f"
             ],
             [
              0.2222222222222222,
              "#7201a8"
             ],
             [
              0.3333333333333333,
              "#9c179e"
             ],
             [
              0.4444444444444444,
              "#bd3786"
             ],
             [
              0.5555555555555556,
              "#d8576b"
             ],
             [
              0.6666666666666666,
              "#ed7953"
             ],
             [
              0.7777777777777778,
              "#fb9f3a"
             ],
             [
              0.8888888888888888,
              "#fdca26"
             ],
             [
              1,
              "#f0f921"
             ]
            ],
            "type": "histogram2d"
           }
          ],
          "histogram2dcontour": [
           {
            "colorbar": {
             "outlinewidth": 0,
             "ticks": ""
            },
            "colorscale": [
             [
              0,
              "#0d0887"
             ],
             [
              0.1111111111111111,
              "#46039f"
             ],
             [
              0.2222222222222222,
              "#7201a8"
             ],
             [
              0.3333333333333333,
              "#9c179e"
             ],
             [
              0.4444444444444444,
              "#bd3786"
             ],
             [
              0.5555555555555556,
              "#d8576b"
             ],
             [
              0.6666666666666666,
              "#ed7953"
             ],
             [
              0.7777777777777778,
              "#fb9f3a"
             ],
             [
              0.8888888888888888,
              "#fdca26"
             ],
             [
              1,
              "#f0f921"
             ]
            ],
            "type": "histogram2dcontour"
           }
          ],
          "mesh3d": [
           {
            "colorbar": {
             "outlinewidth": 0,
             "ticks": ""
            },
            "type": "mesh3d"
           }
          ],
          "parcoords": [
           {
            "line": {
             "colorbar": {
              "outlinewidth": 0,
              "ticks": ""
             }
            },
            "type": "parcoords"
           }
          ],
          "pie": [
           {
            "automargin": true,
            "type": "pie"
           }
          ],
          "scatter": [
           {
            "fillpattern": {
             "fillmode": "overlay",
             "size": 10,
             "solidity": 0.2
            },
            "type": "scatter"
           }
          ],
          "scatter3d": [
           {
            "line": {
             "colorbar": {
              "outlinewidth": 0,
              "ticks": ""
             }
            },
            "marker": {
             "colorbar": {
              "outlinewidth": 0,
              "ticks": ""
             }
            },
            "type": "scatter3d"
           }
          ],
          "scattercarpet": [
           {
            "marker": {
             "colorbar": {
              "outlinewidth": 0,
              "ticks": ""
             }
            },
            "type": "scattercarpet"
           }
          ],
          "scattergeo": [
           {
            "marker": {
             "colorbar": {
              "outlinewidth": 0,
              "ticks": ""
             }
            },
            "type": "scattergeo"
           }
          ],
          "scattergl": [
           {
            "marker": {
             "colorbar": {
              "outlinewidth": 0,
              "ticks": ""
             }
            },
            "type": "scattergl"
           }
          ],
          "scattermapbox": [
           {
            "marker": {
             "colorbar": {
              "outlinewidth": 0,
              "ticks": ""
             }
            },
            "type": "scattermapbox"
           }
          ],
          "scatterpolar": [
           {
            "marker": {
             "colorbar": {
              "outlinewidth": 0,
              "ticks": ""
             }
            },
            "type": "scatterpolar"
           }
          ],
          "scatterpolargl": [
           {
            "marker": {
             "colorbar": {
              "outlinewidth": 0,
              "ticks": ""
             }
            },
            "type": "scatterpolargl"
           }
          ],
          "scatterternary": [
           {
            "marker": {
             "colorbar": {
              "outlinewidth": 0,
              "ticks": ""
             }
            },
            "type": "scatterternary"
           }
          ],
          "surface": [
           {
            "colorbar": {
             "outlinewidth": 0,
             "ticks": ""
            },
            "colorscale": [
             [
              0,
              "#0d0887"
             ],
             [
              0.1111111111111111,
              "#46039f"
             ],
             [
              0.2222222222222222,
              "#7201a8"
             ],
             [
              0.3333333333333333,
              "#9c179e"
             ],
             [
              0.4444444444444444,
              "#bd3786"
             ],
             [
              0.5555555555555556,
              "#d8576b"
             ],
             [
              0.6666666666666666,
              "#ed7953"
             ],
             [
              0.7777777777777778,
              "#fb9f3a"
             ],
             [
              0.8888888888888888,
              "#fdca26"
             ],
             [
              1,
              "#f0f921"
             ]
            ],
            "type": "surface"
           }
          ],
          "table": [
           {
            "cells": {
             "fill": {
              "color": "#EBF0F8"
             },
             "line": {
              "color": "white"
             }
            },
            "header": {
             "fill": {
              "color": "#C8D4E3"
             },
             "line": {
              "color": "white"
             }
            },
            "type": "table"
           }
          ]
         },
         "layout": {
          "annotationdefaults": {
           "arrowcolor": "#2a3f5f",
           "arrowhead": 0,
           "arrowwidth": 1
          },
          "autotypenumbers": "strict",
          "coloraxis": {
           "colorbar": {
            "outlinewidth": 0,
            "ticks": ""
           }
          },
          "colorscale": {
           "diverging": [
            [
             0,
             "#8e0152"
            ],
            [
             0.1,
             "#c51b7d"
            ],
            [
             0.2,
             "#de77ae"
            ],
            [
             0.3,
             "#f1b6da"
            ],
            [
             0.4,
             "#fde0ef"
            ],
            [
             0.5,
             "#f7f7f7"
            ],
            [
             0.6,
             "#e6f5d0"
            ],
            [
             0.7,
             "#b8e186"
            ],
            [
             0.8,
             "#7fbc41"
            ],
            [
             0.9,
             "#4d9221"
            ],
            [
             1,
             "#276419"
            ]
           ],
           "sequential": [
            [
             0,
             "#0d0887"
            ],
            [
             0.1111111111111111,
             "#46039f"
            ],
            [
             0.2222222222222222,
             "#7201a8"
            ],
            [
             0.3333333333333333,
             "#9c179e"
            ],
            [
             0.4444444444444444,
             "#bd3786"
            ],
            [
             0.5555555555555556,
             "#d8576b"
            ],
            [
             0.6666666666666666,
             "#ed7953"
            ],
            [
             0.7777777777777778,
             "#fb9f3a"
            ],
            [
             0.8888888888888888,
             "#fdca26"
            ],
            [
             1,
             "#f0f921"
            ]
           ],
           "sequentialminus": [
            [
             0,
             "#0d0887"
            ],
            [
             0.1111111111111111,
             "#46039f"
            ],
            [
             0.2222222222222222,
             "#7201a8"
            ],
            [
             0.3333333333333333,
             "#9c179e"
            ],
            [
             0.4444444444444444,
             "#bd3786"
            ],
            [
             0.5555555555555556,
             "#d8576b"
            ],
            [
             0.6666666666666666,
             "#ed7953"
            ],
            [
             0.7777777777777778,
             "#fb9f3a"
            ],
            [
             0.8888888888888888,
             "#fdca26"
            ],
            [
             1,
             "#f0f921"
            ]
           ]
          },
          "colorway": [
           "#636efa",
           "#EF553B",
           "#00cc96",
           "#ab63fa",
           "#FFA15A",
           "#19d3f3",
           "#FF6692",
           "#B6E880",
           "#FF97FF",
           "#FECB52"
          ],
          "font": {
           "color": "#2a3f5f"
          },
          "geo": {
           "bgcolor": "white",
           "lakecolor": "white",
           "landcolor": "#E5ECF6",
           "showlakes": true,
           "showland": true,
           "subunitcolor": "white"
          },
          "hoverlabel": {
           "align": "left"
          },
          "hovermode": "closest",
          "mapbox": {
           "style": "light"
          },
          "paper_bgcolor": "white",
          "plot_bgcolor": "#E5ECF6",
          "polar": {
           "angularaxis": {
            "gridcolor": "white",
            "linecolor": "white",
            "ticks": ""
           },
           "bgcolor": "#E5ECF6",
           "radialaxis": {
            "gridcolor": "white",
            "linecolor": "white",
            "ticks": ""
           }
          },
          "scene": {
           "xaxis": {
            "backgroundcolor": "#E5ECF6",
            "gridcolor": "white",
            "gridwidth": 2,
            "linecolor": "white",
            "showbackground": true,
            "ticks": "",
            "zerolinecolor": "white"
           },
           "yaxis": {
            "backgroundcolor": "#E5ECF6",
            "gridcolor": "white",
            "gridwidth": 2,
            "linecolor": "white",
            "showbackground": true,
            "ticks": "",
            "zerolinecolor": "white"
           },
           "zaxis": {
            "backgroundcolor": "#E5ECF6",
            "gridcolor": "white",
            "gridwidth": 2,
            "linecolor": "white",
            "showbackground": true,
            "ticks": "",
            "zerolinecolor": "white"
           }
          },
          "shapedefaults": {
           "line": {
            "color": "#2a3f5f"
           }
          },
          "ternary": {
           "aaxis": {
            "gridcolor": "white",
            "linecolor": "white",
            "ticks": ""
           },
           "baxis": {
            "gridcolor": "white",
            "linecolor": "white",
            "ticks": ""
           },
           "bgcolor": "#E5ECF6",
           "caxis": {
            "gridcolor": "white",
            "linecolor": "white",
            "ticks": ""
           }
          },
          "title": {
           "x": 0.05
          },
          "xaxis": {
           "automargin": true,
           "gridcolor": "white",
           "linecolor": "white",
           "ticks": "",
           "title": {
            "standoff": 15
           },
           "zerolinecolor": "white",
           "zerolinewidth": 2
          },
          "yaxis": {
           "automargin": true,
           "gridcolor": "white",
           "linecolor": "white",
           "ticks": "",
           "title": {
            "standoff": 15
           },
           "zerolinecolor": "white",
           "zerolinewidth": 2
          }
         }
        },
        "title": {
         "font": {
          "color": "#333",
          "family": "Arial",
          "size": 30
         },
         "text": "Top 10 des contributeurs"
        },
        "xaxis": {
         "title": {
          "text": "Nombre de contributions"
         }
        },
        "yaxis": {
         "tickfont": {
          "size": 14
         },
         "title": {
          "text": "Contributeur"
         }
        }
       }
      },
      "text/html": [
       "<div>                            <div id=\"deebe726-805e-4c33-a966-5b5a8005dca3\" class=\"plotly-graph-div\" style=\"height:525px; width:100%;\"></div>            <script type=\"text/javascript\">                require([\"plotly\"], function(Plotly) {                    window.PLOTLYENV=window.PLOTLYENV || {};                                    if (document.getElementById(\"deebe726-805e-4c33-a966-5b5a8005dca3\")) {                    Plotly.newPlot(                        \"deebe726-805e-4c33-a966-5b5a8005dca3\",                        [{\"marker\":{\"color\":\"#1f77b4\"},\"orientation\":\"h\",\"text\":[\"1. 1790\",\"2. 2055\",\"3. 2128\",\"4. 3359\",\"5. 3432\",\"6. 4521\",\"7. 4717\",\"8. 6862\",\"9. 7146\",\"10. 8794\"],\"x\":[1790,2055,2128,3359,3432,4521,4717,6862,7146,8794],\"y\":[\"Mygod\",\"jow-\",\"ReinUsesLisp\",\"lioncash\",\"ffainelli\",\"juhosg\",\"villares\",\"jenkins-x-bot\",\"bunnei\",\"pow-devops2020\"],\"type\":\"bar\"}],                        {\"title\":{\"text\":\"Top 10 des contributeurs\",\"font\":{\"size\":30,\"family\":\"Arial\",\"color\":\"#333\"}},\"xaxis\":{\"title\":{\"text\":\"Nombre de contributions\"}},\"yaxis\":{\"tickfont\":{\"size\":14},\"title\":{\"text\":\"Contributeur\"}},\"template\":{\"data\":{\"histogram2dcontour\":[{\"type\":\"histogram2dcontour\",\"colorbar\":{\"outlinewidth\":0,\"ticks\":\"\"},\"colorscale\":[[0.0,\"#0d0887\"],[0.1111111111111111,\"#46039f\"],[0.2222222222222222,\"#7201a8\"],[0.3333333333333333,\"#9c179e\"],[0.4444444444444444,\"#bd3786\"],[0.5555555555555556,\"#d8576b\"],[0.6666666666666666,\"#ed7953\"],[0.7777777777777778,\"#fb9f3a\"],[0.8888888888888888,\"#fdca26\"],[1.0,\"#f0f921\"]]}],\"choropleth\":[{\"type\":\"choropleth\",\"colorbar\":{\"outlinewidth\":0,\"ticks\":\"\"}}],\"histogram2d\":[{\"type\":\"histogram2d\",\"colorbar\":{\"outlinewidth\":0,\"ticks\":\"\"},\"colorscale\":[[0.0,\"#0d0887\"],[0.1111111111111111,\"#46039f\"],[0.2222222222222222,\"#7201a8\"],[0.3333333333333333,\"#9c179e\"],[0.4444444444444444,\"#bd3786\"],[0.5555555555555556,\"#d8576b\"],[0.6666666666666666,\"#ed7953\"],[0.7777777777777778,\"#fb9f3a\"],[0.8888888888888888,\"#fdca26\"],[1.0,\"#f0f921\"]]}],\"heatmap\":[{\"type\":\"heatmap\",\"colorbar\":{\"outlinewidth\":0,\"ticks\":\"\"},\"colorscale\":[[0.0,\"#0d0887\"],[0.1111111111111111,\"#46039f\"],[0.2222222222222222,\"#7201a8\"],[0.3333333333333333,\"#9c179e\"],[0.4444444444444444,\"#bd3786\"],[0.5555555555555556,\"#d8576b\"],[0.6666666666666666,\"#ed7953\"],[0.7777777777777778,\"#fb9f3a\"],[0.8888888888888888,\"#fdca26\"],[1.0,\"#f0f921\"]]}],\"heatmapgl\":[{\"type\":\"heatmapgl\",\"colorbar\":{\"outlinewidth\":0,\"ticks\":\"\"},\"colorscale\":[[0.0,\"#0d0887\"],[0.1111111111111111,\"#46039f\"],[0.2222222222222222,\"#7201a8\"],[0.3333333333333333,\"#9c179e\"],[0.4444444444444444,\"#bd3786\"],[0.5555555555555556,\"#d8576b\"],[0.6666666666666666,\"#ed7953\"],[0.7777777777777778,\"#fb9f3a\"],[0.8888888888888888,\"#fdca26\"],[1.0,\"#f0f921\"]]}],\"contourcarpet\":[{\"type\":\"contourcarpet\",\"colorbar\":{\"outlinewidth\":0,\"ticks\":\"\"}}],\"contour\":[{\"type\":\"contour\",\"colorbar\":{\"outlinewidth\":0,\"ticks\":\"\"},\"colorscale\":[[0.0,\"#0d0887\"],[0.1111111111111111,\"#46039f\"],[0.2222222222222222,\"#7201a8\"],[0.3333333333333333,\"#9c179e\"],[0.4444444444444444,\"#bd3786\"],[0.5555555555555556,\"#d8576b\"],[0.6666666666666666,\"#ed7953\"],[0.7777777777777778,\"#fb9f3a\"],[0.8888888888888888,\"#fdca26\"],[1.0,\"#f0f921\"]]}],\"surface\":[{\"type\":\"surface\",\"colorbar\":{\"outlinewidth\":0,\"ticks\":\"\"},\"colorscale\":[[0.0,\"#0d0887\"],[0.1111111111111111,\"#46039f\"],[0.2222222222222222,\"#7201a8\"],[0.3333333333333333,\"#9c179e\"],[0.4444444444444444,\"#bd3786\"],[0.5555555555555556,\"#d8576b\"],[0.6666666666666666,\"#ed7953\"],[0.7777777777777778,\"#fb9f3a\"],[0.8888888888888888,\"#fdca26\"],[1.0,\"#f0f921\"]]}],\"mesh3d\":[{\"type\":\"mesh3d\",\"colorbar\":{\"outlinewidth\":0,\"ticks\":\"\"}}],\"scatter\":[{\"fillpattern\":{\"fillmode\":\"overlay\",\"size\":10,\"solidity\":0.2},\"type\":\"scatter\"}],\"parcoords\":[{\"type\":\"parcoords\",\"line\":{\"colorbar\":{\"outlinewidth\":0,\"ticks\":\"\"}}}],\"scatterpolargl\":[{\"type\":\"scatterpolargl\",\"marker\":{\"colorbar\":{\"outlinewidth\":0,\"ticks\":\"\"}}}],\"bar\":[{\"error_x\":{\"color\":\"#2a3f5f\"},\"error_y\":{\"color\":\"#2a3f5f\"},\"marker\":{\"line\":{\"color\":\"#E5ECF6\",\"width\":0.5},\"pattern\":{\"fillmode\":\"overlay\",\"size\":10,\"solidity\":0.2}},\"type\":\"bar\"}],\"scattergeo\":[{\"type\":\"scattergeo\",\"marker\":{\"colorbar\":{\"outlinewidth\":0,\"ticks\":\"\"}}}],\"scatterpolar\":[{\"type\":\"scatterpolar\",\"marker\":{\"colorbar\":{\"outlinewidth\":0,\"ticks\":\"\"}}}],\"histogram\":[{\"marker\":{\"pattern\":{\"fillmode\":\"overlay\",\"size\":10,\"solidity\":0.2}},\"type\":\"histogram\"}],\"scattergl\":[{\"type\":\"scattergl\",\"marker\":{\"colorbar\":{\"outlinewidth\":0,\"ticks\":\"\"}}}],\"scatter3d\":[{\"type\":\"scatter3d\",\"line\":{\"colorbar\":{\"outlinewidth\":0,\"ticks\":\"\"}},\"marker\":{\"colorbar\":{\"outlinewidth\":0,\"ticks\":\"\"}}}],\"scattermapbox\":[{\"type\":\"scattermapbox\",\"marker\":{\"colorbar\":{\"outlinewidth\":0,\"ticks\":\"\"}}}],\"scatterternary\":[{\"type\":\"scatterternary\",\"marker\":{\"colorbar\":{\"outlinewidth\":0,\"ticks\":\"\"}}}],\"scattercarpet\":[{\"type\":\"scattercarpet\",\"marker\":{\"colorbar\":{\"outlinewidth\":0,\"ticks\":\"\"}}}],\"carpet\":[{\"aaxis\":{\"endlinecolor\":\"#2a3f5f\",\"gridcolor\":\"white\",\"linecolor\":\"white\",\"minorgridcolor\":\"white\",\"startlinecolor\":\"#2a3f5f\"},\"baxis\":{\"endlinecolor\":\"#2a3f5f\",\"gridcolor\":\"white\",\"linecolor\":\"white\",\"minorgridcolor\":\"white\",\"startlinecolor\":\"#2a3f5f\"},\"type\":\"carpet\"}],\"table\":[{\"cells\":{\"fill\":{\"color\":\"#EBF0F8\"},\"line\":{\"color\":\"white\"}},\"header\":{\"fill\":{\"color\":\"#C8D4E3\"},\"line\":{\"color\":\"white\"}},\"type\":\"table\"}],\"barpolar\":[{\"marker\":{\"line\":{\"color\":\"#E5ECF6\",\"width\":0.5},\"pattern\":{\"fillmode\":\"overlay\",\"size\":10,\"solidity\":0.2}},\"type\":\"barpolar\"}],\"pie\":[{\"automargin\":true,\"type\":\"pie\"}]},\"layout\":{\"autotypenumbers\":\"strict\",\"colorway\":[\"#636efa\",\"#EF553B\",\"#00cc96\",\"#ab63fa\",\"#FFA15A\",\"#19d3f3\",\"#FF6692\",\"#B6E880\",\"#FF97FF\",\"#FECB52\"],\"font\":{\"color\":\"#2a3f5f\"},\"hovermode\":\"closest\",\"hoverlabel\":{\"align\":\"left\"},\"paper_bgcolor\":\"white\",\"plot_bgcolor\":\"#E5ECF6\",\"polar\":{\"bgcolor\":\"#E5ECF6\",\"angularaxis\":{\"gridcolor\":\"white\",\"linecolor\":\"white\",\"ticks\":\"\"},\"radialaxis\":{\"gridcolor\":\"white\",\"linecolor\":\"white\",\"ticks\":\"\"}},\"ternary\":{\"bgcolor\":\"#E5ECF6\",\"aaxis\":{\"gridcolor\":\"white\",\"linecolor\":\"white\",\"ticks\":\"\"},\"baxis\":{\"gridcolor\":\"white\",\"linecolor\":\"white\",\"ticks\":\"\"},\"caxis\":{\"gridcolor\":\"white\",\"linecolor\":\"white\",\"ticks\":\"\"}},\"coloraxis\":{\"colorbar\":{\"outlinewidth\":0,\"ticks\":\"\"}},\"colorscale\":{\"sequential\":[[0.0,\"#0d0887\"],[0.1111111111111111,\"#46039f\"],[0.2222222222222222,\"#7201a8\"],[0.3333333333333333,\"#9c179e\"],[0.4444444444444444,\"#bd3786\"],[0.5555555555555556,\"#d8576b\"],[0.6666666666666666,\"#ed7953\"],[0.7777777777777778,\"#fb9f3a\"],[0.8888888888888888,\"#fdca26\"],[1.0,\"#f0f921\"]],\"sequentialminus\":[[0.0,\"#0d0887\"],[0.1111111111111111,\"#46039f\"],[0.2222222222222222,\"#7201a8\"],[0.3333333333333333,\"#9c179e\"],[0.4444444444444444,\"#bd3786\"],[0.5555555555555556,\"#d8576b\"],[0.6666666666666666,\"#ed7953\"],[0.7777777777777778,\"#fb9f3a\"],[0.8888888888888888,\"#fdca26\"],[1.0,\"#f0f921\"]],\"diverging\":[[0,\"#8e0152\"],[0.1,\"#c51b7d\"],[0.2,\"#de77ae\"],[0.3,\"#f1b6da\"],[0.4,\"#fde0ef\"],[0.5,\"#f7f7f7\"],[0.6,\"#e6f5d0\"],[0.7,\"#b8e186\"],[0.8,\"#7fbc41\"],[0.9,\"#4d9221\"],[1,\"#276419\"]]},\"xaxis\":{\"gridcolor\":\"white\",\"linecolor\":\"white\",\"ticks\":\"\",\"title\":{\"standoff\":15},\"zerolinecolor\":\"white\",\"automargin\":true,\"zerolinewidth\":2},\"yaxis\":{\"gridcolor\":\"white\",\"linecolor\":\"white\",\"ticks\":\"\",\"title\":{\"standoff\":15},\"zerolinecolor\":\"white\",\"automargin\":true,\"zerolinewidth\":2},\"scene\":{\"xaxis\":{\"backgroundcolor\":\"#E5ECF6\",\"gridcolor\":\"white\",\"linecolor\":\"white\",\"showbackground\":true,\"ticks\":\"\",\"zerolinecolor\":\"white\",\"gridwidth\":2},\"yaxis\":{\"backgroundcolor\":\"#E5ECF6\",\"gridcolor\":\"white\",\"linecolor\":\"white\",\"showbackground\":true,\"ticks\":\"\",\"zerolinecolor\":\"white\",\"gridwidth\":2},\"zaxis\":{\"backgroundcolor\":\"#E5ECF6\",\"gridcolor\":\"white\",\"linecolor\":\"white\",\"showbackground\":true,\"ticks\":\"\",\"zerolinecolor\":\"white\",\"gridwidth\":2}},\"shapedefaults\":{\"line\":{\"color\":\"#2a3f5f\"}},\"annotationdefaults\":{\"arrowcolor\":\"#2a3f5f\",\"arrowhead\":0,\"arrowwidth\":1},\"geo\":{\"bgcolor\":\"white\",\"landcolor\":\"#E5ECF6\",\"subunitcolor\":\"white\",\"showland\":true,\"showlakes\":true,\"lakecolor\":\"white\"},\"title\":{\"x\":0.05},\"mapbox\":{\"style\":\"light\"}}}},                        {\"responsive\": true}                    ).then(function(){\n",
       "                            \n",
       "var gd = document.getElementById('deebe726-805e-4c33-a966-5b5a8005dca3');\n",
       "var x = new MutationObserver(function (mutations, observer) {{\n",
       "        var display = window.getComputedStyle(gd).display;\n",
       "        if (!display || display === 'none') {{\n",
       "            console.log([gd, 'removed!']);\n",
       "            Plotly.purge(gd);\n",
       "            observer.disconnect();\n",
       "        }}\n",
       "}});\n",
       "\n",
       "// Listen for the removal of the full notebook cells\n",
       "var notebookContainer = gd.closest('#notebook-container');\n",
       "if (notebookContainer) {{\n",
       "    x.observe(notebookContainer, {childList: true});\n",
       "}}\n",
       "\n",
       "// Listen for the clearing of the current output cell\n",
       "var outputEl = gd.closest('.output');\n",
       "if (outputEl) {{\n",
       "    x.observe(outputEl, {childList: true});\n",
       "}}\n",
       "\n",
       "                        })                };                });            </script>        </div>"
      ]
     },
     "metadata": {},
     "output_type": "display_data"
    }
   ],
   "source": [
    "import pandas as pd\n",
    "import plotly.graph_objs as go\n",
    "\n",
    "\n",
    "# Grouper les données par contributeur et compter le nombre de contributions pour chaque contributeur\n",
    "contributions_count = df.groupby('login').sum()['contributions']\n",
    "\n",
    "# Trier les données par nombre de contributions\n",
    "contributions_count = contributions_count.sort_values(ascending=False)\n",
    "\n",
    "# Sélectionner les 10 premiers contributeurs\n",
    "top_10_contributors = contributions_count[:10]\n",
    "\n",
    "# Créer une liste de chaînes de caractères pour les valeurs numérotées\n",
    "values_text = [f'{i+1}. {value}' for i, value in enumerate(top_10_contributors.values[::-1])]\n",
    "\n",
    "# Créer un objet Trace pour le diagramme à barres horizontales\n",
    "trace = go.Bar(x=top_10_contributors.values[::-1],\n",
    "               y=top_10_contributors.index[::-1],\n",
    "               text=values_text,\n",
    "               orientation='h',\n",
    "               marker=dict(color='#1f77b4'))\n",
    "\n",
    "# Créer un objet Layout pour le diagramme\n",
    "layout = go.Layout(title='Top 10 des contributeurs',\n",
    "                   xaxis=dict(title='Nombre de contributions'),\n",
    "                   yaxis=dict(title='Contributeur',\n",
    "                              tickfont=dict(size=14)))\n",
    "\n",
    "# Créer un objet Figure qui combine les données et la mise en page\n",
    "fig = go.Figure(data=[trace], layout=layout)\n",
    "\n",
    "# Définir le style du titre\n",
    "fig.update_layout(title_font=dict(size=30, family='Arial', color='#333'))\n",
    "\n",
    "# Afficher le diagramme\n",
    "fig.show()"
   ]
  }
 ],
 "metadata": {
  "kernelspec": {
   "display_name": "Python 3 (ipykernel)",
   "language": "python",
   "name": "python3"
  },
  "language_info": {
   "codemirror_mode": {
    "name": "ipython",
    "version": 3
   },
   "file_extension": ".py",
   "mimetype": "text/x-python",
   "name": "python",
   "nbconvert_exporter": "python",
   "pygments_lexer": "ipython3",
   "version": "3.11.3"
  }
 },
 "nbformat": 4,
 "nbformat_minor": 5
}
